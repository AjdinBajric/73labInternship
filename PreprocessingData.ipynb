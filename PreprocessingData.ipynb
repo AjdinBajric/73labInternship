{
 "cells": [
  {
   "cell_type": "code",
   "execution_count": 1,
   "metadata": {},
   "outputs": [],
   "source": [
    "import re"
   ]
  },
  {
   "cell_type": "markdown",
   "metadata": {},
   "source": [
    "### Read text from file"
   ]
  },
  {
   "cell_type": "code",
   "execution_count": 2,
   "metadata": {},
   "outputs": [],
   "source": [
    "with open('Data/linkedInID12-0000tw-05-12114.txt', encoding=\"utf8\") as file: #encoding MUST be utf8\n",
    "    text = file.read()"
   ]
  },
  {
   "cell_type": "markdown",
   "metadata": {},
   "source": [
    "## Clear text\n",
    "The idea was to find that specific expression, because after first match there are just noise in data. So I dropped it."
   ]
  },
  {
   "cell_type": "code",
   "execution_count": 3,
   "metadata": {},
   "outputs": [],
   "source": [
    "expression = r\"{'\\*profilePositionInPositionGroup':\"\n",
    "\n",
    "word = re.search(expression, text)\n",
    "chars = list(text)\n",
    "chars[word.end():] = \"\"\n",
    "\n",
    "text = \"\".join(chars)"
   ]
  },
  {
   "cell_type": "code",
   "execution_count": 4,
   "metadata": {},
   "outputs": [],
   "source": [
    "def get_title(p):\n",
    "    \"\"\"\n",
    "    This function returns title.\n",
    "    \n",
    "    Parameters:\n",
    "    p (int): Index of a char\n",
    "    \n",
    "    Returns:\n",
    "    title (string): Title in that company\n",
    "    \n",
    "    \"\"\"\n",
    "    string = \"', 'title': '\"\n",
    "    sentence = \"\"\n",
    "    title = \"\"\n",
    "    \n",
    "    for s in range(p, len(text)):\n",
    "        if string in sentence:\n",
    "            \n",
    "            for j in range(s, len(text)):\n",
    "                if(text[j] != \"'\"):\n",
    "                    title+=text[j]\n",
    "                else:\n",
    "                    return title\n",
    "        else:\n",
    "            sentence+=text[s]"
   ]
  },
  {
   "cell_type": "code",
   "execution_count": 5,
   "metadata": {},
   "outputs": [],
   "source": [
    "def get_company_name(p):\n",
    "    \"\"\"\n",
    "    This function returns name of a company.\n",
    "    \n",
    "    Parameters:\n",
    "    p (int): Index of a char\n",
    "    \n",
    "    Returns:\n",
    "    company_name (string): Name of a company \n",
    "    \n",
    "    \"\"\"\n",
    "    company_name = \"\"\n",
    "    \n",
    "    for i in range(p, len(text)):\n",
    "        if(text[i]!=\"'\"):\n",
    "            company_name+=text[i]\n",
    "        else:\n",
    "            return company_name"
   ]
  },
  {
   "cell_type": "markdown",
   "metadata": {},
   "source": [
    "## Test\n",
    "Regular expressions used "
   ]
  },
  {
   "cell_type": "code",
   "execution_count": 6,
   "metadata": {},
   "outputs": [],
   "source": [
    "#present_comp_exp = {'start': {'month': \\d{1,2}, 'year': \\d{1,4}, '\\$type': 'com\\.linkedin.common.Date'}, '\\$type': 'com\\.linkedin\\.common\\.DateRange'}, 'multiLocaleCompanyName': {'en_US':\n",
    "#present_just_years = {'start': {'year': \\d{1,4}, '\\$type': 'com\\.linkedin\\.common\\.Date'}, '\\$type': 'com\\.linkedin\\.common\\.DateRange'}, 'multiLocaleCompanyName': {'en_US':\n",
    "\n",
    "#past_comp = {'start': {'month': \\d{1,2}, 'year': \\d{1,4}, '\\$type': 'com\\.linkedin.common.Date'}, 'end': {'month': \\d{1,2}, 'year': \\d{1,4}, '\\$type': 'com\\.linkedin\\.common\\.Date'}, '\\$type': 'com\\.linkedin\\.common\\.DateRange'}, 'multiLocaleCompanyName': {'en_US':\n",
    "#past_just_years = {'start': {'year': \\d{1,4}, '\\$type': 'com\\.linkedin\\.common\\.Date'}, 'end': {'year': \\d{1,4}, '\\$type': 'com\\.linkedin\\.common\\.Date'}, '\\$type': 'com\\.linkedin\\.common\\.DateRange'}, 'multiLocaleCompanyName': {'en_US':\n"
   ]
  },
  {
   "cell_type": "markdown",
   "metadata": {},
   "source": [
    "# Present companies"
   ]
  },
  {
   "cell_type": "code",
   "execution_count": 7,
   "metadata": {},
   "outputs": [
    {
     "name": "stdout",
     "output_type": "stream",
     "text": [
      "Advisor & Co-Founder\n",
      "Apres\n",
      "3.2018 - Present\n",
      "\n",
      "\n",
      "Founder\n",
      "73lab\n",
      "8.2019 - Present\n",
      "\n",
      "\n",
      "Senior Software Engineer\n",
      "Toptal\n",
      "4.2015 - Present\n",
      "\n",
      "\n",
      "Founder\n",
      "Ozon\n",
      "11.2019 - Present\n",
      "\n",
      "\n"
     ]
    }
   ],
   "source": [
    "present_comp_exp = \"{'start': {'month': \\d{1,2}, 'year': \\d{1,4}, '\\$type': 'com\\.linkedin.common.Date'}, '\\$type': 'com\\.linkedin\\.common\\.DateRange'}, 'multiLocaleCompanyName': {'en_US':\"\n",
    "\n",
    "pdf = text\n",
    "end = 0\n",
    "\n",
    "\n",
    "for match in re.findall(present_comp_exp, text):\n",
    "    word = re.search(present_comp_exp, pdf)\n",
    "    start_month = \"\"\n",
    "    start_year = \"\"\n",
    "    start = word.start()+20 #plus 20 is len({'start': {'month': )\n",
    "    \n",
    "    for i in range(start+end, len(text)):\n",
    "        if(text[i] != ','):\n",
    "            start_month+=text[i]\n",
    "        else:\n",
    "            \n",
    "            for j in range(i+10, len(text)): # plus 10 is len(, 'year': )\n",
    "                if(text[j] != ','):\n",
    "                    start_year+=text[j]\n",
    "                else:\n",
    "                    break\n",
    "            break\n",
    "\n",
    "    \n",
    "    company_name = get_company_name(word.end()+end+2) #plus 2 is len( ')\n",
    "    \n",
    "    title = get_title(j)\n",
    "    print(title+\"\\n\"+company_name+\"\\n\"+start_month+\".\"+ start_year+\" - Present\\n\\n\")\n",
    "\n",
    "    pdf = pdf[word.end():]\n",
    "    end+=word.end()\n"
   ]
  },
  {
   "cell_type": "markdown",
   "metadata": {},
   "source": [
    "# Present only years"
   ]
  },
  {
   "cell_type": "code",
   "execution_count": 8,
   "metadata": {},
   "outputs": [
    {
     "name": "stdout",
     "output_type": "stream",
     "text": [
      "Lecturer\n",
      "Sarajevo School of Science and Technology\n",
      "2016 - Present\n",
      "\n",
      "\n"
     ]
    }
   ],
   "source": [
    "present_just_years = r\"{'start': {'year': \\d{1,4}, '\\$type': 'com\\.linkedin\\.common\\.Date'}, '\\$type': 'com\\.linkedin\\.common\\.DateRange'}, 'multiLocaleCompanyName': {'en_US':\"\n",
    "\n",
    "pdf = text\n",
    "end = 0\n",
    "\n",
    "for match in re.findall(present_just_years, text):\n",
    "    word = re.search(present_just_years, pdf)\n",
    "    start_year = \"\"\n",
    "    \n",
    "    start = word.start()+19 #plus 19 is len({'start': {'year': )\n",
    "    \n",
    "    for i in range(start+end, len(text)): # plus end is the most important thing, because you cut the text file in smaller chunks. \n",
    "        if(text[i] != ','):\n",
    "            start_year+=text[i]\n",
    "        else:\n",
    "            break\n",
    "    \n",
    "\n",
    "    company_name = get_company_name(word.end()+end+2) #plus 2 is len( ')\n",
    "\n",
    "    title = get_title(i)\n",
    "    print(title+\"\\n\"+company_name+\"\\n\"+start_year+\" - Present\\n\\n\")\n",
    "\n",
    "\n",
    "    pdf = pdf[word.end():]\n",
    "    end+=word.end()"
   ]
  },
  {
   "cell_type": "markdown",
   "metadata": {},
   "source": [
    "# Past Companies"
   ]
  },
  {
   "cell_type": "code",
   "execution_count": 9,
   "metadata": {},
   "outputs": [
    {
     "name": "stdout",
     "output_type": "stream",
     "text": [
      "Software Engineer\n",
      "Sarajevo International Airport\n",
      "3.2010 - 6.2011\n",
      "\n",
      "\n",
      "Software Engineer\n",
      "Authority Partners Inc.\n",
      "6.2011 - 8.2013\n",
      "\n",
      "\n",
      "Lecturer\n",
      "Academy387\n",
      "6.2014 - 12.2015\n",
      "\n",
      "\n",
      "Solution Architect\n",
      "Maestral Solutions, Inc.\n",
      "9.2014 - 8.2015\n",
      "\n",
      "\n",
      "Co-Founder\n",
      "Ant Colony\n",
      "9.2016 - 7.2019\n",
      "\n",
      "\n",
      "Software Architect\n",
      "Authority Partners Inc.\n",
      "8.2013 - 4.2014\n",
      "\n",
      "\n"
     ]
    }
   ],
   "source": [
    "past_comp = \"{'start': {'month': \\d{1,2}, 'year': \\d{1,4}, '\\$type': 'com\\.linkedin.common.Date'}, 'end': {'month': \\d{1,2}, 'year': \\d{1,4}, '\\$type': 'com\\.linkedin\\.common\\.Date'}, '\\$type': 'com\\.linkedin\\.common\\.DateRange'}, 'multiLocaleCompanyName': {'en_US':\"\n",
    "\n",
    "pdf = text\n",
    "end = 0\n",
    "\n",
    "for match in re.findall(past_comp, text):\n",
    "    word = re.search(past_comp, pdf)\n",
    "    start_month = \"\"\n",
    "    start_year = \"\"\n",
    "    end_month = \"\"\n",
    "    end_year = \"\"\n",
    "    start = word.start() + 20 #plus 20 is len({'start': {'month': )\n",
    "    \n",
    "    for i in range(start+end, len(text)):\n",
    "        if(text[i] != ','):\n",
    "            start_month+=text[i]\n",
    "        else:\n",
    "            \n",
    "            for j in range(i+10, len(text)): #plus 10 is len(, 'year': )\n",
    "                if(text[j] != ','):\n",
    "                    start_year+=text[j]\n",
    "                else:\n",
    "                    break\n",
    "            break\n",
    "            \n",
    "    start = j+57\n",
    "    \n",
    "    for p in range(start, len(text)):\n",
    "        if text[p] != ',':\n",
    "            end_month+=text[p]\n",
    "        else:\n",
    "            \n",
    "            for d in range(p+10, len(text)): #plus 10 is len(, 'year': )\n",
    "                if(text[d] != ','):\n",
    "                    end_year+=text[d]\n",
    "                else:\n",
    "                    break\n",
    "            break\n",
    "    \n",
    "    company_name = get_company_name(word.end()+end+2)\n",
    "\n",
    "    title = get_title(p)\n",
    "    print(title+\"\\n\"+company_name+\"\\n\"+start_month+\".\"+start_year+\" - \" +end_month+\".\"+end_year+\"\\n\\n\")\n",
    "\n",
    "    pdf = pdf[word.end():]\n",
    "    end+=word.end()\n",
    "    "
   ]
  },
  {
   "cell_type": "markdown",
   "metadata": {},
   "source": [
    "# Past only years"
   ]
  },
  {
   "cell_type": "code",
   "execution_count": 10,
   "metadata": {},
   "outputs": [],
   "source": [
    "past_just_years = \"{'start': {'year': \\d{1,4}, '\\$type': 'com\\.linkedin\\.common\\.Date'}, 'end': {'year': \\d{1,4}, '\\$type': 'com\\.linkedin\\.common\\.Date'}, '\\$type': 'com\\.linkedin\\.common\\.DateRange'}, 'multiLocaleCompanyName': {'en_US':\"\n",
    "\n",
    "pdf = text\n",
    "end = 0\n",
    "\n",
    "for match in re.findall(past_just_years, text):\n",
    "    word = re.search(past_just_years, pdf) \n",
    "    \n",
    "    start_year = \"\"\n",
    "    end_year = \"\" \n",
    "    \n",
    "    start = word.start() + 19 #plus 19 is len({'start': {'year': )\n",
    "\n",
    "    for i in range(start+end, len(text)):\n",
    "        if(text[i] != ','):\n",
    "            start_year+=text[i]\n",
    "        else:\n",
    "            \n",
    "            for j in range(i+56, len(text)): #plus 56 is a part of text that does not contain any valuable informations\n",
    "                if(text[j] != ','):\n",
    "                    end_year+=text[j]\n",
    "                else:\n",
    "                    break\n",
    "            break\n",
    "            \n",
    "    company_name = get_company_name(word.end()+end+2)\n",
    "\n",
    "    title = get_title(j)\n",
    "    print(title+\"\\n\"+company_name+\"\\n\"+start_year+\" - \"+ end_year+\"\\n\\n\")\n",
    "\n",
    "    pdf = pdf[word.end():]\n",
    "    end+=word.end()"
   ]
  },
  {
   "cell_type": "code",
   "execution_count": null,
   "metadata": {},
   "outputs": [],
   "source": []
  }
 ],
 "metadata": {
  "kernelspec": {
   "display_name": "Python 3",
   "language": "python",
   "name": "python3"
  },
  "language_info": {
   "codemirror_mode": {
    "name": "ipython",
    "version": 3
   },
   "file_extension": ".py",
   "mimetype": "text/x-python",
   "name": "python",
   "nbconvert_exporter": "python",
   "pygments_lexer": "ipython3",
   "version": "3.8.1"
  }
 },
 "nbformat": 4,
 "nbformat_minor": 4
}

{
 "cells": [
  {
   "cell_type": "markdown",
   "metadata": {},
   "source": [
    "# Data Wrangling\n"
   ]
  },
  {
   "cell_type": "markdown",
   "metadata": {},
   "source": [
    "## Wrong output cases:\n",
    "- Output is not valid if you worked in one company on different positions (Examples: FaikC, OmarD) **`DONE`**\n",
    "- Output is not valid if info part is divided between two pages (Example: NedimC) **`DONE`**\n",
    "\n",
    "Those are tricky ones, but I am going to figure it out. "
   ]
  },
  {
   "cell_type": "code",
   "execution_count": 1,
   "metadata": {},
   "outputs": [],
   "source": [
    "import spacy\n",
    "import pandas as pd\n",
    "import re\n",
    "import en_core_web_sm\n",
    "import slate3k as slate"
   ]
  },
  {
   "cell_type": "code",
   "execution_count": 2,
   "metadata": {},
   "outputs": [],
   "source": [
    "def pdf_to_text(name):\n",
    "    \"\"\"\n",
    "    Returns extracted text from pdf as list of strings. \n",
    "    Each element of list is one page of pdf document.\n",
    "\n",
    "    \"\"\"   \n",
    "    with open(\"Resumes/LinkedIn/\" + name + \".pdf\", 'rb') as f:\n",
    "        extracted_text = slate.PDF(f)\n",
    "    \n",
    "    return extracted_text"
   ]
  },
  {
   "cell_type": "markdown",
   "metadata": {},
   "source": [
    "### Read pdf and concatenate pages in one string"
   ]
  },
  {
   "cell_type": "code",
   "execution_count": 3,
   "metadata": {},
   "outputs": [],
   "source": [
    "nlp = en_core_web_sm.load() #load small spacy model"
   ]
  },
  {
   "cell_type": "code",
   "execution_count": 4,
   "metadata": {},
   "outputs": [],
   "source": [
    "def concat_pages(filename):\n",
    "    \"\"\"Concatenate pages in one string, and returns that string\"\"\"\n",
    "    cv = pdf_to_text(filename)\n",
    "    text = \"\"\n",
    "    \n",
    "    for page in cv:\n",
    "        text+=page\n",
    "    \n",
    "    return text"
   ]
  },
  {
   "cell_type": "code",
   "execution_count": 5,
   "metadata": {
    "scrolled": true
   },
   "outputs": [
    {
     "name": "stderr",
     "output_type": "stream",
     "text": [
      "WARNING:root:Literal required: begin\n"
     ]
    }
   ],
   "source": [
    "doc = nlp(concat_pages(\"FaikC\"))"
   ]
  },
  {
   "cell_type": "markdown",
   "metadata": {},
   "source": [
    "**Here is the output of a pdf file**"
   ]
  },
  {
   "cell_type": "code",
   "execution_count": 6,
   "metadata": {},
   "outputs": [],
   "source": [
    "text = doc.text"
   ]
  },
  {
   "cell_type": "code",
   "execution_count": 7,
   "metadata": {},
   "outputs": [
    {
     "data": {
      "text/plain": [
       "\"Contact\\n\\nfaik.catibusic@gmail.com\\n\\nwww.linkedin.com/in/faik-\\ncatibusic-55190335 (LinkedIn)\\n\\nFaik Catibusic\\n\\nFounder at Ozon\\n\\nSummary\\n\\nTop Skills\\n\\n.NET\\n\\nASP.NET MVC\\n\\nC#\\n\\nLanguages\\n\\nEnglish (Full Professional)\\n\\nBosnian (Native or Bilingual)\\n\\nCertifications\\n\\nStress and conflict management\\n\\nTeamwork and decision making\\n\\nFunctional Programming Principles\\nin Scala by École Polytechnique\\nFédérale de Lausanne on Coursera\\n\\nFaik is a problem solver at heart, passionate about crafting software,\\nwho loves to introduce cutting-edge technologies to new and legacy\\nprojects alike. He is capable of complex software system design and\\nis actively involved in their implementation. Lately, he has focused\\non the design and development of micro-services architecture and\\ntransformation of monolithic systems into ones based on micro-\\nservices.\\n\\nExperience\\n\\nOzon\\n\\nFounder\\n\\nOctober 2019\\xa0-\\xa0Present\\xa0\\n\\nAutomated ranking system for job applicants based on experience extracted\\n\\nfrom CV and cross-referencing with the target position.\\n\\n73lab\\n\\nFounder\\n\\nAugust 2019\\xa0-\\xa0Present\\xa0\\n\\nApres\\n\\nAdvisor & Co-Founder\\n\\nMarch 2018\\xa0-\\xa0Present\\xa0\\n\\nSarajevo School of Science and Technology\\n\\nLecturer\\n\\n2016\\xa0-\\xa0Present\\xa0\\nSarajevo, Bosnia and Herzegovina\\n\\nCSIS 280 - Object-Oriented Programming\\n\\nCS 450 - Independent software development project\\n\\nToptal\\n\\nSenior Software Engineer\\n\\nApril 2015\\xa0-\\xa0Present\\xa0\\n\\nPage 1 of 4\\n\\n\\xa0\\n\\xa0\\n\\xa0\\n\\x0cAnt Colony\\n\\nCo-Founder\\n\\nSeptember 2016\\xa0-\\xa0July 2019\\xa0(2 years 11 months)\\nBosnia and Herzegovina\\n\\nAcademy387\\n\\nLecturer\\n\\nJune 2014\\xa0-\\xa0December 2015\\xa0(1 year 7 months)\\n\\nFirst App in 10 days is course on iOS development with Objective-C and\\n\\nXcode 6. It's designed for those that are already familiar with programming and\\n\\nwant to start building iPhone apps.\\n\\nMaestral Solutions, Inc.\\n\\nSolution Architect\\n\\nSeptember 2014\\xa0-\\xa0August 2015\\xa0(1 year)\\n\\n- Created Swift-based iPhone apps.\\n\\n- Wrote RESTful services backed up with MongoDB databases.\\n\\n- Built a small mobile-first social network.\\n\\n- Wrote Android mobile applications backed up with Square tools.\\n\\n- Developed iPhone applications with Swift Objective-C and CocoaPods.\\n\\n- Worked in agile environment using SCRUM/Kanban methodologies.\\n\\nTechnologies: Swift, Objective-C, AngularJS, NodeJS, MongoDB, Objective-C,\\n\\nSwift, CocoaPods, Git\\n\\nAuthority Partners Inc.\\n\\n2 years 11 months\\n\\nSoftware Architect\\n\\nAugust 2013\\xa0-\\xa0April 2014\\xa0(9 months)\\n\\n- Created SoA complex systems, distributed systems, and mobile-first\\n\\napplications.\\n\\n- Developed enterprise solutions for small to mid size companies.\\n\\n- Built multi-tenant solutions based on web and mobile apps.\\n\\n- Worked in agile environment using SCRUM/Kanban methodologies.\\n\\n- Managed teams with up to 10 members.\\n\\nTechnologies: JavaScrip, KnockoutJS, .NET Framework, C#, iOS, Objective-\\n\\nC, RESTful services, multi-tenant applications, service oriented architectures,\\n\\nmicro services, SharePoint, Team Foundation Server\\n\\nPage 2 of 4\\n\\n\\xa0\\n\\xa0\\n\\xa0\\n\\x0cSoftware Engineer\\n\\nJune 2011\\xa0-\\xa0August 2013\\xa0(2 years 3 months)\\n\\n- Created SoA complex systems, distributed systems, and web-based\\n\\napplications.\\n\\n- Developed enterprise solutions for small to mid size companies.\\n\\n- Built custom-tailored software for the escrow services industry.\\n\\n- Worked in agile environment using SCRUM/Kanban methodologies.\\n\\nTechnologies: JavaScript, jQuery, C#, .NET Framework, Visual Basic, WCF,\\n\\nRESTful services, distributed architectures, service oriented architectures,\\n\\nTeam Foundation Server\\n\\nSarajevo International Airport\\n\\nSoftware Engineer\\n\\nMarch 2010\\xa0-\\xa0June 2011\\xa0(1 year 4 months)\\n\\nWorked on in-house enterprise solutions, including web-based contract\\n\\nmanagement software, automated purchase system, warehouse tracking\\n\\nsolution, and an asset management solution.\\n\\nTechnologies: PHP, JavaScript, jQuery, CSS/HTML, C#, .NET Framework\\n\\nFabrika d.o.o.\\n\\nSystem & Web administrator\\n\\nJune 2008\\xa0-\\xa0May 2009\\xa0(1 year)\\n\\n- Took care of a few CMS systems.\\n\\n- Administrated local windows servers (mail, firewall, active directory etc.) and\\n\\none linux server.\\n\\nTechnologies: PHP, JavaScript, CSS/HTML, IT administration, Windows\\n\\nadministration, Linux administration\\n\\nHERMES SoftLab\\n\\nStudent Internship\\n\\nAugust 2007\\xa0-\\xa0September 2007\\xa0(2 months)\\n\\nWorked on 2D computer-aided design (CAD) software. Mostly on fixing bugs.\\n\\nTechnologies: Windows app development, C++, SVN, automate UI testing\\n\\nEducation\\n\\nPage 3 of 4\\n\\n\\xa0\\n\\xa0\\n\\xa0\\n\\x0cUniverzitet u Sarajevu\\n\\nBS,\\xa0Computer Science\\xa0·\\xa0(2005\\xa0-\\xa02009)\\n\\nDruga Gimnazija Sarajevo\\n\\n\\xa0·\\xa0(2001\\xa0-\\xa02005)\\n\\nPage 4 of 4\\n\\n\\xa0\\n\\xa0\\n\\xa0\\n\\x0c\""
      ]
     },
     "execution_count": 7,
     "metadata": {},
     "output_type": "execute_result"
    }
   ],
   "source": [
    "text"
   ]
  },
  {
   "cell_type": "code",
   "execution_count": 8,
   "metadata": {},
   "outputs": [],
   "source": [
    "def clean_string(text):\n",
    "\n",
    "    '''\n",
    "    Remove part of text which contains something like this:\n",
    "        Page 2 of 3\\n\\n\\xa0\\n\\xa0\\n\\xa0\\n\\x0c\n",
    "        \n",
    "    This part does not contain any valuable information, and sometimes occures wrong answer in the output.\n",
    "    '''\n",
    "    \n",
    "    pdf = text\n",
    "    end = 0\n",
    "    result = \"\"\n",
    "    \n",
    "    expression = r\"Page \\d of \\d\\n\\n\\xa0\\n\\xa0\\n\\xa0\\n\\x0c\" \n",
    "    \n",
    "    for match in re.findall(expression, text): #method `findall` returns all matched words as an array\n",
    "        word = re.search(match, pdf)  #search returns start and the end of a word\n",
    "        pdf = pdf[word.end():] #    pdf = pdf[word.end():] #search returns result after first match, so on the next iteration text file should be from the end of the word, to the end of a document\n",
    "        result+=text[end:word.start() + end] #read text from the end of a last word to the start of the new word \n",
    "        end += word.end()\n",
    "    \n",
    "    return result"
   ]
  },
  {
   "cell_type": "code",
   "execution_count": 9,
   "metadata": {},
   "outputs": [],
   "source": [
    "text = clean_string(text)"
   ]
  },
  {
   "cell_type": "markdown",
   "metadata": {},
   "source": [
    "**Here I tried to get start and end of keywords**"
   ]
  },
  {
   "cell_type": "code",
   "execution_count": 10,
   "metadata": {
    "scrolled": true
   },
   "outputs": [],
   "source": [
    "def get_companies(text, expression):\n",
    "    \n",
    "    \"\"\"\n",
    "    Function finds start and the end of a pattern, and put those numbers in a list.\n",
    "    List of those integers is being returned.\n",
    "    \"\"\"\n",
    "    keys = []\n",
    "    pdf = text\n",
    "    end = 0\n",
    "    \n",
    "    for match in re.findall(expression, text):\n",
    "        word = re.search(expression, pdf)\n",
    "        pdf = pdf[word.end():]\n",
    "        keys.append([word.start() + end, word.end() + end])\n",
    "        end += word.end() \n",
    "    \n",
    "    return keys"
   ]
  },
  {
   "cell_type": "code",
   "execution_count": 11,
   "metadata": {},
   "outputs": [],
   "source": [
    "present_keywords = get_companies(text, r\"\\n\\n.+\\d{1,4}\\xa0-\\xa0Present\\xa0\\n\")"
   ]
  },
  {
   "cell_type": "markdown",
   "metadata": {},
   "source": [
    "## Get company and title"
   ]
  },
  {
   "cell_type": "code",
   "execution_count": 12,
   "metadata": {},
   "outputs": [],
   "source": [
    "def get_info(start):\n",
    "    \"\"\"\n",
    "    This function returns company and title.\n",
    "    \n",
    "    Parameters:\n",
    "    start (int): Start of a word\n",
    "    \n",
    "    Returns:\n",
    "    list[str, str]: [Name of the company, Title in that company]\n",
    "    \n",
    "    \"\"\"\n",
    "    \n",
    "    string = \"\"\n",
    "    for i in reversed(range(start)):\n",
    "        string+=text[i]\n",
    "        if(\"\\n\\n\" in string[::-1]): #reverse an array and check for `\\n\\n`(end of a word) part in the string. \n",
    "            title = string[::-1].strip() #remove /n\n",
    "            \n",
    "            string = \"\"\n",
    "            for j in reversed(range(i)):\n",
    "                string+=text[j]\n",
    "                if(\"\\n\\n\" in string[::-1]):         \n",
    "                    company = string[::-1].strip()\n",
    "                    return [company, title]\n",
    "                            "
   ]
  },
  {
   "cell_type": "code",
   "execution_count": 13,
   "metadata": {},
   "outputs": [],
   "source": [
    "companies = []\n",
    "\n",
    "for key in present_keywords:\n",
    "    companies.append(get_info(key[0])) #get company and title for every date"
   ]
  },
  {
   "cell_type": "code",
   "execution_count": 14,
   "metadata": {},
   "outputs": [],
   "source": [
    "present_dates = [text[keyword[0]:keyword[1]].strip() for keyword in present_keywords]\n",
    "\n",
    "#This part above is just made for second dataframe. It can be deleted.\n",
    "\n",
    "df = pd.DataFrame({\n",
    "    \"Company\": [row[0] for row in companies],\n",
    "    \"Title\": [row[1] for row in companies],\n",
    "    \"Date\": present_dates\n",
    "    \n",
    "})"
   ]
  },
  {
   "cell_type": "code",
   "execution_count": 15,
   "metadata": {},
   "outputs": [
    {
     "data": {
      "text/html": [
       "<div>\n",
       "<style scoped>\n",
       "    .dataframe tbody tr th:only-of-type {\n",
       "        vertical-align: middle;\n",
       "    }\n",
       "\n",
       "    .dataframe tbody tr th {\n",
       "        vertical-align: top;\n",
       "    }\n",
       "\n",
       "    .dataframe thead th {\n",
       "        text-align: right;\n",
       "    }\n",
       "</style>\n",
       "<table border=\"1\" class=\"dataframe\">\n",
       "  <thead>\n",
       "    <tr style=\"text-align: right;\">\n",
       "      <th></th>\n",
       "      <th>Company</th>\n",
       "      <th>Title</th>\n",
       "      <th>Date</th>\n",
       "    </tr>\n",
       "  </thead>\n",
       "  <tbody>\n",
       "    <tr>\n",
       "      <th>0</th>\n",
       "      <td>Ozon</td>\n",
       "      <td>Founder</td>\n",
       "      <td>October 2019 - Present</td>\n",
       "    </tr>\n",
       "    <tr>\n",
       "      <th>1</th>\n",
       "      <td>73lab</td>\n",
       "      <td>Founder</td>\n",
       "      <td>August 2019 - Present</td>\n",
       "    </tr>\n",
       "    <tr>\n",
       "      <th>2</th>\n",
       "      <td>Apres</td>\n",
       "      <td>Advisor &amp; Co-Founder</td>\n",
       "      <td>March 2018 - Present</td>\n",
       "    </tr>\n",
       "    <tr>\n",
       "      <th>3</th>\n",
       "      <td>Sarajevo School of Science and Technology</td>\n",
       "      <td>Lecturer</td>\n",
       "      <td>2016 - Present</td>\n",
       "    </tr>\n",
       "    <tr>\n",
       "      <th>4</th>\n",
       "      <td>Toptal</td>\n",
       "      <td>Senior Software Engineer</td>\n",
       "      <td>April 2015 - Present</td>\n",
       "    </tr>\n",
       "  </tbody>\n",
       "</table>\n",
       "</div>"
      ],
      "text/plain": [
       "                                     Company                     Title  \\\n",
       "0                                       Ozon                   Founder   \n",
       "1                                      73lab                   Founder   \n",
       "2                                      Apres      Advisor & Co-Founder   \n",
       "3  Sarajevo School of Science and Technology                  Lecturer   \n",
       "4                                     Toptal  Senior Software Engineer   \n",
       "\n",
       "                     Date  \n",
       "0  October 2019 - Present  \n",
       "1   August 2019 - Present  \n",
       "2    March 2018 - Present  \n",
       "3          2016 - Present  \n",
       "4    April 2015 - Present  "
      ]
     },
     "execution_count": 15,
     "metadata": {},
     "output_type": "execute_result"
    }
   ],
   "source": [
    "df"
   ]
  },
  {
   "cell_type": "markdown",
   "metadata": {},
   "source": [
    "## Get companies from past"
   ]
  },
  {
   "cell_type": "code",
   "execution_count": 16,
   "metadata": {},
   "outputs": [],
   "source": [
    "def get_past_companies(text):\n",
    "\n",
    "    keys2 = []\n",
    "    pdf = text\n",
    "    end = 0\n",
    "    \n",
    "    expression = r'\\n\\n.+\\d{1,4}\\xa0-\\xa0.+\\d{1,4}\\xa0.+\\n'\n",
    "    \n",
    "    for match in re.findall(expression, doc.text):\n",
    "        print()\n",
    "        date.append(match.strip())\n",
    "        word = re.search(r'\\n\\n.+\\d{1,4}\\xa0-\\xa0.+\\d{1,4}\\xa0.+\\n', pdf)\n",
    "        pdf = pdf[word.end():]\n",
    "        keys2.append([word.start() + end, word.end() + end])\n",
    "        end += word.end() \n",
    "        \n",
    "    return keys2"
   ]
  },
  {
   "cell_type": "code",
   "execution_count": 17,
   "metadata": {},
   "outputs": [],
   "source": [
    "past_companies = get_companies(text, r'\\n\\n.+\\d{1,4}\\xa0-\\xa0.+\\d{1,4}\\xa0.+\\n')"
   ]
  },
  {
   "cell_type": "code",
   "execution_count": 18,
   "metadata": {},
   "outputs": [],
   "source": [
    "for word in past_companies:\n",
    "    companies.append(get_info(word[0]))"
   ]
  },
  {
   "cell_type": "code",
   "execution_count": 19,
   "metadata": {},
   "outputs": [],
   "source": [
    "past_dates = [text[keyword[0]:keyword[1]].strip() for keyword in past_companies]\n",
    "present_dates += past_dates\n",
    "\n",
    "#This part above is just made for dataframe below. It can be deleted.\n",
    "\n",
    "df = pd.DataFrame({\n",
    "    \"Company\": [row[0] for row in companies],\n",
    "    \"Title\": [row[1] for row in companies],\n",
    "    \"Date\": present_dates\n",
    "    \n",
    "})"
   ]
  },
  {
   "cell_type": "code",
   "execution_count": 20,
   "metadata": {},
   "outputs": [
    {
     "data": {
      "text/html": [
       "<div>\n",
       "<style scoped>\n",
       "    .dataframe tbody tr th:only-of-type {\n",
       "        vertical-align: middle;\n",
       "    }\n",
       "\n",
       "    .dataframe tbody tr th {\n",
       "        vertical-align: top;\n",
       "    }\n",
       "\n",
       "    .dataframe thead th {\n",
       "        text-align: right;\n",
       "    }\n",
       "</style>\n",
       "<table border=\"1\" class=\"dataframe\">\n",
       "  <thead>\n",
       "    <tr style=\"text-align: right;\">\n",
       "      <th></th>\n",
       "      <th>Company</th>\n",
       "      <th>Title</th>\n",
       "      <th>Date</th>\n",
       "    </tr>\n",
       "  </thead>\n",
       "  <tbody>\n",
       "    <tr>\n",
       "      <th>0</th>\n",
       "      <td>Ozon</td>\n",
       "      <td>Founder</td>\n",
       "      <td>October 2019 - Present</td>\n",
       "    </tr>\n",
       "    <tr>\n",
       "      <th>1</th>\n",
       "      <td>73lab</td>\n",
       "      <td>Founder</td>\n",
       "      <td>August 2019 - Present</td>\n",
       "    </tr>\n",
       "    <tr>\n",
       "      <th>2</th>\n",
       "      <td>Apres</td>\n",
       "      <td>Advisor &amp; Co-Founder</td>\n",
       "      <td>March 2018 - Present</td>\n",
       "    </tr>\n",
       "    <tr>\n",
       "      <th>3</th>\n",
       "      <td>Sarajevo School of Science and Technology</td>\n",
       "      <td>Lecturer</td>\n",
       "      <td>2016 - Present</td>\n",
       "    </tr>\n",
       "    <tr>\n",
       "      <th>4</th>\n",
       "      <td>Toptal</td>\n",
       "      <td>Senior Software Engineer</td>\n",
       "      <td>April 2015 - Present</td>\n",
       "    </tr>\n",
       "    <tr>\n",
       "      <th>5</th>\n",
       "      <td>Ant Colony</td>\n",
       "      <td>Co-Founder</td>\n",
       "      <td>September 2016 - July 2019 (2 years 11 months)</td>\n",
       "    </tr>\n",
       "    <tr>\n",
       "      <th>6</th>\n",
       "      <td>Academy387</td>\n",
       "      <td>Lecturer</td>\n",
       "      <td>June 2014 - December 2015 (1 year 7 months)</td>\n",
       "    </tr>\n",
       "    <tr>\n",
       "      <th>7</th>\n",
       "      <td>Maestral Solutions, Inc.</td>\n",
       "      <td>Solution Architect</td>\n",
       "      <td>September 2014 - August 2015 (1 year)</td>\n",
       "    </tr>\n",
       "    <tr>\n",
       "      <th>8</th>\n",
       "      <td>2 years 11 months</td>\n",
       "      <td>Software Architect</td>\n",
       "      <td>August 2013 - April 2014 (9 months)</td>\n",
       "    </tr>\n",
       "    <tr>\n",
       "      <th>9</th>\n",
       "      <td>micro services, SharePoint, Team Foundation Se...</td>\n",
       "      <td>Software Engineer</td>\n",
       "      <td>June 2011 - August 2013 (2 years 3 months)</td>\n",
       "    </tr>\n",
       "    <tr>\n",
       "      <th>10</th>\n",
       "      <td>Sarajevo International Airport</td>\n",
       "      <td>Software Engineer</td>\n",
       "      <td>March 2010 - June 2011 (1 year 4 months)</td>\n",
       "    </tr>\n",
       "    <tr>\n",
       "      <th>11</th>\n",
       "      <td>Fabrika d.o.o.</td>\n",
       "      <td>System &amp; Web administrator</td>\n",
       "      <td>June 2008 - May 2009 (1 year)</td>\n",
       "    </tr>\n",
       "    <tr>\n",
       "      <th>12</th>\n",
       "      <td>HERMES SoftLab</td>\n",
       "      <td>Student Internship</td>\n",
       "      <td>August 2007 - September 2007 (2 months)</td>\n",
       "    </tr>\n",
       "  </tbody>\n",
       "</table>\n",
       "</div>"
      ],
      "text/plain": [
       "                                              Company  \\\n",
       "0                                                Ozon   \n",
       "1                                               73lab   \n",
       "2                                               Apres   \n",
       "3           Sarajevo School of Science and Technology   \n",
       "4                                              Toptal   \n",
       "5                                          Ant Colony   \n",
       "6                                          Academy387   \n",
       "7                            Maestral Solutions, Inc.   \n",
       "8                                   2 years 11 months   \n",
       "9   micro services, SharePoint, Team Foundation Se...   \n",
       "10                     Sarajevo International Airport   \n",
       "11                                     Fabrika d.o.o.   \n",
       "12                                     HERMES SoftLab   \n",
       "\n",
       "                         Title                                            Date  \n",
       "0                      Founder                          October 2019 - Present  \n",
       "1                      Founder                           August 2019 - Present  \n",
       "2         Advisor & Co-Founder                            March 2018 - Present  \n",
       "3                     Lecturer                                  2016 - Present  \n",
       "4     Senior Software Engineer                            April 2015 - Present  \n",
       "5                   Co-Founder  September 2016 - July 2019 (2 years 11 months)  \n",
       "6                     Lecturer     June 2014 - December 2015 (1 year 7 months)  \n",
       "7           Solution Architect           September 2014 - August 2015 (1 year)  \n",
       "8           Software Architect             August 2013 - April 2014 (9 months)  \n",
       "9            Software Engineer      June 2011 - August 2013 (2 years 3 months)  \n",
       "10           Software Engineer        March 2010 - June 2011 (1 year 4 months)  \n",
       "11  System & Web administrator                   June 2008 - May 2009 (1 year)  \n",
       "12          Student Internship         August 2007 - September 2007 (2 months)  "
      ]
     },
     "execution_count": 20,
     "metadata": {},
     "output_type": "execute_result"
    }
   ],
   "source": [
    "df"
   ]
  },
  {
   "cell_type": "markdown",
   "metadata": {},
   "source": [
    "# Solving specific cases"
   ]
  },
  {
   "cell_type": "code",
   "execution_count": 21,
   "metadata": {},
   "outputs": [],
   "source": [
    "titles = [row[1] for row in companies]\n",
    "companies = [row[0] for row in companies]"
   ]
  },
  {
   "cell_type": "code",
   "execution_count": 22,
   "metadata": {},
   "outputs": [],
   "source": [
    "def find_keywords(text):\n",
    "    \"\"\"\n",
    "    This function should find all parts in text that are like this:\n",
    "        \\n\\n2 years 11 months\\n\\n\n",
    "    \n",
    "    If statements fix some inaccuracies of regex.\n",
    "    \n",
    "    Parameters:\n",
    "    text (string): Text of a pdf\n",
    "    \n",
    "    Returns:\n",
    "    matched_words (list): Matched words in list. Those words mustn't be (\"less than a year\", \"2016-2020 (4 years)\") or something like that. \n",
    "    \"\"\"\n",
    "\n",
    "    expression = r'\\n\\n\\d.+\\n\\n'\n",
    "    matched_words = []\n",
    "    \n",
    "    for match in re.findall(expression, text):\n",
    "        doc = nlp(match)\n",
    "        for token in doc:\n",
    "            if(token.lemma_ == \"less\" or token.lemma_ == \"-\"):\n",
    "                break\n",
    "            if(token.lemma_ == \"year\" or token.lemma_ == \"month\"):\n",
    "                matched_words.append(match)\n",
    "                break\n",
    "                \n",
    "    return matched_words"
   ]
  },
  {
   "cell_type": "code",
   "execution_count": 23,
   "metadata": {},
   "outputs": [],
   "source": [
    "matched_words = find_keywords(text)"
   ]
  },
  {
   "cell_type": "code",
   "execution_count": 24,
   "metadata": {},
   "outputs": [
    {
     "data": {
      "text/plain": [
       "['\\n\\n2 years 11 months\\n\\n']"
      ]
     },
     "execution_count": 24,
     "metadata": {},
     "output_type": "execute_result"
    }
   ],
   "source": [
    "matched_words"
   ]
  },
  {
   "cell_type": "code",
   "execution_count": 25,
   "metadata": {
    "scrolled": false
   },
   "outputs": [],
   "source": [
    "def get_dates_below(matched_words):\n",
    "    \"\"\"\n",
    "    As you can see in the text, after those keywords there are some dates. If you add first N of those\n",
    "    dates below you should get value which is equal to the keyword. Example:\n",
    "    \n",
    "    Keyword: 2 years 11 months \n",
    "    Dates below: \n",
    "    - August 2013 - April 2014 (9 months)\n",
    "    - June 2011 - August 2013 (2 years 3 months) \n",
    "    - March 2010 - June 2011 (1 year 4 months) \n",
    "    - June 2008 - May 2009 (1 year) \n",
    "    ...\n",
    "    \n",
    "    If you add first two dates, you can realize that the person in that period worked in the same company.\n",
    "    \n",
    "    Parameters:\n",
    "    matched_words (list): keywords which met the rules\n",
    "    \n",
    "    Returns:\n",
    "    array (list): dates below keyword\n",
    "    pom (list): start and the end of dates below keyword\n",
    "    \n",
    "    \"\"\"\n",
    "\n",
    "    keys = []\n",
    "    end = 0\n",
    "    pdf = text\n",
    "    array = []\n",
    "    pom = []\n",
    "    m = []\n",
    "    position_of_keyword = []\n",
    "    \n",
    "    for matched_word in matched_words:\n",
    "        for match in re.findall(matched_word, text):\n",
    "            keys = []\n",
    "            word = re.search(matched_word, pdf)\n",
    "            pdf = pdf[word.end():]\n",
    "            \n",
    "            keys.append([word.start() + end, word.end() + end])\n",
    "            position_of_keyword+=(keys)\n",
    "            end += word.end() \n",
    "            \n",
    "            array.append([text[key[0]:key[1]] for key in past_companies if keys[0][1] < key[1]])\n",
    "            pom.append([[key[0], key[1]] for key in past_companies if keys[0][1] < key[1]])\n",
    "    \n",
    "    return array, pom, position_of_keyword"
   ]
  },
  {
   "cell_type": "code",
   "execution_count": 26,
   "metadata": {},
   "outputs": [],
   "source": [
    "array, pom, position_of_keyword = get_dates_below(matched_words)"
   ]
  },
  {
   "cell_type": "code",
   "execution_count": 27,
   "metadata": {},
   "outputs": [
    {
     "data": {
      "text/plain": [
       "[['\\n\\nAugust 2013\\xa0-\\xa0April 2014\\xa0(9 months)\\n',\n",
       "  '\\n\\nJune 2011\\xa0-\\xa0August 2013\\xa0(2 years 3 months)\\n',\n",
       "  '\\n\\nMarch 2010\\xa0-\\xa0June 2011\\xa0(1 year 4 months)\\n',\n",
       "  '\\n\\nJune 2008\\xa0-\\xa0May 2009\\xa0(1 year)\\n',\n",
       "  '\\n\\nAugust 2007\\xa0-\\xa0September 2007\\xa0(2 months)\\n']]"
      ]
     },
     "execution_count": 27,
     "metadata": {},
     "output_type": "execute_result"
    }
   ],
   "source": [
    "array"
   ]
  },
  {
   "cell_type": "code",
   "execution_count": 28,
   "metadata": {},
   "outputs": [],
   "source": [
    "def get_period(array):\n",
    "    \"\"\"\n",
    "    Get part of matched words from brackets. Example:\n",
    "    \n",
    "    Matched word:\n",
    "    '\\n\\nAugust 2013\\xa0-\\xa0April 2014\\xa0(9 months)\\n'\n",
    "    Output should be:\n",
    "    (9 months)\n",
    "    \n",
    "    Parameters:\n",
    "    array (list): list of dates below keyword\n",
    "    \n",
    "    Returns:\n",
    "    array (list): list of elapsed times between dates\n",
    "    \n",
    "    \"\"\"\n",
    "\n",
    "    experience = []\n",
    "    expression = r'\\(.+\\)'\n",
    "\n",
    "    for i in range(len(array)):\n",
    "        for j in range(len(array[i])):\n",
    "            word = array[i][j]\n",
    "            for match in re.findall(expression, word):\n",
    "                array[i][j] = match\n",
    "    \n",
    "    return array"
   ]
  },
  {
   "cell_type": "code",
   "execution_count": 29,
   "metadata": {},
   "outputs": [],
   "source": [
    "array = get_period(array)"
   ]
  },
  {
   "cell_type": "code",
   "execution_count": 30,
   "metadata": {},
   "outputs": [
    {
     "data": {
      "text/plain": [
       "[['(9 months)',\n",
       "  '(2 years 3 months)',\n",
       "  '(1 year 4 months)',\n",
       "  '(1 year)',\n",
       "  '(2 months)']]"
      ]
     },
     "execution_count": 30,
     "metadata": {},
     "output_type": "execute_result"
    }
   ],
   "source": [
    "array"
   ]
  },
  {
   "cell_type": "code",
   "execution_count": 31,
   "metadata": {},
   "outputs": [],
   "source": [
    "def get_year_and_month(word):\n",
    "    \"\"\"\n",
    "    Get year and month from preprocessed data.\n",
    "    \n",
    "    Parameters:\n",
    "    word (string): elapsed times between dates\n",
    "    \n",
    "    Returns:\n",
    "    (list): Number of years, Number of months\n",
    "    \"\"\"\n",
    "    doc = nlp(word)\n",
    "    month = 0\n",
    "    year = 0\n",
    "    word = 0\n",
    "    \n",
    "    for i in range(len(doc)):\n",
    "        if(doc[i].lemma_ == \"year\"):\n",
    "            year = doc[i-1]\n",
    "        if(doc[i].lemma_ == \"month\"):\n",
    "            month = doc[i-1]\n",
    "    return [int(str(year)), int(str(month))]"
   ]
  },
  {
   "cell_type": "code",
   "execution_count": 32,
   "metadata": {},
   "outputs": [],
   "source": [
    "for p in range(len(matched_words)):\n",
    "    \n",
    "    target_year = get_year_and_month(matched_words[p])[0]\n",
    "    target_month = get_year_and_month(matched_words[p])[1]\n",
    "    \n",
    "    month = 0\n",
    "    year = 0\n",
    "    \n",
    "    string = \"\"\n",
    "    \n",
    "    #Get name of a company. Name of a company is placed above keyword.\n",
    "    for i in reversed(range(position_of_keyword[p][0])):\n",
    "        string+=text[i]\n",
    "        if(\"\\n\\n\" in string[::-1]):\n",
    "            cmp = string[::-1].strip()\n",
    "            break\n",
    " \n",
    "    for j in range(len(array[p])):\n",
    "        \n",
    "        #Add months and years\n",
    "        month += get_year_and_month(array[p][j])[1]\n",
    "        year += get_year_and_month(array[p][j])[0]\n",
    "            \n",
    "        #Check if they are equal to the target_year and target_month\n",
    "        if(year + (month-1)//12 == target_year and (month-1)%12== target_month):\n",
    "            \n",
    "            #Chnage name of a company for all wrong answers\n",
    "            start = companies.index(matched_words[p].strip())\n",
    "            companies[start:start+j+1] = [cmp for i in range(j+1)]\n",
    "            break"
   ]
  },
  {
   "cell_type": "code",
   "execution_count": 33,
   "metadata": {},
   "outputs": [
    {
     "data": {
      "text/html": [
       "<div>\n",
       "<style scoped>\n",
       "    .dataframe tbody tr th:only-of-type {\n",
       "        vertical-align: middle;\n",
       "    }\n",
       "\n",
       "    .dataframe tbody tr th {\n",
       "        vertical-align: top;\n",
       "    }\n",
       "\n",
       "    .dataframe thead th {\n",
       "        text-align: right;\n",
       "    }\n",
       "</style>\n",
       "<table border=\"1\" class=\"dataframe\">\n",
       "  <thead>\n",
       "    <tr style=\"text-align: right;\">\n",
       "      <th></th>\n",
       "      <th>Company</th>\n",
       "      <th>Title</th>\n",
       "      <th>Date</th>\n",
       "    </tr>\n",
       "  </thead>\n",
       "  <tbody>\n",
       "    <tr>\n",
       "      <th>0</th>\n",
       "      <td>Ozon</td>\n",
       "      <td>Founder</td>\n",
       "      <td>October 2019 - Present</td>\n",
       "    </tr>\n",
       "    <tr>\n",
       "      <th>1</th>\n",
       "      <td>73lab</td>\n",
       "      <td>Founder</td>\n",
       "      <td>August 2019 - Present</td>\n",
       "    </tr>\n",
       "    <tr>\n",
       "      <th>2</th>\n",
       "      <td>Apres</td>\n",
       "      <td>Advisor &amp; Co-Founder</td>\n",
       "      <td>March 2018 - Present</td>\n",
       "    </tr>\n",
       "    <tr>\n",
       "      <th>3</th>\n",
       "      <td>Sarajevo School of Science and Technology</td>\n",
       "      <td>Lecturer</td>\n",
       "      <td>2016 - Present</td>\n",
       "    </tr>\n",
       "    <tr>\n",
       "      <th>4</th>\n",
       "      <td>Toptal</td>\n",
       "      <td>Senior Software Engineer</td>\n",
       "      <td>April 2015 - Present</td>\n",
       "    </tr>\n",
       "    <tr>\n",
       "      <th>5</th>\n",
       "      <td>Ant Colony</td>\n",
       "      <td>Co-Founder</td>\n",
       "      <td>September 2016 - July 2019 (2 years 11 months)</td>\n",
       "    </tr>\n",
       "    <tr>\n",
       "      <th>6</th>\n",
       "      <td>Academy387</td>\n",
       "      <td>Lecturer</td>\n",
       "      <td>June 2014 - December 2015 (1 year 7 months)</td>\n",
       "    </tr>\n",
       "    <tr>\n",
       "      <th>7</th>\n",
       "      <td>Maestral Solutions, Inc.</td>\n",
       "      <td>Solution Architect</td>\n",
       "      <td>September 2014 - August 2015 (1 year)</td>\n",
       "    </tr>\n",
       "    <tr>\n",
       "      <th>8</th>\n",
       "      <td>Authority Partners Inc.</td>\n",
       "      <td>Software Architect</td>\n",
       "      <td>August 2013 - April 2014 (9 months)</td>\n",
       "    </tr>\n",
       "    <tr>\n",
       "      <th>9</th>\n",
       "      <td>Authority Partners Inc.</td>\n",
       "      <td>Software Engineer</td>\n",
       "      <td>June 2011 - August 2013 (2 years 3 months)</td>\n",
       "    </tr>\n",
       "    <tr>\n",
       "      <th>10</th>\n",
       "      <td>Sarajevo International Airport</td>\n",
       "      <td>Software Engineer</td>\n",
       "      <td>March 2010 - June 2011 (1 year 4 months)</td>\n",
       "    </tr>\n",
       "    <tr>\n",
       "      <th>11</th>\n",
       "      <td>Fabrika d.o.o.</td>\n",
       "      <td>System &amp; Web administrator</td>\n",
       "      <td>June 2008 - May 2009 (1 year)</td>\n",
       "    </tr>\n",
       "    <tr>\n",
       "      <th>12</th>\n",
       "      <td>HERMES SoftLab</td>\n",
       "      <td>Student Internship</td>\n",
       "      <td>August 2007 - September 2007 (2 months)</td>\n",
       "    </tr>\n",
       "  </tbody>\n",
       "</table>\n",
       "</div>"
      ],
      "text/plain": [
       "                                      Company                       Title  \\\n",
       "0                                        Ozon                     Founder   \n",
       "1                                       73lab                     Founder   \n",
       "2                                       Apres        Advisor & Co-Founder   \n",
       "3   Sarajevo School of Science and Technology                    Lecturer   \n",
       "4                                      Toptal    Senior Software Engineer   \n",
       "5                                  Ant Colony                  Co-Founder   \n",
       "6                                  Academy387                    Lecturer   \n",
       "7                    Maestral Solutions, Inc.          Solution Architect   \n",
       "8                     Authority Partners Inc.          Software Architect   \n",
       "9                     Authority Partners Inc.           Software Engineer   \n",
       "10             Sarajevo International Airport           Software Engineer   \n",
       "11                             Fabrika d.o.o.  System & Web administrator   \n",
       "12                             HERMES SoftLab          Student Internship   \n",
       "\n",
       "                                              Date  \n",
       "0                           October 2019 - Present  \n",
       "1                            August 2019 - Present  \n",
       "2                             March 2018 - Present  \n",
       "3                                   2016 - Present  \n",
       "4                             April 2015 - Present  \n",
       "5   September 2016 - July 2019 (2 years 11 months)  \n",
       "6      June 2014 - December 2015 (1 year 7 months)  \n",
       "7            September 2014 - August 2015 (1 year)  \n",
       "8              August 2013 - April 2014 (9 months)  \n",
       "9       June 2011 - August 2013 (2 years 3 months)  \n",
       "10        March 2010 - June 2011 (1 year 4 months)  \n",
       "11                   June 2008 - May 2009 (1 year)  \n",
       "12         August 2007 - September 2007 (2 months)  "
      ]
     },
     "execution_count": 33,
     "metadata": {},
     "output_type": "execute_result"
    }
   ],
   "source": [
    "df = pd.DataFrame({\n",
    "    \"Company\": companies,\n",
    "    \"Title\": titles,\n",
    "    \"Date\": present_dates\n",
    "    \n",
    "})\n",
    "\n",
    "df"
   ]
  },
  {
   "cell_type": "code",
   "execution_count": null,
   "metadata": {},
   "outputs": [],
   "source": []
  }
 ],
 "metadata": {
  "kernelspec": {
   "display_name": "Python 3",
   "language": "python",
   "name": "python3"
  },
  "language_info": {
   "codemirror_mode": {
    "name": "ipython",
    "version": 3
   },
   "file_extension": ".py",
   "mimetype": "text/x-python",
   "name": "python",
   "nbconvert_exporter": "python",
   "pygments_lexer": "ipython3",
   "version": "3.8.1"
  }
 },
 "nbformat": 4,
 "nbformat_minor": 2
}

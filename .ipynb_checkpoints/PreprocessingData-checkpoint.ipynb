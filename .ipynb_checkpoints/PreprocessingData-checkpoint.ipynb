{
 "cells": [
  {
   "cell_type": "code",
   "execution_count": 10,
   "metadata": {},
   "outputs": [],
   "source": [
    "import re"
   ]
  },
  {
   "cell_type": "code",
   "execution_count": 11,
   "metadata": {},
   "outputs": [],
   "source": [
    "with open('Data/linkedInID12-0108wb-70-31300.txt', encoding=\"utf8\") as file:\n",
    "    text = file.read()"
   ]
  },
  {
   "cell_type": "markdown",
   "metadata": {},
   "source": [
    "## Clear text"
   ]
  },
  {
   "cell_type": "code",
   "execution_count": 12,
   "metadata": {},
   "outputs": [],
   "source": [
    "expression = r\"{'\\*profilePositionInPositionGroup':\"\n",
    "\n",
    "\n",
    "word = re.search(expression, text)\n",
    "chars = list(text)\n",
    "chars[word.end():] = \"\"\n",
    "\n",
    "text = \"\".join(chars)"
   ]
  },
  {
   "cell_type": "code",
   "execution_count": 19,
   "metadata": {},
   "outputs": [],
   "source": [
    "def get_title(p):\n",
    "\n",
    "    string = \"', 'title': '\"\n",
    "    poc = \"\"\n",
    "    title = \"\"\n",
    "    \n",
    "    for s in range(p, len(text)):\n",
    "        if string in poc:\n",
    "            \n",
    "            for j in range(s, len(text)):\n",
    "                if(text[j] != \"'\"):\n",
    "                    title+=text[j]\n",
    "                else:\n",
    "                    return title\n",
    "        else:\n",
    "            poc+=text[s]"
   ]
  },
  {
   "cell_type": "code",
   "execution_count": 24,
   "metadata": {},
   "outputs": [],
   "source": [
    "def get_company_name(p):\n",
    "    \n",
    "    company_name = \"\"\n",
    "    \n",
    "    for i in range(p, len(text)):\n",
    "        if(text[i]!=\"'\"):\n",
    "            company_name+=text[i]\n",
    "        else:\n",
    "            return company_name"
   ]
  },
  {
   "cell_type": "markdown",
   "metadata": {},
   "source": [
    "## Test"
   ]
  },
  {
   "cell_type": "code",
   "execution_count": 13,
   "metadata": {},
   "outputs": [
    {
     "name": "stdout",
     "output_type": "stream",
     "text": [
      "{'start': {'month': 1, 'year': 2018, '$type': 'com.linkedin.common.Date'}, '$type': 'com.linkedin.common.DateRange'}, '*company': 'urn:li:fsd_company:1337', 'companyUrn': 'urn:li:fsd_company:1337', '$recipeTypes': ['com.linkedin.voyager.dash.deco.identity.profile.FullProfileCertification'], 'url': 'http://www.linkedin.com/learning/gretchen-rubin-on-creating-great-workplace-habits', '$type': 'com.linkedin.voyager.dash.identity.profile.Certification', 'multiLocaleAuthority': {'en_US': 'LinkedIn'}, 'entityUrn': 'urn:li:fsd_profileCertification:(ACoAABHDPxsBmEkUhUk3TMkPERaHOW6uYgqm4as,1764322755)', 'authority': 'LinkedIn', 'name': 'Gretchen Rubin on Creating Great Workplace Habits', 'multiLocaleName': {'en_US': 'Gretchen Rubin on Creating Great Workplace Habits'}, 'displaySource': 'linkedin.com'}, {'dateRange': {'start': {'year': 2015, '$type': 'com.linkedin.common.Date'}, '$type': 'com.linkedin.common.DateRange'}, '*company': 'urn:li:fsd_company:357877', 'companyUrn': 'urn:li:fsd_company:357877', '$recipeTypes': ['com.linkedin.voyager.dash.deco.identity.profile.FullProfileCertification'], '$type': 'com.linkedin.voyager.dash.identity.profile.Certification', 'multiLocaleAuthority': {'en_US': 'ISTQB - International Software Testing Qualifications Board'}, 'entityUrn': 'urn:li:fsd_profileCertification:(ACoAABHDPxsBmEkUhUk3TMkPERaHOW6uYgqm4as,336063892)', 'authority': 'ISTQB - International Software Testing Qualifications Board', 'name': 'ISTQB', 'multiLocaleName': {'en_US': 'ISTQB'}}, {'dateRange': {'start': {'month': 1, 'year': 2018, '$type': 'com.linkedin.common.Date'}, '$type': 'com.linkedin.common.DateRange'}, '*company': 'urn:li:fsd_company:1337', 'companyUrn': 'urn:li:fsd_company:1337', '$recipeTypes': ['com.linkedin.voyager.dash.deco.identity.profile.FullProfileCertification'], 'url': 'http://www.linkedin.com/learning/finding-your-introvert-extrovert-balance-in-the-workplace', '$type': 'com.linkedin.voyager.dash.identity.profile.Certification', 'multiLocaleAuthority': {'en_US': 'LinkedIn'}, 'entityUrn': 'urn:li:fsd_profileCertification:(ACoAABHDPxsBmEkUhUk3TMkPERaHOW6uYgqm4as,1764322754)', 'authority': 'LinkedIn', 'name': 'Finding Your Introvert/Extrovert Balance in the Workplace', 'multiLocaleName': {'en_US': 'Finding Your Introvert/Extrovert Balance in the Workplace'}, 'displaySource': 'linkedin.com'}, {'dateRange': {'start': {'month': 1, 'year': 2018, '$type': 'com.linkedin.common.Date'}, '$type': 'com.linkedin.common.DateRange'}, '*company': 'urn:li:fsd_company:1337', 'companyUrn': 'urn:li:fsd_company:1337', '$recipeTypes': ['com.linkedin.voyager.dash.deco.identity.profile.FullProfileCertification'], 'url': 'http://www.linkedin.com/learning/body-language-for-leaders', '$type': 'com.linkedin.voyager.dash.identity.profile.Certification', 'multiLocaleAuthority': {'en_US': 'LinkedIn'}, 'entityUrn': 'urn:li:fsd_profileCertification:(ACoAABHDPxsBmEkUhUk3TMkPERaHOW6uYgqm4as,1764322753)', 'authority': 'LinkedIn', 'name': 'Body Language for Leaders', 'multiLocaleName': {'en_US': 'Body Language for Leaders'}, 'displaySource': 'linkedin.com'}, {'dateRange': {'start': {'month': 6, 'year': 2017, '$type': 'com.linkedin.common.Date'}, '$type': 'com.linkedin.common.DateRange'}, '*company': 'urn:li:fsd_company:1153894', 'companyUrn': 'urn:li:fsd_company:1153894', '$recipeTypes': ['com.linkedin.voyager.dash.deco.identity.profile.FullProfileCertification'], '$type': 'com.linkedin.voyager.dash.identity.profile.Certification', 'multiLocaleAuthority': {'en_US': 'Scrum.org'}, 'entityUrn': 'urn:li:fsd_profileCertification:(ACoAABHDPxsBmEkUhUk3TMkPERaHOW6uYgqm4as,1764322752)', 'authority': 'Scrum.org', 'name': 'Professional Product Owner I', 'multiLocaleName': {'en_US': 'Professional Product Owner I'}}, {'dateRange': {'start': {'month': 11, 'year': 2018, '$type': 'com.linkedin.common.Date'}, '$type': 'com.linkedin.common.DateRange'}, '*company': 'urn:li:fsd_company:10155496', 'companyUrn': 'urn:li:fsd_company:10155496', '$recipeTypes': ['com.linkedin.voyager.dash.deco.identity.profile.FullProfileCertification'], '$type': 'com.linkedin.voyager.dash.identity.profile.Certification', 'multiLocaleAuthority': {'en_US': 'ACADEMY387'}, 'entityUrn': 'urn:li:fsd_profileCertification:(ACoAABHDPxsBmEkUhUk3TMkPERaHOW6uYgqm4as,577160307)', 'authority': 'ACADEMY387', 'name': 'Certiﬁed Web Application Security Professional (CWASP) Course', 'multiLocaleName': {'en_US': 'Certiﬁed Web Application Security Professional (CWASP) Course'}}, {'dateRange': {'start': {'month': 4, 'year': 2017, '$type': 'com.linkedin.common.Date'}, '$type': 'com.linkedin.common.DateRange'}, '*company': 'urn:li:fsd_company:1153894', 'companyUrn': 'urn:li:fsd_company:1153894', '$recipeTypes': ['com.linkedin.voyager.dash.deco.identity.profile.FullProfileCertification'], '$type': 'com.linkedin.voyager.dash.identity.profile.Certification', 'multiLocaleAuthority': {'en_US': 'Scrum.org'}, 'entityUrn': 'urn:li:fsd_profileCertification:(ACoAABHDPxsBmEkUhUk3TMkPERaHOW6uYgqm4as,103347857)', 'authority': 'Scrum.org', 'name': 'Professional Scrum Master I', 'multiLocaleName': {'en_US': 'Professional Scrum Master I'}}, {'dateRange': {'start': {'year': 2012, '$type': 'com.linkedin.common.Date'}, 'end': {'year': 2015, '$type': 'com.linkedin.common.Date'}, '$type': 'com.linkedin.common.DateRange'}, 'degreeName': \"Master's degree\", '*profileTreasuryMediaEducation': 'urn:li:collectionResponse:w+10Y7h3VtVyiPMyPZnhaLKK4PjIhKqkYym8RmpHTEo=', '$recipeTypes': ['com.linkedin.voyager.dash.deco.identity.profile.FullProfileEducation'], 'multiLocaleSchoolName': {'en_US': 'School of Economics and Business Sarajevo'}, 'schoolUrn': 'urn:li:fsd_school:3154005', '$type': 'com.linkedin.voyager.dash.identity.profile.Education', 'entityUrn': 'urn:li:fsd_profileEducation:(ACoAABHDPxsBmEkUhUk3TMkPERaHOW6uYgqm4as,296701715)', '*school': 'urn:li:fsd_school:3154005', 'multiLocaleFieldOfStudy': {'en_US': 'Marketing/Marketing Management, General'}, 'schoolName': 'School of Economics and Business Sarajevo', 'fieldOfStudy': 'Marketing/Marketing Management, General', 'multiLocaleDegreeName': {'en_US': \"Master's degree\"}}, {'dateRange': {'start': {'year': 2007, '$type': 'com.linkedin.common.Date'}, 'end': {'year': 2010, '$type': 'com.linkedin.common.Date'}, '$type': 'com.linkedin.common.DateRange'}, '*profileTreasuryMediaEducation': 'urn:li:collectionResponse:friq8f6PUxRJ+u/5kBIMw2opIz+keCXE9h9CblqP9hg=', 'schoolUrn': 'urn:li:fsd_school:3154005', 'entityUrn': 'urn:li:fsd_profileEducation:(ACoAABHDPxsBmEkUhUk3TMkPERaHOW6uYgqm4as,234608546)', 'schoolName': 'School of Economics and Business Sarajevo', 'fieldOfStudy': 'Development of Business Information Systems', 'degreeName': \"Bachelor's degree\", 'multiLocaleGrade': {'en_US': '10'}, '$recipeTypes': ['com.linkedin.voyager.dash.deco.identity.profile.FullProfileEducation'], 'multiLocaleSchoolName': {'en_US': 'School of Economics and Business Sarajevo'}, '$type': 'com.linkedin.voyager.dash.identity.profile.Education', 'grade': '10', '*school': 'urn:li:fsd_school:3154005', 'multiLocaleFieldOfStudy': {'en_US': 'Development of Business Information Systems'}, 'multiLocaleDegreeName': {'en_US': \"Bachelor's degree\"}}, {'entityUrn': 'urn:li:fsd_profileEducation:(ACoAABHDPxsBmEkUhUk3TMkPERaHOW6uYgqm4as,358081933)', 'dateRange': {'start': {'year': 1995, '$type': 'com.linkedin.common.Date'}, 'end': {'year': 2007, '$type': 'com.linkedin.common.Date'}, '$type': 'com.linkedin.common.DateRange'}, 'schoolName': 'KSC sv josip', '*profileTreasuryMediaEducation': 'urn:li:collectionResponse:gI++VBIxLDg9d25c22S02m6C5+qZf792q8WRohw45oo=', '$recipeTypes': ['com.linkedin.voyager.dash.deco.identity.profile.FullProfileEducation'], 'multiLocaleSchoolName': {'en_US': 'KSC sv josip'}, '$type': 'com.linkedin.voyager.dash.identity.profile.Education'}, {'entityUrn': 'urn:li:fsd_profileLanguage:(ACoAABHDPxsBmEkUhUk3TMkPERaHOW6uYgqm4as,1)', 'name': 'Bosnian', 'multiLocaleName': {'en_US': 'Bosnian'}, '$recipeTypes': ['com.linkedin.voyager.dash.deco.identity.profile.FullProfileLanguage'], 'proficiency': 'NATIVE_OR_BILINGUAL', '$type': 'com.linkedin.voyager.dash.identity.profile.Language'}, {'entityUrn': 'urn:li:fsd_profileLanguage:(ACoAABHDPxsBmEkUhUk3TMkPERaHOW6uYgqm4as,13)', 'name': 'English', 'multiLocaleName': {'en_US': 'English'}, '$recipeTypes': ['com.linkedin.voyager.dash.deco.identity.profile.FullProfileLanguage'], 'proficiency': 'NATIVE_OR_BILINGUAL', '$type': 'com.linkedin.voyager.dash.identity.profile.Language'}, {'*profileTreasuryMediaPosition': 'urn:li:collectionResponse:m60do9fxv722fibiDJLMysendpK8E37X0OAWtCbEBEU=', 'multiLocaleTitle': {'en_US': 'Intern'}, 'dateRange': {'start': {'month': 6, 'year': 2011, '$type': 'com.linkedin.common.Date'}, 'end': {'month': 5, 'year': 2012, '$type': 'com.linkedin.common.Date'}, '$type': 'com.linkedin.common.DateRange'}, 'multiLocaleCompanyName': {'en_US': 'High Judicial and Prosecutorial Council of Bosnia and Herzegovina'}, 'companyName': 'High Judicial and Prosecutorial Council of Bosnia and Herzegovina', '*company': 'urn:li:fsd_company:3045558', 'title': 'Intern', 'companyUrn': 'urn:li:fsd_company:3045558', '$recipeTypes': ['com.linkedin.voyager.dash.deco.identity.profile.FullProfilePosition'], '$type': 'com.linkedin.voyager.dash.identity.profile.Position', 'entityUrn': 'urn:li:fsd_profilePosition:(ACoAABHDPxsBmEkUhUk3TMkPERaHOW6uYgqm4as,563389916)'}, {'dateRange': {'start': {'month': 7, 'year': 2014, '$type': 'com.linkedin.common.Date'}, 'end': {'month': 2, 'year': 2017, '$type': 'com.linkedin.common.Date'}, '$type': 'com.linkedin.common.DateRange'}, 'multiLocaleCompanyName': {'en_US': 'Mistral Technologies'}, 'companyName': 'Mistral Technologies', '*company': 'urn:li:fsd_company:2619867', 'title': 'QA Engineer', 'companyUrn': 'urn:li:fsd_company:2619867', 'entityUrn': 'urn:li:fsd_profilePosition:(ACoAABHDPxsBmEkUhUk3TMkPERaHOW6uYgqm4as,572327366)', 'multiLocaleGeoLocationName': {'en_US': 'Sarajevo, Bosnia and Herzegovina'}, 'locationName': 'Sarajevo, Bosnia and Herzegovina', '*profileTreasuryMediaPosition': 'urn:li:collectionResponse:QIvmOy1ucvac5YvOe2Bs/xUNmAGz6WDoAFnK7xAy+AI=', 'multiLocaleTitle': {'en_US': 'QA Engineer'}, '$recipeTypes': ['com.linkedin.voyager.dash.deco.identity.profile.FullProfilePosition'], '$type': 'com.linkedin.voyager.dash.identity.profile.Position', 'geoLocationName': 'Sarajevo, Bosnia and Herzegovina', 'multiLocaleLocationName': {'en_US': 'Sarajevo, Bosnia and Herzegovina'}}, {'dateRange': {'start': {'month': 1, 'year': 2018, '$type': 'com.linkedin.common.Date'}, '$type': 'com.linkedin.common.DateRange'}, 'multiLocaleCompanyName': {'en_US': 'Mistral '}, 'companyName': 'Mistral ', 'description': 'Extensive experience through 15+ projects for manual functional/compatibility testing of web/mobile apps (iOS / Android ), websites.\\xa0 \\n\\nAnalysis of client speciﬁcations and translating project requirements to task speciﬁcations for testing execution.\\xa0 \\n\\nWriting clear test plans and test cases with clear steps and expected results.\\xa0 \\n\\nWriting Bug Tickets from a technical point of view with inclusion for ﬁxes.\\xa0 \\n\\nInvolved in ﬁnding the cause of problems, looking for and choosing effective solutions. \\n\\nPreparing and holding presentations/demos to client audiences or professional peers.\\xa0 \\n\\nStrong understanding of User Experience.\\xa0 \\n\\nExceptional knowledge of software development life-cycle and how it intersects test practices and quality assurance.\\xa0 \\n\\nStrong understanding of cloud technology and security protocols.\\xa0', '*company': 'urn:li:fsd_company:2619867', 'title': 'QA Engineer', 'companyUrn': 'urn:li:fsd_company:2619867', 'entityUrn': 'urn:li:fsd_profilePosition:(ACoAABHDPxsBmEkUhUk3TMkPERaHOW6uYgqm4as,1244759445)', 'multiLocaleGeoLocationName': {'en_US': 'Sarajevo'}, 'locationName': 'Sarajevo', '*profileTreasuryMediaPosition': 'urn:li:collectionResponse:dblZshq8HbPTN7c/LqSBv1qI2cbwZBsTtARExA0AdmM=', 'multiLocaleTitle': {'en_US': 'QA Engineer'}, '$recipeTypes': ['com.linkedin.voyager.dash.deco.identity.profile.FullProfilePosition'], '$type': 'com.linkedin.voyager.dash.identity.profile.Position', 'geoLocationName': 'Sarajevo', 'multiLocaleDescription': {'en_US': 'Extensive experience through 15+ projects for manual functional/compatibility testing of web/mobile apps (iOS / Android ), websites.\\xa0 \\n\\nAnalysis of client speciﬁcations and translating project requirements to task speciﬁcations for testing execution.\\xa0 \\n\\nWriting clear test plans and test cases with clear steps and expected results.\\xa0 \\n\\nWriting Bug Tickets from a technical point of view with inclusion for ﬁxes.\\xa0 \\n\\nInvolved in ﬁnding the cause of problems, looking for and choosing effective solutions. \\n\\nPreparing and holding presentations/demos to client audiences or professional peers.\\xa0 \\n\\nStrong understanding of User Experience.\\xa0 \\n\\nExceptional knowledge of software development life-cycle and how it intersects test practices and quality assurance.\\xa0 \\n\\nStrong understanding of cloud technology and security protocols.\\xa0'}, 'multiLocaleLocationName': {'en_US': 'Sarajevo'}}, {'*profileTreasuryMediaPosition': 'urn:li:collectionResponse:0Ng7gTx5WJ1jyzTaLP7KmhZOQhvYj4kY9+gYYQTQ4+A=', 'multiLocaleTitle': {'en_US': 'Database analyst'}, 'dateRange': {'start': {'month': 2, 'year': 2013, '$type': 'com.linkedin.common.Date'}, 'end': {'month': 1, 'year': 2014, '$type': 'com.linkedin.common.Date'}, '$type': 'com.linkedin.common.DateRange'}, 'multiLocaleCompanyName': {'en_US': 'International Commission on Missing Persons (ICMP)'}, 'companyName': 'International Commission on Missing Persons (ICMP)', '*company': 'urn:li:fsd_company:3701345', 'title': 'Database analyst', 'companyUrn': 'urn:li:fsd_company:3701345', '$recipeTypes': ['com.linkedin.voyager.dash.deco.identity.profile.FullProfilePosition'], '$type': 'com.linkedin.voyager.dash.identity.profile.Position', 'entityUrn': 'urn:li:fsd_profilePosition:(ACoAABHDPxsBmEkUhUk3TMkPERaHOW6uYgqm4as,472036579)'}, {'dateRange': {'start': {'year': 2007, '$type': 'com.linkedin.common.Date'}, 'end': {'year': 2012, '$type': 'com.linkedin.common.Date'}, '$type': 'com.linkedin.common.DateRange'}, 'multiLocaleCompanyName': {'en_US': 'Groupe SEB'}, 'companyName': 'Groupe SEB', '*company': 'urn:li:fsd_company:164065', 'title': 'Sales Promoter', 'companyUrn': 'urn:li:fsd_company:164065', 'entityUrn': 'urn:li:fsd_profilePosition:(ACoAABHDPxsBmEkUhUk3TMkPERaHOW6uYgqm4as,700782538)', 'multiLocaleGeoLocationName': {'en_US': 'Bosnia and Herzegovina'}, '*profileTreasuryMediaPosition': 'urn:li:collectionResponse:prhOYyDmh2wQ5oCOtitZJEDjn4xGjBoYOcHi+vogY1w=', 'multiLocaleTitle': {'en_US': 'Sales Promoter'}, 'geoUrn': 'urn:li:fsd_geo:102869081', '$recipeTypes': ['com.linkedin.voyager.dash.deco.identity.profile.FullProfilePosition'], '$type': 'com.linkedin.voyager.dash.identity.profile.Position', 'regionUrn': 'urn:li:fsd_region:(ba,0)', 'geoLocationName': 'Bosnia and Herzegovina'}, {'*profileTreasuryMediaPosition': 'urn:li:collectionResponse:v2ggRDqgrp70SNtp0usfcMWVBa47q8s4IZR2X4VUs4Q=', 'multiLocaleTitle': {'en_US': 'IT Project Manager'}, 'dateRange': {'start': {'month': 1, 'year': 2017, '$type': 'com.linkedin.common.Date'}, 'end': {'month': 3, 'year': 2018, '$type': 'com.linkedin.common.Date'}, '$type': 'com.linkedin.common.DateRange'}, 'multiLocaleCompanyName': {'en_US': 'Mistral Technologies'}, 'companyName': 'Mistral Technologies', '*company': 'urn:li:fsd_company:2619867', 'title': 'IT Project Manager', 'companyUrn': 'urn:li:fsd_company:2619867', '$recipeTypes': ['com.linkedin.voyager.dash.deco.identity.profile.FullProfilePosition'], '$type': 'com.linkedin.voyager.dash.identity.profile.Position', 'entityUrn': 'urn:li:fsd_profilePosition:(ACoAABHDPxsBmEkUhUk3TMkPERaHOW6uYgqm4as,1000481552)'}, {'*profilePositionInPositionGroup':\n"
     ]
    }
   ],
   "source": [
    "expression = r\"{'start': {'month':.+, 'year':.+, '\\$type': 'com\\.linkedin\\.common\\.Date'}, 'end': {'month':.+, 'year':.+, '\\$type': 'com\\.linkedin\\.common\\.Date'}, '\\$type': 'com\\.linkedin\\.common\\.DateRange'}, 'multiLocaleCompanyName': {'en_US':.+}, 'companyName':.+, 'title':.+\"\n",
    "\n",
    "pdf = text\n",
    "end = 0\n",
    "\n",
    "for match in re.findall(expression,text):\n",
    "    word = re.search(expression, pdf)\n",
    "    pdf = pdf[word.end():]\n",
    "    print(match)\n",
    "    end += word.end() "
   ]
  },
  {
   "cell_type": "code",
   "execution_count": 14,
   "metadata": {},
   "outputs": [],
   "source": [
    "#present_comp_exp = {'start': {'month': \\d{1,2}, 'year': \\d{1,4}, '\\$type': 'com\\.linkedin.common.Date'}, '\\$type': 'com\\.linkedin\\.common\\.DateRange'}, 'multiLocaleCompanyName': {'en_US':\n",
    "#present_just_years = {'start': {'year': \\d{1,4}, '\\$type': 'com\\.linkedin\\.common\\.Date'}, '\\$type': 'com\\.linkedin\\.common\\.DateRange'}, 'multiLocaleCompanyName': {'en_US':\n",
    "\n",
    "#past_comp = {'start': {'month': \\d{1,2}, 'year': \\d{1,4}, '\\$type': 'com\\.linkedin.common.Date'}, 'end': {'month': \\d{1,2}, 'year': \\d{1,4}, '\\$type': 'com\\.linkedin\\.common\\.Date'}, '\\$type': 'com\\.linkedin\\.common\\.DateRange'}, 'multiLocaleCompanyName': {'en_US':\n",
    "#past_just_years = {'start': {'year': \\d{1,4}, '\\$type': 'com\\.linkedin\\.common\\.Date'}, 'end': {'year': \\d{1,4}, '\\$type': 'com\\.linkedin\\.common\\.Date'}, '\\$type': 'com\\.linkedin\\.common\\.DateRange'}, 'multiLocaleCompanyName': {'en_US':\n"
   ]
  },
  {
   "cell_type": "markdown",
   "metadata": {},
   "source": [
    "# Present companies"
   ]
  },
  {
   "cell_type": "code",
   "execution_count": 25,
   "metadata": {},
   "outputs": [
    {
     "name": "stdout",
     "output_type": "stream",
     "text": [
      "1 2018 Mistral  QA Engineer\n"
     ]
    }
   ],
   "source": [
    "present_comp_exp = \"{'start': {'month': \\d{1,2}, 'year': \\d{1,4}, '\\$type': 'com\\.linkedin.common.Date'}, '\\$type': 'com\\.linkedin\\.common\\.DateRange'}, 'multiLocaleCompanyName': {'en_US':\"\n",
    "\n",
    "pdf = text\n",
    "end = 0\n",
    "\n",
    "\n",
    "for match in re.findall(present_comp_exp, text):\n",
    "    word = re.search(present_comp_exp, pdf)\n",
    "    start_month = \"\"\n",
    "    start_year = \"\"\n",
    "    start = word.start()+20\n",
    "    \n",
    "    for i in range(start+end, len(text)):\n",
    "        if(text[i] != ','):\n",
    "            start_month+=text[i]\n",
    "        else:\n",
    "            \n",
    "            for j in range(i+10, len(text)):\n",
    "                if(text[j] != ','):\n",
    "                    start_year+=text[j]\n",
    "                else:\n",
    "                    break\n",
    "            break\n",
    "\n",
    "    \n",
    "    company_name = get_company_name(word.end()+end+2)\n",
    "    \n",
    "    title = get_title(p)\n",
    "    print(start_month, start_year, company_name, title)\n",
    "\n",
    "    pdf = pdf[word.end():]\n",
    "    end+=word.end()\n"
   ]
  },
  {
   "cell_type": "markdown",
   "metadata": {},
   "source": [
    "# Present just years"
   ]
  },
  {
   "cell_type": "code",
   "execution_count": 26,
   "metadata": {},
   "outputs": [],
   "source": [
    "present_just_years = r\"{'start': {'year': \\d{1,4}, '\\$type': 'com\\.linkedin\\.common\\.Date'}, '\\$type': 'com\\.linkedin\\.common\\.DateRange'}, 'multiLocaleCompanyName': {'en_US':\"\n",
    "\n",
    "pdf = text\n",
    "end = 0\n",
    "\n",
    "for match in re.findall(present_just_years, text):\n",
    "    word = re.search(present_just_years, pdf)\n",
    "    start_year = \"\"\n",
    "    \n",
    "    start = word.start()+19\n",
    "    \n",
    "    for i in range(start+end, len(text)):\n",
    "        if(text[i] != ','):\n",
    "            start_year+=text[i]\n",
    "        else:\n",
    "            break\n",
    "    \n",
    "\n",
    "    company_name = get_company_name(word.end()+end+2)\n",
    "\n",
    "    title = get_title(p)\n",
    "    print(start_year, company_name, title)\n",
    "\n",
    "    pdf = pdf[word.end():]\n",
    "    end+=word.end()"
   ]
  },
  {
   "cell_type": "markdown",
   "metadata": {},
   "source": [
    "# Past Companies"
   ]
  },
  {
   "cell_type": "code",
   "execution_count": 27,
   "metadata": {},
   "outputs": [
    {
     "name": "stdout",
     "output_type": "stream",
     "text": [
      "6 2011 - 5 2012 High Judicial and Prosecutorial Council of Bosnia and Herzegovina Intern\n",
      "7 2014 - 2 2017 Mistral Technologies QA Engineer\n",
      "2 2013 - 1 2014 International Commission on Missing Persons (ICMP) Database analyst\n",
      "1 2017 - 3 2018 Mistral Technologies IT Project Manager\n"
     ]
    }
   ],
   "source": [
    "past_comp = \"{'start': {'month': \\d{1,2}, 'year': \\d{1,4}, '\\$type': 'com\\.linkedin.common.Date'}, 'end': {'month': \\d{1,2}, 'year': \\d{1,4}, '\\$type': 'com\\.linkedin\\.common\\.Date'}, '\\$type': 'com\\.linkedin\\.common\\.DateRange'}, 'multiLocaleCompanyName': {'en_US':\"\n",
    "\n",
    "pdf = text\n",
    "end = 0\n",
    "\n",
    "for match in re.findall(past_comp, text):\n",
    "    word = re.search(past_comp, pdf)\n",
    "    start_month = \"\"\n",
    "    start_year = \"\"\n",
    "    end_month = \"\"\n",
    "    end_year = \"\"\n",
    "    start = word.start() + 20\n",
    "    \n",
    "    for i in range(start+end, len(text)):\n",
    "        if(text[i] != ','):\n",
    "            start_month+=text[i]\n",
    "        else:\n",
    "            \n",
    "            for j in range(i+10, len(text)):\n",
    "                if(text[j] != ','):\n",
    "                    start_year+=text[j]\n",
    "                else:\n",
    "                    break\n",
    "            break\n",
    "            \n",
    "    start = j+57\n",
    "    \n",
    "    for p in range(start, len(text)):\n",
    "        if text[p] != ',':\n",
    "            end_month+=text[p]\n",
    "        else:\n",
    "            \n",
    "            for d in range(p+10, len(text)):\n",
    "                if(text[d] != ','):\n",
    "                    end_year+=text[d]\n",
    "                else:\n",
    "                    break\n",
    "            break\n",
    "    \n",
    "    company_name = get_company_name(word.end()+end+2)\n",
    "\n",
    "    title = get_title(p)\n",
    "    print(start_month, start_year+ \" - \" +end_month, end_year, company_name, title)\n",
    "\n",
    "    pdf = pdf[word.end():]\n",
    "    end+=word.end()\n",
    "    "
   ]
  },
  {
   "cell_type": "markdown",
   "metadata": {},
   "source": [
    "# Past just years"
   ]
  },
  {
   "cell_type": "code",
   "execution_count": 28,
   "metadata": {},
   "outputs": [
    {
     "name": "stdout",
     "output_type": "stream",
     "text": [
      "2007 2012 Groupe SEB IT Project Manager\n"
     ]
    }
   ],
   "source": [
    "past_just_years = \"{'start': {'year': \\d{1,4}, '\\$type': 'com\\.linkedin\\.common\\.Date'}, 'end': {'year': \\d{1,4}, '\\$type': 'com\\.linkedin\\.common\\.Date'}, '\\$type': 'com\\.linkedin\\.common\\.DateRange'}, 'multiLocaleCompanyName': {'en_US':\"\n",
    "\n",
    "pdf = text\n",
    "end = 0\n",
    "\n",
    "for match in re.findall(past_just_years, text):\n",
    "    word = re.search(past_just_years, pdf) \n",
    "    \n",
    "    start_year = \"\"\n",
    "    end_year = \"\" \n",
    "    \n",
    "    start = word.start() + 19\n",
    "\n",
    "    for i in range(start+end, len(text)):\n",
    "        if(text[i] != ','):\n",
    "            start_year+=text[i]\n",
    "        else:\n",
    "            \n",
    "            for j in range(i+56, len(text)):\n",
    "                if(text[j] != ','):\n",
    "                    end_year+=text[j]\n",
    "                else:\n",
    "                    break\n",
    "            break\n",
    "            \n",
    "    company_name = get_company_name(word.end()+end+2)\n",
    "\n",
    "    title = get_title(p)\n",
    "    print(start_year, end_year, company_name, title)\n",
    "\n",
    "    pdf = pdf[word.end():]\n",
    "    end+=word.end()"
   ]
  },
  {
   "cell_type": "code",
   "execution_count": null,
   "metadata": {},
   "outputs": [],
   "source": []
  }
 ],
 "metadata": {
  "kernelspec": {
   "display_name": "Python 3",
   "language": "python",
   "name": "python3"
  },
  "language_info": {
   "codemirror_mode": {
    "name": "ipython",
    "version": 3
   },
   "file_extension": ".py",
   "mimetype": "text/x-python",
   "name": "python",
   "nbconvert_exporter": "python",
   "pygments_lexer": "ipython3",
   "version": "3.8.1"
  }
 },
 "nbformat": 4,
 "nbformat_minor": 4
}

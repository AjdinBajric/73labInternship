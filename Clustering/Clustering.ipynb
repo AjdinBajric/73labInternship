{
 "cells": [
  {
   "cell_type": "markdown",
   "metadata": {},
   "source": [
    "# Data preprocessing"
   ]
  },
  {
   "cell_type": "code",
   "execution_count": 1,
   "metadata": {},
   "outputs": [],
   "source": [
    "import numpy as np\n",
    "import pandas as pd\n",
    "import json\n",
    "import matplotlib.pyplot as plt"
   ]
  },
  {
   "cell_type": "code",
   "execution_count": 2,
   "metadata": {},
   "outputs": [],
   "source": [
    "def read_json(file):\n",
    "    reader = pd.read_json(f\"Data/{file}.json\")\n",
    "    return reader[['onetsoc_code','element_id', 'scale_id', 'data_value']]"
   ]
  },
  {
   "cell_type": "code",
   "execution_count": 3,
   "metadata": {},
   "outputs": [],
   "source": [
    "knowledge = read_json(\"knowledge\")\n",
    "skills = read_json(\"skills\")\n",
    "work_activities = read_json(\"work_activities\")"
   ]
  },
  {
   "cell_type": "code",
   "execution_count": 4,
   "metadata": {
    "scrolled": true
   },
   "outputs": [
    {
     "data": {
      "text/html": [
       "<div>\n",
       "<style scoped>\n",
       "    .dataframe tbody tr th:only-of-type {\n",
       "        vertical-align: middle;\n",
       "    }\n",
       "\n",
       "    .dataframe tbody tr th {\n",
       "        vertical-align: top;\n",
       "    }\n",
       "\n",
       "    .dataframe thead th {\n",
       "        text-align: right;\n",
       "    }\n",
       "</style>\n",
       "<table border=\"1\" class=\"dataframe\">\n",
       "  <thead>\n",
       "    <tr style=\"text-align: right;\">\n",
       "      <th></th>\n",
       "      <th>onetsoc_code</th>\n",
       "      <th>element_id</th>\n",
       "      <th>scale_id</th>\n",
       "      <th>data_value</th>\n",
       "    </tr>\n",
       "  </thead>\n",
       "  <tbody>\n",
       "    <tr>\n",
       "      <th>0</th>\n",
       "      <td>11-1011.00</td>\n",
       "      <td>2.C.1.a</td>\n",
       "      <td>IM</td>\n",
       "      <td>4.75</td>\n",
       "    </tr>\n",
       "    <tr>\n",
       "      <th>1</th>\n",
       "      <td>11-1011.00</td>\n",
       "      <td>2.C.1.a</td>\n",
       "      <td>LV</td>\n",
       "      <td>6.23</td>\n",
       "    </tr>\n",
       "    <tr>\n",
       "      <th>2</th>\n",
       "      <td>11-1011.00</td>\n",
       "      <td>2.C.1.b</td>\n",
       "      <td>IM</td>\n",
       "      <td>2.66</td>\n",
       "    </tr>\n",
       "    <tr>\n",
       "      <th>3</th>\n",
       "      <td>11-1011.00</td>\n",
       "      <td>2.C.1.b</td>\n",
       "      <td>LV</td>\n",
       "      <td>3.50</td>\n",
       "    </tr>\n",
       "    <tr>\n",
       "      <th>4</th>\n",
       "      <td>11-1011.00</td>\n",
       "      <td>2.C.1.c</td>\n",
       "      <td>IM</td>\n",
       "      <td>3.70</td>\n",
       "    </tr>\n",
       "    <tr>\n",
       "      <th>5</th>\n",
       "      <td>11-1011.00</td>\n",
       "      <td>2.C.1.c</td>\n",
       "      <td>LV</td>\n",
       "      <td>4.36</td>\n",
       "    </tr>\n",
       "    <tr>\n",
       "      <th>6</th>\n",
       "      <td>11-1011.00</td>\n",
       "      <td>2.C.1.d</td>\n",
       "      <td>IM</td>\n",
       "      <td>3.23</td>\n",
       "    </tr>\n",
       "    <tr>\n",
       "      <th>7</th>\n",
       "      <td>11-1011.00</td>\n",
       "      <td>2.C.1.d</td>\n",
       "      <td>LV</td>\n",
       "      <td>3.90</td>\n",
       "    </tr>\n",
       "    <tr>\n",
       "      <th>8</th>\n",
       "      <td>11-1011.00</td>\n",
       "      <td>2.C.1.e</td>\n",
       "      <td>IM</td>\n",
       "      <td>4.09</td>\n",
       "    </tr>\n",
       "    <tr>\n",
       "      <th>9</th>\n",
       "      <td>11-1011.00</td>\n",
       "      <td>2.C.1.e</td>\n",
       "      <td>LV</td>\n",
       "      <td>5.55</td>\n",
       "    </tr>\n",
       "  </tbody>\n",
       "</table>\n",
       "</div>"
      ],
      "text/plain": [
       "  onetsoc_code element_id scale_id  data_value\n",
       "0   11-1011.00    2.C.1.a       IM        4.75\n",
       "1   11-1011.00    2.C.1.a       LV        6.23\n",
       "2   11-1011.00    2.C.1.b       IM        2.66\n",
       "3   11-1011.00    2.C.1.b       LV        3.50\n",
       "4   11-1011.00    2.C.1.c       IM        3.70\n",
       "5   11-1011.00    2.C.1.c       LV        4.36\n",
       "6   11-1011.00    2.C.1.d       IM        3.23\n",
       "7   11-1011.00    2.C.1.d       LV        3.90\n",
       "8   11-1011.00    2.C.1.e       IM        4.09\n",
       "9   11-1011.00    2.C.1.e       LV        5.55"
      ]
     },
     "execution_count": 4,
     "metadata": {},
     "output_type": "execute_result"
    }
   ],
   "source": [
    "knowledge.head(10)"
   ]
  },
  {
   "cell_type": "code",
   "execution_count": 5,
   "metadata": {
    "scrolled": true
   },
   "outputs": [
    {
     "data": {
      "text/html": [
       "<div>\n",
       "<style scoped>\n",
       "    .dataframe tbody tr th:only-of-type {\n",
       "        vertical-align: middle;\n",
       "    }\n",
       "\n",
       "    .dataframe tbody tr th {\n",
       "        vertical-align: top;\n",
       "    }\n",
       "\n",
       "    .dataframe thead th {\n",
       "        text-align: right;\n",
       "    }\n",
       "</style>\n",
       "<table border=\"1\" class=\"dataframe\">\n",
       "  <thead>\n",
       "    <tr style=\"text-align: right;\">\n",
       "      <th></th>\n",
       "      <th>onetsoc_code</th>\n",
       "      <th>element_id</th>\n",
       "      <th>scale_id</th>\n",
       "      <th>data_value</th>\n",
       "    </tr>\n",
       "  </thead>\n",
       "  <tbody>\n",
       "    <tr>\n",
       "      <th>67008</th>\n",
       "      <td>53-7121.00</td>\n",
       "      <td>2.B.4.h</td>\n",
       "      <td>IM</td>\n",
       "      <td>2.12</td>\n",
       "    </tr>\n",
       "    <tr>\n",
       "      <th>67009</th>\n",
       "      <td>53-7121.00</td>\n",
       "      <td>2.B.4.h</td>\n",
       "      <td>LV</td>\n",
       "      <td>2.12</td>\n",
       "    </tr>\n",
       "    <tr>\n",
       "      <th>67010</th>\n",
       "      <td>53-7121.00</td>\n",
       "      <td>2.B.5.a</td>\n",
       "      <td>IM</td>\n",
       "      <td>3.12</td>\n",
       "    </tr>\n",
       "    <tr>\n",
       "      <th>67011</th>\n",
       "      <td>53-7121.00</td>\n",
       "      <td>2.B.5.a</td>\n",
       "      <td>LV</td>\n",
       "      <td>2.88</td>\n",
       "    </tr>\n",
       "    <tr>\n",
       "      <th>67012</th>\n",
       "      <td>53-7121.00</td>\n",
       "      <td>2.B.5.b</td>\n",
       "      <td>IM</td>\n",
       "      <td>2.00</td>\n",
       "    </tr>\n",
       "    <tr>\n",
       "      <th>67013</th>\n",
       "      <td>53-7121.00</td>\n",
       "      <td>2.B.5.b</td>\n",
       "      <td>LV</td>\n",
       "      <td>1.12</td>\n",
       "    </tr>\n",
       "    <tr>\n",
       "      <th>67014</th>\n",
       "      <td>53-7121.00</td>\n",
       "      <td>2.B.5.c</td>\n",
       "      <td>IM</td>\n",
       "      <td>2.00</td>\n",
       "    </tr>\n",
       "    <tr>\n",
       "      <th>67015</th>\n",
       "      <td>53-7121.00</td>\n",
       "      <td>2.B.5.c</td>\n",
       "      <td>LV</td>\n",
       "      <td>1.88</td>\n",
       "    </tr>\n",
       "    <tr>\n",
       "      <th>67016</th>\n",
       "      <td>53-7121.00</td>\n",
       "      <td>2.B.5.d</td>\n",
       "      <td>IM</td>\n",
       "      <td>2.88</td>\n",
       "    </tr>\n",
       "    <tr>\n",
       "      <th>67017</th>\n",
       "      <td>53-7121.00</td>\n",
       "      <td>2.B.5.d</td>\n",
       "      <td>LV</td>\n",
       "      <td>2.75</td>\n",
       "    </tr>\n",
       "  </tbody>\n",
       "</table>\n",
       "</div>"
      ],
      "text/plain": [
       "      onetsoc_code element_id scale_id  data_value\n",
       "67008   53-7121.00    2.B.4.h       IM        2.12\n",
       "67009   53-7121.00    2.B.4.h       LV        2.12\n",
       "67010   53-7121.00    2.B.5.a       IM        3.12\n",
       "67011   53-7121.00    2.B.5.a       LV        2.88\n",
       "67012   53-7121.00    2.B.5.b       IM        2.00\n",
       "67013   53-7121.00    2.B.5.b       LV        1.12\n",
       "67014   53-7121.00    2.B.5.c       IM        2.00\n",
       "67015   53-7121.00    2.B.5.c       LV        1.88\n",
       "67016   53-7121.00    2.B.5.d       IM        2.88\n",
       "67017   53-7121.00    2.B.5.d       LV        2.75"
      ]
     },
     "execution_count": 5,
     "metadata": {},
     "output_type": "execute_result"
    }
   ],
   "source": [
    "skills.tail(10)"
   ]
  },
  {
   "cell_type": "code",
   "execution_count": 6,
   "metadata": {},
   "outputs": [
    {
     "data": {
      "text/html": [
       "<div>\n",
       "<style scoped>\n",
       "    .dataframe tbody tr th:only-of-type {\n",
       "        vertical-align: middle;\n",
       "    }\n",
       "\n",
       "    .dataframe tbody tr th {\n",
       "        vertical-align: top;\n",
       "    }\n",
       "\n",
       "    .dataframe thead th {\n",
       "        text-align: right;\n",
       "    }\n",
       "</style>\n",
       "<table border=\"1\" class=\"dataframe\">\n",
       "  <thead>\n",
       "    <tr style=\"text-align: right;\">\n",
       "      <th></th>\n",
       "      <th>onetsoc_code</th>\n",
       "      <th>element_id</th>\n",
       "      <th>scale_id</th>\n",
       "      <th>data_value</th>\n",
       "    </tr>\n",
       "  </thead>\n",
       "  <tbody>\n",
       "    <tr>\n",
       "      <th>79320</th>\n",
       "      <td>53-7121.00</td>\n",
       "      <td>4.A.4.b.5</td>\n",
       "      <td>IM</td>\n",
       "      <td>3.07</td>\n",
       "    </tr>\n",
       "    <tr>\n",
       "      <th>79321</th>\n",
       "      <td>53-7121.00</td>\n",
       "      <td>4.A.4.b.5</td>\n",
       "      <td>LV</td>\n",
       "      <td>3.28</td>\n",
       "    </tr>\n",
       "    <tr>\n",
       "      <th>79322</th>\n",
       "      <td>53-7121.00</td>\n",
       "      <td>4.A.4.b.6</td>\n",
       "      <td>IM</td>\n",
       "      <td>2.72</td>\n",
       "    </tr>\n",
       "    <tr>\n",
       "      <th>79323</th>\n",
       "      <td>53-7121.00</td>\n",
       "      <td>4.A.4.b.6</td>\n",
       "      <td>LV</td>\n",
       "      <td>2.40</td>\n",
       "    </tr>\n",
       "    <tr>\n",
       "      <th>79324</th>\n",
       "      <td>53-7121.00</td>\n",
       "      <td>4.A.4.c.1</td>\n",
       "      <td>IM</td>\n",
       "      <td>2.54</td>\n",
       "    </tr>\n",
       "    <tr>\n",
       "      <th>79325</th>\n",
       "      <td>53-7121.00</td>\n",
       "      <td>4.A.4.c.1</td>\n",
       "      <td>LV</td>\n",
       "      <td>2.27</td>\n",
       "    </tr>\n",
       "    <tr>\n",
       "      <th>79326</th>\n",
       "      <td>53-7121.00</td>\n",
       "      <td>4.A.4.c.2</td>\n",
       "      <td>IM</td>\n",
       "      <td>1.93</td>\n",
       "    </tr>\n",
       "    <tr>\n",
       "      <th>79327</th>\n",
       "      <td>53-7121.00</td>\n",
       "      <td>4.A.4.c.2</td>\n",
       "      <td>LV</td>\n",
       "      <td>1.60</td>\n",
       "    </tr>\n",
       "    <tr>\n",
       "      <th>79328</th>\n",
       "      <td>53-7121.00</td>\n",
       "      <td>4.A.4.c.3</td>\n",
       "      <td>IM</td>\n",
       "      <td>2.56</td>\n",
       "    </tr>\n",
       "    <tr>\n",
       "      <th>79329</th>\n",
       "      <td>53-7121.00</td>\n",
       "      <td>4.A.4.c.3</td>\n",
       "      <td>LV</td>\n",
       "      <td>2.64</td>\n",
       "    </tr>\n",
       "  </tbody>\n",
       "</table>\n",
       "</div>"
      ],
      "text/plain": [
       "      onetsoc_code element_id scale_id  data_value\n",
       "79320   53-7121.00  4.A.4.b.5       IM        3.07\n",
       "79321   53-7121.00  4.A.4.b.5       LV        3.28\n",
       "79322   53-7121.00  4.A.4.b.6       IM        2.72\n",
       "79323   53-7121.00  4.A.4.b.6       LV        2.40\n",
       "79324   53-7121.00  4.A.4.c.1       IM        2.54\n",
       "79325   53-7121.00  4.A.4.c.1       LV        2.27\n",
       "79326   53-7121.00  4.A.4.c.2       IM        1.93\n",
       "79327   53-7121.00  4.A.4.c.2       LV        1.60\n",
       "79328   53-7121.00  4.A.4.c.3       IM        2.56\n",
       "79329   53-7121.00  4.A.4.c.3       LV        2.64"
      ]
     },
     "execution_count": 6,
     "metadata": {},
     "output_type": "execute_result"
    }
   ],
   "source": [
    "work_activities.tail(10)"
   ]
  },
  {
   "cell_type": "markdown",
   "metadata": {},
   "source": [
    "### Required knowledge"
   ]
  },
  {
   "cell_type": "code",
   "execution_count": 7,
   "metadata": {},
   "outputs": [
    {
     "data": {
      "text/plain": [
       "967"
      ]
     },
     "execution_count": 7,
     "metadata": {},
     "output_type": "execute_result"
    }
   ],
   "source": [
    "len(knowledge[\"onetsoc_code\"].value_counts())"
   ]
  },
  {
   "cell_type": "code",
   "execution_count": 8,
   "metadata": {
    "scrolled": false
   },
   "outputs": [
    {
     "data": {
      "text/plain": [
       "43-4111.00    55\n",
       "43-4131.00    61\n",
       "21-1015.00    66\n",
       "47-2031.01    66\n",
       "33-2021.02    66\n",
       "              ..\n",
       "19-3011.00    66\n",
       "41-3099.01    66\n",
       "51-6021.00    66\n",
       "21-1021.00    66\n",
       "33-2021.01    66\n",
       "Name: onetsoc_code, Length: 967, dtype: int64"
      ]
     },
     "execution_count": 8,
     "metadata": {},
     "output_type": "execute_result"
    }
   ],
   "source": [
    "knowledge[\"onetsoc_code\"].value_counts().sort_values()"
   ]
  },
  {
   "cell_type": "code",
   "execution_count": 9,
   "metadata": {},
   "outputs": [
    {
     "data": {
      "text/plain": [
       "33"
      ]
     },
     "execution_count": 9,
     "metadata": {},
     "output_type": "execute_result"
    }
   ],
   "source": [
    "len(knowledge.groupby([\"element_id\"]).size())"
   ]
  },
  {
   "cell_type": "markdown",
   "metadata": {},
   "source": [
    "### Required skills"
   ]
  },
  {
   "cell_type": "code",
   "execution_count": 10,
   "metadata": {},
   "outputs": [
    {
     "data": {
      "text/plain": [
       "959"
      ]
     },
     "execution_count": 10,
     "metadata": {},
     "output_type": "execute_result"
    }
   ],
   "source": [
    "len(skills[\"onetsoc_code\"].value_counts())"
   ]
  },
  {
   "cell_type": "code",
   "execution_count": 11,
   "metadata": {
    "scrolled": true
   },
   "outputs": [
    {
     "data": {
      "text/plain": [
       "49-2093.00    29\n",
       "33-9021.00    32\n",
       "49-3021.00    42\n",
       "33-3051.01    65\n",
       "25-1072.00    70\n",
       "              ..\n",
       "19-3011.00    70\n",
       "41-3099.01    70\n",
       "51-6021.00    70\n",
       "47-5051.00    70\n",
       "13-1111.00    70\n",
       "Name: onetsoc_code, Length: 959, dtype: int64"
      ]
     },
     "execution_count": 11,
     "metadata": {},
     "output_type": "execute_result"
    }
   ],
   "source": [
    "skills[\"onetsoc_code\"].value_counts().sort_values()"
   ]
  },
  {
   "cell_type": "code",
   "execution_count": 12,
   "metadata": {},
   "outputs": [
    {
     "data": {
      "text/plain": [
       "35"
      ]
     },
     "execution_count": 12,
     "metadata": {},
     "output_type": "execute_result"
    }
   ],
   "source": [
    "len(skills.groupby([\"element_id\"]).size())"
   ]
  },
  {
   "cell_type": "markdown",
   "metadata": {},
   "source": [
    "### Work activities"
   ]
  },
  {
   "cell_type": "code",
   "execution_count": 13,
   "metadata": {},
   "outputs": [
    {
     "data": {
      "text/plain": [
       "968"
      ]
     },
     "execution_count": 13,
     "metadata": {},
     "output_type": "execute_result"
    }
   ],
   "source": [
    "len(work_activities[\"onetsoc_code\"].value_counts())"
   ]
  },
  {
   "cell_type": "code",
   "execution_count": 14,
   "metadata": {
    "scrolled": true
   },
   "outputs": [
    {
     "data": {
      "text/plain": [
       "47-1011.00    36\n",
       "47-2031.01    82\n",
       "33-2021.02    82\n",
       "39-5012.00    82\n",
       "13-1151.00    82\n",
       "              ..\n",
       "41-3099.01    82\n",
       "51-6021.00    82\n",
       "27-2023.00    82\n",
       "27-3022.00    82\n",
       "33-2021.01    82\n",
       "Name: onetsoc_code, Length: 968, dtype: int64"
      ]
     },
     "execution_count": 14,
     "metadata": {},
     "output_type": "execute_result"
    }
   ],
   "source": [
    "work_activities[\"onetsoc_code\"].value_counts().sort_values()"
   ]
  },
  {
   "cell_type": "code",
   "execution_count": 15,
   "metadata": {},
   "outputs": [
    {
     "data": {
      "text/plain": [
       "41"
      ]
     },
     "execution_count": 15,
     "metadata": {},
     "output_type": "execute_result"
    }
   ],
   "source": [
    "len(work_activities.groupby([\"element_id\"]).size())"
   ]
  },
  {
   "cell_type": "markdown",
   "metadata": {},
   "source": [
    "## Reducing number of jobs"
   ]
  },
  {
   "cell_type": "code",
   "execution_count": 16,
   "metadata": {},
   "outputs": [
    {
     "name": "stdout",
     "output_type": "stream",
     "text": [
      "In knowledge dataset there is no any data about: 43-4121.00 job\n",
      "There is 958 matches between jobs described in skills and knowledge dataset\n"
     ]
    }
   ],
   "source": [
    "c = 0\n",
    "\n",
    "for job in skills[\"onetsoc_code\"].unique():\n",
    "    if job in list(knowledge[\"onetsoc_code\"]) :\n",
    "        c+=1  \n",
    "    else:\n",
    "        print(\"In knowledge dataset there is no any data about: \" + str(job) + \" job\")\n",
    "print(\"There is \" + str(c) + \" matches between jobs described in skills and knowledge dataset\")"
   ]
  },
  {
   "cell_type": "code",
   "execution_count": 17,
   "metadata": {},
   "outputs": [
    {
     "name": "stdout",
     "output_type": "stream",
     "text": [
      "There is 959 matches between jobs described in skills and work_activities dataset\n"
     ]
    }
   ],
   "source": [
    "c = 0\n",
    "\n",
    "for job in skills[\"onetsoc_code\"].unique():\n",
    "    if job in list(work_activities[\"onetsoc_code\"]) :\n",
    "        c+=1  \n",
    "    else:\n",
    "        print(\"In knowledge dataset there is no any data about: \" + str(job) + \" job\")\n",
    "print(\"There is \" + str(c) + \" matches between jobs described in skills and work_activities dataset\")"
   ]
  },
  {
   "cell_type": "markdown",
   "metadata": {},
   "source": [
    "## From the analysis above we can conclude that:\n",
    "\n",
    "- All of three datasets should have 958 job titles (We need to drop \"43-4121.00\" because knowledge dataset does not contain any data for it)\n",
    "- <b>Skills dataset</b> does not contain 70 skills for: <b>49-2093.00, 33-9021.00, 49-3021.00, 33-3051.01</b> as others. It means that they would be dropped.\n",
    "- The same thing is happening for job titles: <b>43-4111.00, 43-4131.00 in knowledge dataset</b>.\n",
    "- <b>47-1011.00 would be dropped from work_activities because of that reason</b>\n",
    "\n",
    "# Let's start with cleaning\n"
   ]
  },
  {
   "cell_type": "markdown",
   "metadata": {},
   "source": [
    "### Step 1:"
   ]
  },
  {
   "cell_type": "code",
   "execution_count": 18,
   "metadata": {},
   "outputs": [],
   "source": [
    "knowledge.drop(knowledge.loc[knowledge['onetsoc_code']==\"43-4121.00\"].index, inplace=True)"
   ]
  },
  {
   "cell_type": "code",
   "execution_count": 19,
   "metadata": {},
   "outputs": [],
   "source": [
    "skills.drop(skills.loc[skills['onetsoc_code']==\"43-4121.00\"].index, inplace=True)"
   ]
  },
  {
   "cell_type": "markdown",
   "metadata": {},
   "source": [
    "### Step 2:"
   ]
  },
  {
   "cell_type": "code",
   "execution_count": 20,
   "metadata": {},
   "outputs": [],
   "source": [
    "skills.drop(skills.loc[skills['onetsoc_code']==\"49-2093.00\"].index, inplace=True)\n",
    "skills.drop(skills.loc[skills['onetsoc_code']==\"33-9021.00\"].index, inplace=True)\n",
    "skills.drop(skills.loc[skills['onetsoc_code']==\"49-3021.00\"].index, inplace=True)\n",
    "skills.drop(skills.loc[skills['onetsoc_code']==\"33-3051.01\"].index, inplace=True)"
   ]
  },
  {
   "cell_type": "markdown",
   "metadata": {},
   "source": [
    "### Step 3:"
   ]
  },
  {
   "cell_type": "code",
   "execution_count": 21,
   "metadata": {},
   "outputs": [],
   "source": [
    "knowledge.drop(knowledge.loc[knowledge['onetsoc_code']==\"43-4111.00\"].index, inplace=True)\n",
    "knowledge.drop(knowledge.loc[knowledge['onetsoc_code']==\"43-4131.00\"].index, inplace=True)\n",
    "\n",
    "skills.drop(skills.loc[skills['onetsoc_code']==\"43-4111.00\"].index, inplace=True)\n",
    "skills.drop(skills.loc[skills['onetsoc_code']==\"43-4131.00\"].index, inplace=True)\n",
    "\n",
    "work_activities.drop(work_activities.loc[work_activities['onetsoc_code']==\"43-4111.00\"].index, inplace=True)\n",
    "work_activities.drop(work_activities.loc[work_activities['onetsoc_code']==\"43-4131.00\"].index, inplace=True)"
   ]
  },
  {
   "cell_type": "code",
   "execution_count": 22,
   "metadata": {},
   "outputs": [],
   "source": [
    "work_activities.drop(work_activities.loc[work_activities['onetsoc_code']==\"47-1011.00\"].index, inplace=True)\n",
    "\n",
    "knowledge.drop(knowledge.loc[knowledge['onetsoc_code']==\"47-1011.00\"].index, inplace=True)\n",
    "\n",
    "skills.drop(skills.loc[skills['onetsoc_code']==\"47-1011.00\"].index, inplace=True)"
   ]
  },
  {
   "cell_type": "markdown",
   "metadata": {},
   "source": [
    "# Concatenating datasets"
   ]
  },
  {
   "cell_type": "code",
   "execution_count": 23,
   "metadata": {},
   "outputs": [],
   "source": [
    "knowledge = knowledge[knowledge[\"onetsoc_code\"].isin(skills[\"onetsoc_code\"])]"
   ]
  },
  {
   "cell_type": "code",
   "execution_count": 24,
   "metadata": {},
   "outputs": [],
   "source": [
    "work_activities = work_activities[work_activities[\"onetsoc_code\"].isin(skills[\"onetsoc_code\"])]"
   ]
  },
  {
   "cell_type": "code",
   "execution_count": 25,
   "metadata": {},
   "outputs": [
    {
     "name": "stdout",
     "output_type": "stream",
     "text": [
      "Work activities shape: (77982, 4)\n",
      "Skills shape: (66570, 4)\n",
      "Knowledge shape: (62766, 4)\n"
     ]
    }
   ],
   "source": [
    "print(\"Work activities shape: \" + str(work_activities.shape) + \"\\n\" + \"Skills shape: \" + str(skills.shape) + \"\\n\" + \"Knowledge shape: \" + str(knowledge.shape))"
   ]
  },
  {
   "cell_type": "markdown",
   "metadata": {},
   "source": [
    "### Computing mean of skills"
   ]
  },
  {
   "cell_type": "code",
   "execution_count": 26,
   "metadata": {},
   "outputs": [],
   "source": [
    "knowledge = knowledge.groupby([\"onetsoc_code\", \"element_id\"]).mean().reset_index()\n",
    "skills = skills.groupby([\"onetsoc_code\", \"element_id\"]).mean().reset_index()\n",
    "work_activities = work_activities.groupby([\"onetsoc_code\", \"element_id\"]).mean().reset_index()"
   ]
  },
  {
   "cell_type": "code",
   "execution_count": 27,
   "metadata": {},
   "outputs": [
    {
     "data": {
      "text/html": [
       "<div>\n",
       "<style scoped>\n",
       "    .dataframe tbody tr th:only-of-type {\n",
       "        vertical-align: middle;\n",
       "    }\n",
       "\n",
       "    .dataframe tbody tr th {\n",
       "        vertical-align: top;\n",
       "    }\n",
       "\n",
       "    .dataframe thead th {\n",
       "        text-align: right;\n",
       "    }\n",
       "</style>\n",
       "<table border=\"1\" class=\"dataframe\">\n",
       "  <thead>\n",
       "    <tr style=\"text-align: right;\">\n",
       "      <th></th>\n",
       "      <th>onetsoc_code</th>\n",
       "      <th>element_id</th>\n",
       "      <th>data_value</th>\n",
       "    </tr>\n",
       "  </thead>\n",
       "  <tbody>\n",
       "    <tr>\n",
       "      <th>0</th>\n",
       "      <td>11-1011.00</td>\n",
       "      <td>2.C.1.a</td>\n",
       "      <td>5.490</td>\n",
       "    </tr>\n",
       "    <tr>\n",
       "      <th>1</th>\n",
       "      <td>11-1011.00</td>\n",
       "      <td>2.C.1.b</td>\n",
       "      <td>3.080</td>\n",
       "    </tr>\n",
       "    <tr>\n",
       "      <th>2</th>\n",
       "      <td>11-1011.00</td>\n",
       "      <td>2.C.1.c</td>\n",
       "      <td>4.030</td>\n",
       "    </tr>\n",
       "    <tr>\n",
       "      <th>3</th>\n",
       "      <td>11-1011.00</td>\n",
       "      <td>2.C.1.d</td>\n",
       "      <td>3.565</td>\n",
       "    </tr>\n",
       "    <tr>\n",
       "      <th>4</th>\n",
       "      <td>11-1011.00</td>\n",
       "      <td>2.C.1.e</td>\n",
       "      <td>4.820</td>\n",
       "    </tr>\n",
       "  </tbody>\n",
       "</table>\n",
       "</div>"
      ],
      "text/plain": [
       "  onetsoc_code element_id  data_value\n",
       "0   11-1011.00    2.C.1.a       5.490\n",
       "1   11-1011.00    2.C.1.b       3.080\n",
       "2   11-1011.00    2.C.1.c       4.030\n",
       "3   11-1011.00    2.C.1.d       3.565\n",
       "4   11-1011.00    2.C.1.e       4.820"
      ]
     },
     "execution_count": 27,
     "metadata": {},
     "output_type": "execute_result"
    }
   ],
   "source": [
    "knowledge.head()"
   ]
  },
  {
   "cell_type": "code",
   "execution_count": 28,
   "metadata": {},
   "outputs": [
    {
     "data": {
      "text/plain": [
       "(33285, 3)"
      ]
     },
     "execution_count": 28,
     "metadata": {},
     "output_type": "execute_result"
    }
   ],
   "source": [
    "skills.shape"
   ]
  },
  {
   "cell_type": "code",
   "execution_count": 29,
   "metadata": {},
   "outputs": [
    {
     "data": {
      "text/html": [
       "<div>\n",
       "<style scoped>\n",
       "    .dataframe tbody tr th:only-of-type {\n",
       "        vertical-align: middle;\n",
       "    }\n",
       "\n",
       "    .dataframe tbody tr th {\n",
       "        vertical-align: top;\n",
       "    }\n",
       "\n",
       "    .dataframe thead th {\n",
       "        text-align: right;\n",
       "    }\n",
       "</style>\n",
       "<table border=\"1\" class=\"dataframe\">\n",
       "  <thead>\n",
       "    <tr style=\"text-align: right;\">\n",
       "      <th></th>\n",
       "      <th>onetsoc_code</th>\n",
       "      <th>element_id</th>\n",
       "      <th>data_value</th>\n",
       "    </tr>\n",
       "  </thead>\n",
       "  <tbody>\n",
       "    <tr>\n",
       "      <th>0</th>\n",
       "      <td>11-1011.00</td>\n",
       "      <td>4.A.1.a.1</td>\n",
       "      <td>5.035</td>\n",
       "    </tr>\n",
       "    <tr>\n",
       "      <th>1</th>\n",
       "      <td>11-1011.00</td>\n",
       "      <td>4.A.1.a.2</td>\n",
       "      <td>4.220</td>\n",
       "    </tr>\n",
       "    <tr>\n",
       "      <th>2</th>\n",
       "      <td>11-1011.00</td>\n",
       "      <td>4.A.1.b.1</td>\n",
       "      <td>4.555</td>\n",
       "    </tr>\n",
       "    <tr>\n",
       "      <th>3</th>\n",
       "      <td>11-1011.00</td>\n",
       "      <td>4.A.1.b.2</td>\n",
       "      <td>2.245</td>\n",
       "    </tr>\n",
       "    <tr>\n",
       "      <th>4</th>\n",
       "      <td>11-1011.00</td>\n",
       "      <td>4.A.1.b.3</td>\n",
       "      <td>3.655</td>\n",
       "    </tr>\n",
       "  </tbody>\n",
       "</table>\n",
       "</div>"
      ],
      "text/plain": [
       "  onetsoc_code element_id  data_value\n",
       "0   11-1011.00  4.A.1.a.1       5.035\n",
       "1   11-1011.00  4.A.1.a.2       4.220\n",
       "2   11-1011.00  4.A.1.b.1       4.555\n",
       "3   11-1011.00  4.A.1.b.2       2.245\n",
       "4   11-1011.00  4.A.1.b.3       3.655"
      ]
     },
     "execution_count": 29,
     "metadata": {},
     "output_type": "execute_result"
    }
   ],
   "source": [
    "work_activities.head()"
   ]
  },
  {
   "cell_type": "code",
   "execution_count": 30,
   "metadata": {},
   "outputs": [],
   "source": [
    "skills = skills.pivot(index='onetsoc_code', columns='element_id', values='data_value')\n",
    "knowledge = knowledge.pivot(index='onetsoc_code', columns='element_id', values='data_value')\n",
    "work_activities = work_activities.pivot(index='onetsoc_code', columns='element_id', values='data_value')"
   ]
  },
  {
   "cell_type": "code",
   "execution_count": 31,
   "metadata": {},
   "outputs": [],
   "source": [
    "final_dataset = pd.concat([skills, knowledge, work_activities], axis = 1)"
   ]
  },
  {
   "cell_type": "code",
   "execution_count": 32,
   "metadata": {},
   "outputs": [
    {
     "data": {
      "text/plain": [
       "(951, 109)"
      ]
     },
     "execution_count": 32,
     "metadata": {},
     "output_type": "execute_result"
    }
   ],
   "source": [
    "final_dataset.shape"
   ]
  },
  {
   "cell_type": "code",
   "execution_count": 33,
   "metadata": {},
   "outputs": [
    {
     "data": {
      "text/html": [
       "<div>\n",
       "<style scoped>\n",
       "    .dataframe tbody tr th:only-of-type {\n",
       "        vertical-align: middle;\n",
       "    }\n",
       "\n",
       "    .dataframe tbody tr th {\n",
       "        vertical-align: top;\n",
       "    }\n",
       "\n",
       "    .dataframe thead th {\n",
       "        text-align: right;\n",
       "    }\n",
       "</style>\n",
       "<table border=\"1\" class=\"dataframe\">\n",
       "  <thead>\n",
       "    <tr style=\"text-align: right;\">\n",
       "      <th>element_id</th>\n",
       "      <th>2.A.1.a</th>\n",
       "      <th>2.A.1.b</th>\n",
       "      <th>2.A.1.c</th>\n",
       "      <th>2.A.1.d</th>\n",
       "      <th>2.A.1.e</th>\n",
       "      <th>2.A.1.f</th>\n",
       "      <th>2.A.2.a</th>\n",
       "      <th>2.A.2.b</th>\n",
       "      <th>2.A.2.c</th>\n",
       "      <th>2.A.2.d</th>\n",
       "      <th>...</th>\n",
       "      <th>4.A.4.a.8</th>\n",
       "      <th>4.A.4.b.1</th>\n",
       "      <th>4.A.4.b.2</th>\n",
       "      <th>4.A.4.b.3</th>\n",
       "      <th>4.A.4.b.4</th>\n",
       "      <th>4.A.4.b.5</th>\n",
       "      <th>4.A.4.b.6</th>\n",
       "      <th>4.A.4.c.1</th>\n",
       "      <th>4.A.4.c.2</th>\n",
       "      <th>4.A.4.c.3</th>\n",
       "    </tr>\n",
       "    <tr>\n",
       "      <th>onetsoc_code</th>\n",
       "      <th></th>\n",
       "      <th></th>\n",
       "      <th></th>\n",
       "      <th></th>\n",
       "      <th></th>\n",
       "      <th></th>\n",
       "      <th></th>\n",
       "      <th></th>\n",
       "      <th></th>\n",
       "      <th></th>\n",
       "      <th></th>\n",
       "      <th></th>\n",
       "      <th></th>\n",
       "      <th></th>\n",
       "      <th></th>\n",
       "      <th></th>\n",
       "      <th></th>\n",
       "      <th></th>\n",
       "      <th></th>\n",
       "      <th></th>\n",
       "      <th></th>\n",
       "    </tr>\n",
       "  </thead>\n",
       "  <tbody>\n",
       "    <tr>\n",
       "      <th>11-1011.00</th>\n",
       "      <td>4.435</td>\n",
       "      <td>4.50</td>\n",
       "      <td>4.190</td>\n",
       "      <td>4.630</td>\n",
       "      <td>3.435</td>\n",
       "      <td>1.500</td>\n",
       "      <td>4.565</td>\n",
       "      <td>4.375</td>\n",
       "      <td>3.500</td>\n",
       "      <td>4.81</td>\n",
       "      <td>...</td>\n",
       "      <td>3.145</td>\n",
       "      <td>4.525</td>\n",
       "      <td>4.865</td>\n",
       "      <td>3.170</td>\n",
       "      <td>5.230</td>\n",
       "      <td>4.36</td>\n",
       "      <td>4.535</td>\n",
       "      <td>3.635</td>\n",
       "      <td>4.165</td>\n",
       "      <td>5.220</td>\n",
       "    </tr>\n",
       "    <tr>\n",
       "      <th>11-1011.03</th>\n",
       "      <td>4.125</td>\n",
       "      <td>4.00</td>\n",
       "      <td>4.130</td>\n",
       "      <td>4.125</td>\n",
       "      <td>3.065</td>\n",
       "      <td>1.625</td>\n",
       "      <td>4.060</td>\n",
       "      <td>3.625</td>\n",
       "      <td>3.440</td>\n",
       "      <td>3.87</td>\n",
       "      <td>...</td>\n",
       "      <td>3.520</td>\n",
       "      <td>4.575</td>\n",
       "      <td>4.385</td>\n",
       "      <td>4.400</td>\n",
       "      <td>4.280</td>\n",
       "      <td>4.18</td>\n",
       "      <td>4.820</td>\n",
       "      <td>3.405</td>\n",
       "      <td>3.195</td>\n",
       "      <td>3.830</td>\n",
       "    </tr>\n",
       "    <tr>\n",
       "      <th>11-1021.00</th>\n",
       "      <td>3.940</td>\n",
       "      <td>4.00</td>\n",
       "      <td>3.565</td>\n",
       "      <td>4.000</td>\n",
       "      <td>2.440</td>\n",
       "      <td>1.500</td>\n",
       "      <td>3.940</td>\n",
       "      <td>3.560</td>\n",
       "      <td>3.125</td>\n",
       "      <td>4.00</td>\n",
       "      <td>...</td>\n",
       "      <td>4.005</td>\n",
       "      <td>4.365</td>\n",
       "      <td>3.725</td>\n",
       "      <td>3.770</td>\n",
       "      <td>4.470</td>\n",
       "      <td>4.13</td>\n",
       "      <td>3.985</td>\n",
       "      <td>3.370</td>\n",
       "      <td>3.715</td>\n",
       "      <td>4.190</td>\n",
       "    </tr>\n",
       "    <tr>\n",
       "      <th>11-2011.00</th>\n",
       "      <td>3.875</td>\n",
       "      <td>4.12</td>\n",
       "      <td>3.815</td>\n",
       "      <td>4.060</td>\n",
       "      <td>3.125</td>\n",
       "      <td>1.120</td>\n",
       "      <td>4.060</td>\n",
       "      <td>3.685</td>\n",
       "      <td>3.125</td>\n",
       "      <td>3.75</td>\n",
       "      <td>...</td>\n",
       "      <td>3.495</td>\n",
       "      <td>3.470</td>\n",
       "      <td>3.035</td>\n",
       "      <td>2.785</td>\n",
       "      <td>3.120</td>\n",
       "      <td>2.95</td>\n",
       "      <td>2.415</td>\n",
       "      <td>3.380</td>\n",
       "      <td>2.300</td>\n",
       "      <td>2.800</td>\n",
       "    </tr>\n",
       "    <tr>\n",
       "      <th>11-2021.00</th>\n",
       "      <td>4.065</td>\n",
       "      <td>4.00</td>\n",
       "      <td>3.565</td>\n",
       "      <td>4.000</td>\n",
       "      <td>2.935</td>\n",
       "      <td>1.625</td>\n",
       "      <td>4.065</td>\n",
       "      <td>4.000</td>\n",
       "      <td>3.310</td>\n",
       "      <td>4.00</td>\n",
       "      <td>...</td>\n",
       "      <td>2.940</td>\n",
       "      <td>4.400</td>\n",
       "      <td>4.170</td>\n",
       "      <td>3.240</td>\n",
       "      <td>4.035</td>\n",
       "      <td>3.55</td>\n",
       "      <td>3.760</td>\n",
       "      <td>2.770</td>\n",
       "      <td>2.215</td>\n",
       "      <td>3.515</td>\n",
       "    </tr>\n",
       "  </tbody>\n",
       "</table>\n",
       "<p>5 rows × 109 columns</p>\n",
       "</div>"
      ],
      "text/plain": [
       "element_id    2.A.1.a  2.A.1.b  2.A.1.c  2.A.1.d  2.A.1.e  2.A.1.f  2.A.2.a  \\\n",
       "onetsoc_code                                                                  \n",
       "11-1011.00      4.435     4.50    4.190    4.630    3.435    1.500    4.565   \n",
       "11-1011.03      4.125     4.00    4.130    4.125    3.065    1.625    4.060   \n",
       "11-1021.00      3.940     4.00    3.565    4.000    2.440    1.500    3.940   \n",
       "11-2011.00      3.875     4.12    3.815    4.060    3.125    1.120    4.060   \n",
       "11-2021.00      4.065     4.00    3.565    4.000    2.935    1.625    4.065   \n",
       "\n",
       "element_id    2.A.2.b  2.A.2.c  2.A.2.d  ...  4.A.4.a.8  4.A.4.b.1  4.A.4.b.2  \\\n",
       "onetsoc_code                             ...                                    \n",
       "11-1011.00      4.375    3.500     4.81  ...      3.145      4.525      4.865   \n",
       "11-1011.03      3.625    3.440     3.87  ...      3.520      4.575      4.385   \n",
       "11-1021.00      3.560    3.125     4.00  ...      4.005      4.365      3.725   \n",
       "11-2011.00      3.685    3.125     3.75  ...      3.495      3.470      3.035   \n",
       "11-2021.00      4.000    3.310     4.00  ...      2.940      4.400      4.170   \n",
       "\n",
       "element_id    4.A.4.b.3  4.A.4.b.4  4.A.4.b.5  4.A.4.b.6  4.A.4.c.1  \\\n",
       "onetsoc_code                                                          \n",
       "11-1011.00        3.170      5.230       4.36      4.535      3.635   \n",
       "11-1011.03        4.400      4.280       4.18      4.820      3.405   \n",
       "11-1021.00        3.770      4.470       4.13      3.985      3.370   \n",
       "11-2011.00        2.785      3.120       2.95      2.415      3.380   \n",
       "11-2021.00        3.240      4.035       3.55      3.760      2.770   \n",
       "\n",
       "element_id    4.A.4.c.2  4.A.4.c.3  \n",
       "onetsoc_code                        \n",
       "11-1011.00        4.165      5.220  \n",
       "11-1011.03        3.195      3.830  \n",
       "11-1021.00        3.715      4.190  \n",
       "11-2011.00        2.300      2.800  \n",
       "11-2021.00        2.215      3.515  \n",
       "\n",
       "[5 rows x 109 columns]"
      ]
     },
     "execution_count": 33,
     "metadata": {},
     "output_type": "execute_result"
    }
   ],
   "source": [
    "final_dataset.head()"
   ]
  },
  {
   "cell_type": "code",
   "execution_count": 34,
   "metadata": {},
   "outputs": [
    {
     "data": {
      "text/plain": [
       "'onetsoc_code'"
      ]
     },
     "execution_count": 34,
     "metadata": {},
     "output_type": "execute_result"
    }
   ],
   "source": [
    "final_dataset.index.name"
   ]
  },
  {
   "cell_type": "markdown",
   "metadata": {},
   "source": [
    "# Training a model"
   ]
  },
  {
   "cell_type": "code",
   "execution_count": 35,
   "metadata": {},
   "outputs": [],
   "source": [
    "from sklearn.cluster import KMeans\n",
    "import seaborn as sns"
   ]
  },
  {
   "cell_type": "code",
   "execution_count": 36,
   "metadata": {},
   "outputs": [],
   "source": [
    "clusters = []\n",
    "\n",
    "for i in range(1, 50):\n",
    "    km = KMeans(n_clusters = i).fit(final_dataset)\n",
    "    clusters.append(km.inertia_)"
   ]
  },
  {
   "cell_type": "code",
   "execution_count": 37,
   "metadata": {},
   "outputs": [
    {
     "data": {
      "image/png": "[encoded data removed]",
      "text/plain": [
       "<Figure size 864x576 with 1 Axes>"
      ]
     },
     "metadata": {
      "needs_background": "light"
     },
     "output_type": "display_data"
    }
   ],
   "source": [
    "fig, ax = plt.subplots(figsize=(12, 8))\n",
    "sns.lineplot(x = list(range(1, 50)), y = clusters, ax = ax)\n",
    "ax.set_title('Searching for Elbow')\n",
    "ax.set_xlabel('Clusters')\n",
    "ax.set_ylabel('Inertia')\n",
    "\n",
    "\n",
    "plt.show()"
   ]
  },
  {
   "cell_type": "code",
   "execution_count": null,
   "metadata": {},
   "outputs": [],
   "source": []
  }
 ],
 "metadata": {
  "kernelspec": {
   "display_name": "Python 3",
   "language": "python",
   "name": "python3"
  },
  "language_info": {
   "codemirror_mode": {
    "name": "ipython",
    "version": 3
   },
   "file_extension": ".py",
   "mimetype": "text/x-python",
   "name": "python",
   "nbconvert_exporter": "python",
   "pygments_lexer": "ipython3",
   "version": "3.6.9"
  }
 },
 "nbformat": 4,
 "nbformat_minor": 4
}

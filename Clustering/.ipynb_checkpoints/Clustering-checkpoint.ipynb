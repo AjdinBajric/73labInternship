{
 "cells": [
  {
   "cell_type": "markdown",
   "metadata": {},
   "source": [
    "# Data preprocessing"
   ]
  },
  {
   "cell_type": "code",
   "execution_count": 1,
   "metadata": {},
   "outputs": [],
   "source": [
    "import numpy as np\n",
    "import pandas as pd\n",
    "import json\n",
    "import matplotlib.pyplot as plt"
   ]
  },
  {
   "cell_type": "code",
   "execution_count": 2,
   "metadata": {},
   "outputs": [],
   "source": [
    "def read_json(file):\n",
    "    reader = pd.read_json(f\"Data/{file}.json\")\n",
    "    return reader[['onetsoc_code','element_id', 'scale_id', 'data_value']]"
   ]
  },
  {
   "cell_type": "code",
   "execution_count": 3,
   "metadata": {},
   "outputs": [],
   "source": [
    "knowledge = read_json(\"knowledge\")\n",
    "skills = read_json(\"skills\")\n",
    "work_activities = read_json(\"work_activities\")"
   ]
  },
  {
   "cell_type": "code",
   "execution_count": 4,
   "metadata": {
    "scrolled": true
   },
   "outputs": [
    {
     "data": {
      "text/html": [
       "<div>\n",
       "<style scoped>\n",
       "    .dataframe tbody tr th:only-of-type {\n",
       "        vertical-align: middle;\n",
       "    }\n",
       "\n",
       "    .dataframe tbody tr th {\n",
       "        vertical-align: top;\n",
       "    }\n",
       "\n",
       "    .dataframe thead th {\n",
       "        text-align: right;\n",
       "    }\n",
       "</style>\n",
       "<table border=\"1\" class=\"dataframe\">\n",
       "  <thead>\n",
       "    <tr style=\"text-align: right;\">\n",
       "      <th></th>\n",
       "      <th>onetsoc_code</th>\n",
       "      <th>element_id</th>\n",
       "      <th>scale_id</th>\n",
       "      <th>data_value</th>\n",
       "    </tr>\n",
       "  </thead>\n",
       "  <tbody>\n",
       "    <tr>\n",
       "      <th>0</th>\n",
       "      <td>11-1011.00</td>\n",
       "      <td>2.C.1.a</td>\n",
       "      <td>IM</td>\n",
       "      <td>4.75</td>\n",
       "    </tr>\n",
       "    <tr>\n",
       "      <th>1</th>\n",
       "      <td>11-1011.00</td>\n",
       "      <td>2.C.1.a</td>\n",
       "      <td>LV</td>\n",
       "      <td>6.23</td>\n",
       "    </tr>\n",
       "    <tr>\n",
       "      <th>2</th>\n",
       "      <td>11-1011.00</td>\n",
       "      <td>2.C.1.b</td>\n",
       "      <td>IM</td>\n",
       "      <td>2.66</td>\n",
       "    </tr>\n",
       "    <tr>\n",
       "      <th>3</th>\n",
       "      <td>11-1011.00</td>\n",
       "      <td>2.C.1.b</td>\n",
       "      <td>LV</td>\n",
       "      <td>3.50</td>\n",
       "    </tr>\n",
       "    <tr>\n",
       "      <th>4</th>\n",
       "      <td>11-1011.00</td>\n",
       "      <td>2.C.1.c</td>\n",
       "      <td>IM</td>\n",
       "      <td>3.70</td>\n",
       "    </tr>\n",
       "    <tr>\n",
       "      <th>5</th>\n",
       "      <td>11-1011.00</td>\n",
       "      <td>2.C.1.c</td>\n",
       "      <td>LV</td>\n",
       "      <td>4.36</td>\n",
       "    </tr>\n",
       "    <tr>\n",
       "      <th>6</th>\n",
       "      <td>11-1011.00</td>\n",
       "      <td>2.C.1.d</td>\n",
       "      <td>IM</td>\n",
       "      <td>3.23</td>\n",
       "    </tr>\n",
       "    <tr>\n",
       "      <th>7</th>\n",
       "      <td>11-1011.00</td>\n",
       "      <td>2.C.1.d</td>\n",
       "      <td>LV</td>\n",
       "      <td>3.90</td>\n",
       "    </tr>\n",
       "    <tr>\n",
       "      <th>8</th>\n",
       "      <td>11-1011.00</td>\n",
       "      <td>2.C.1.e</td>\n",
       "      <td>IM</td>\n",
       "      <td>4.09</td>\n",
       "    </tr>\n",
       "    <tr>\n",
       "      <th>9</th>\n",
       "      <td>11-1011.00</td>\n",
       "      <td>2.C.1.e</td>\n",
       "      <td>LV</td>\n",
       "      <td>5.55</td>\n",
       "    </tr>\n",
       "  </tbody>\n",
       "</table>\n",
       "</div>"
      ],
      "text/plain": [
       "  onetsoc_code element_id scale_id  data_value\n",
       "0   11-1011.00    2.C.1.a       IM        4.75\n",
       "1   11-1011.00    2.C.1.a       LV        6.23\n",
       "2   11-1011.00    2.C.1.b       IM        2.66\n",
       "3   11-1011.00    2.C.1.b       LV        3.50\n",
       "4   11-1011.00    2.C.1.c       IM        3.70\n",
       "5   11-1011.00    2.C.1.c       LV        4.36\n",
       "6   11-1011.00    2.C.1.d       IM        3.23\n",
       "7   11-1011.00    2.C.1.d       LV        3.90\n",
       "8   11-1011.00    2.C.1.e       IM        4.09\n",
       "9   11-1011.00    2.C.1.e       LV        5.55"
      ]
     },
     "execution_count": 4,
     "metadata": {},
     "output_type": "execute_result"
    }
   ],
   "source": [
    "knowledge.head(10)"
   ]
  },
  {
   "cell_type": "code",
   "execution_count": 5,
   "metadata": {
    "scrolled": true
   },
   "outputs": [
    {
     "data": {
      "text/html": [
       "<div>\n",
       "<style scoped>\n",
       "    .dataframe tbody tr th:only-of-type {\n",
       "        vertical-align: middle;\n",
       "    }\n",
       "\n",
       "    .dataframe tbody tr th {\n",
       "        vertical-align: top;\n",
       "    }\n",
       "\n",
       "    .dataframe thead th {\n",
       "        text-align: right;\n",
       "    }\n",
       "</style>\n",
       "<table border=\"1\" class=\"dataframe\">\n",
       "  <thead>\n",
       "    <tr style=\"text-align: right;\">\n",
       "      <th></th>\n",
       "      <th>onetsoc_code</th>\n",
       "      <th>element_id</th>\n",
       "      <th>scale_id</th>\n",
       "      <th>data_value</th>\n",
       "    </tr>\n",
       "  </thead>\n",
       "  <tbody>\n",
       "    <tr>\n",
       "      <th>67008</th>\n",
       "      <td>53-7121.00</td>\n",
       "      <td>2.B.4.h</td>\n",
       "      <td>IM</td>\n",
       "      <td>2.12</td>\n",
       "    </tr>\n",
       "    <tr>\n",
       "      <th>67009</th>\n",
       "      <td>53-7121.00</td>\n",
       "      <td>2.B.4.h</td>\n",
       "      <td>LV</td>\n",
       "      <td>2.12</td>\n",
       "    </tr>\n",
       "    <tr>\n",
       "      <th>67010</th>\n",
       "      <td>53-7121.00</td>\n",
       "      <td>2.B.5.a</td>\n",
       "      <td>IM</td>\n",
       "      <td>3.12</td>\n",
       "    </tr>\n",
       "    <tr>\n",
       "      <th>67011</th>\n",
       "      <td>53-7121.00</td>\n",
       "      <td>2.B.5.a</td>\n",
       "      <td>LV</td>\n",
       "      <td>2.88</td>\n",
       "    </tr>\n",
       "    <tr>\n",
       "      <th>67012</th>\n",
       "      <td>53-7121.00</td>\n",
       "      <td>2.B.5.b</td>\n",
       "      <td>IM</td>\n",
       "      <td>2.00</td>\n",
       "    </tr>\n",
       "    <tr>\n",
       "      <th>67013</th>\n",
       "      <td>53-7121.00</td>\n",
       "      <td>2.B.5.b</td>\n",
       "      <td>LV</td>\n",
       "      <td>1.12</td>\n",
       "    </tr>\n",
       "    <tr>\n",
       "      <th>67014</th>\n",
       "      <td>53-7121.00</td>\n",
       "      <td>2.B.5.c</td>\n",
       "      <td>IM</td>\n",
       "      <td>2.00</td>\n",
       "    </tr>\n",
       "    <tr>\n",
       "      <th>67015</th>\n",
       "      <td>53-7121.00</td>\n",
       "      <td>2.B.5.c</td>\n",
       "      <td>LV</td>\n",
       "      <td>1.88</td>\n",
       "    </tr>\n",
       "    <tr>\n",
       "      <th>67016</th>\n",
       "      <td>53-7121.00</td>\n",
       "      <td>2.B.5.d</td>\n",
       "      <td>IM</td>\n",
       "      <td>2.88</td>\n",
       "    </tr>\n",
       "    <tr>\n",
       "      <th>67017</th>\n",
       "      <td>53-7121.00</td>\n",
       "      <td>2.B.5.d</td>\n",
       "      <td>LV</td>\n",
       "      <td>2.75</td>\n",
       "    </tr>\n",
       "  </tbody>\n",
       "</table>\n",
       "</div>"
      ],
      "text/plain": [
       "      onetsoc_code element_id scale_id  data_value\n",
       "67008   53-7121.00    2.B.4.h       IM        2.12\n",
       "67009   53-7121.00    2.B.4.h       LV        2.12\n",
       "67010   53-7121.00    2.B.5.a       IM        3.12\n",
       "67011   53-7121.00    2.B.5.a       LV        2.88\n",
       "67012   53-7121.00    2.B.5.b       IM        2.00\n",
       "67013   53-7121.00    2.B.5.b       LV        1.12\n",
       "67014   53-7121.00    2.B.5.c       IM        2.00\n",
       "67015   53-7121.00    2.B.5.c       LV        1.88\n",
       "67016   53-7121.00    2.B.5.d       IM        2.88\n",
       "67017   53-7121.00    2.B.5.d       LV        2.75"
      ]
     },
     "execution_count": 5,
     "metadata": {},
     "output_type": "execute_result"
    }
   ],
   "source": [
    "skills.tail(10)"
   ]
  },
  {
   "cell_type": "code",
   "execution_count": 6,
   "metadata": {},
   "outputs": [
    {
     "data": {
      "text/html": [
       "<div>\n",
       "<style scoped>\n",
       "    .dataframe tbody tr th:only-of-type {\n",
       "        vertical-align: middle;\n",
       "    }\n",
       "\n",
       "    .dataframe tbody tr th {\n",
       "        vertical-align: top;\n",
       "    }\n",
       "\n",
       "    .dataframe thead th {\n",
       "        text-align: right;\n",
       "    }\n",
       "</style>\n",
       "<table border=\"1\" class=\"dataframe\">\n",
       "  <thead>\n",
       "    <tr style=\"text-align: right;\">\n",
       "      <th></th>\n",
       "      <th>onetsoc_code</th>\n",
       "      <th>element_id</th>\n",
       "      <th>scale_id</th>\n",
       "      <th>data_value</th>\n",
       "    </tr>\n",
       "  </thead>\n",
       "  <tbody>\n",
       "    <tr>\n",
       "      <th>79320</th>\n",
       "      <td>53-7121.00</td>\n",
       "      <td>4.A.4.b.5</td>\n",
       "      <td>IM</td>\n",
       "      <td>3.07</td>\n",
       "    </tr>\n",
       "    <tr>\n",
       "      <th>79321</th>\n",
       "      <td>53-7121.00</td>\n",
       "      <td>4.A.4.b.5</td>\n",
       "      <td>LV</td>\n",
       "      <td>3.28</td>\n",
       "    </tr>\n",
       "    <tr>\n",
       "      <th>79322</th>\n",
       "      <td>53-7121.00</td>\n",
       "      <td>4.A.4.b.6</td>\n",
       "      <td>IM</td>\n",
       "      <td>2.72</td>\n",
       "    </tr>\n",
       "    <tr>\n",
       "      <th>79323</th>\n",
       "      <td>53-7121.00</td>\n",
       "      <td>4.A.4.b.6</td>\n",
       "      <td>LV</td>\n",
       "      <td>2.40</td>\n",
       "    </tr>\n",
       "    <tr>\n",
       "      <th>79324</th>\n",
       "      <td>53-7121.00</td>\n",
       "      <td>4.A.4.c.1</td>\n",
       "      <td>IM</td>\n",
       "      <td>2.54</td>\n",
       "    </tr>\n",
       "    <tr>\n",
       "      <th>79325</th>\n",
       "      <td>53-7121.00</td>\n",
       "      <td>4.A.4.c.1</td>\n",
       "      <td>LV</td>\n",
       "      <td>2.27</td>\n",
       "    </tr>\n",
       "    <tr>\n",
       "      <th>79326</th>\n",
       "      <td>53-7121.00</td>\n",
       "      <td>4.A.4.c.2</td>\n",
       "      <td>IM</td>\n",
       "      <td>1.93</td>\n",
       "    </tr>\n",
       "    <tr>\n",
       "      <th>79327</th>\n",
       "      <td>53-7121.00</td>\n",
       "      <td>4.A.4.c.2</td>\n",
       "      <td>LV</td>\n",
       "      <td>1.60</td>\n",
       "    </tr>\n",
       "    <tr>\n",
       "      <th>79328</th>\n",
       "      <td>53-7121.00</td>\n",
       "      <td>4.A.4.c.3</td>\n",
       "      <td>IM</td>\n",
       "      <td>2.56</td>\n",
       "    </tr>\n",
       "    <tr>\n",
       "      <th>79329</th>\n",
       "      <td>53-7121.00</td>\n",
       "      <td>4.A.4.c.3</td>\n",
       "      <td>LV</td>\n",
       "      <td>2.64</td>\n",
       "    </tr>\n",
       "  </tbody>\n",
       "</table>\n",
       "</div>"
      ],
      "text/plain": [
       "      onetsoc_code element_id scale_id  data_value\n",
       "79320   53-7121.00  4.A.4.b.5       IM        3.07\n",
       "79321   53-7121.00  4.A.4.b.5       LV        3.28\n",
       "79322   53-7121.00  4.A.4.b.6       IM        2.72\n",
       "79323   53-7121.00  4.A.4.b.6       LV        2.40\n",
       "79324   53-7121.00  4.A.4.c.1       IM        2.54\n",
       "79325   53-7121.00  4.A.4.c.1       LV        2.27\n",
       "79326   53-7121.00  4.A.4.c.2       IM        1.93\n",
       "79327   53-7121.00  4.A.4.c.2       LV        1.60\n",
       "79328   53-7121.00  4.A.4.c.3       IM        2.56\n",
       "79329   53-7121.00  4.A.4.c.3       LV        2.64"
      ]
     },
     "execution_count": 6,
     "metadata": {},
     "output_type": "execute_result"
    }
   ],
   "source": [
    "work_activities.tail(10)"
   ]
  },
  {
   "cell_type": "markdown",
   "metadata": {},
   "source": [
    "### Required knowledge"
   ]
  },
  {
   "cell_type": "code",
   "execution_count": 7,
   "metadata": {},
   "outputs": [
    {
     "data": {
      "text/plain": [
       "967"
      ]
     },
     "execution_count": 7,
     "metadata": {},
     "output_type": "execute_result"
    }
   ],
   "source": [
    "len(knowledge[\"onetsoc_code\"].value_counts())"
   ]
  },
  {
   "cell_type": "code",
   "execution_count": 8,
   "metadata": {
    "scrolled": false
   },
   "outputs": [
    {
     "data": {
      "text/plain": [
       "43-4111.00    55\n",
       "43-4131.00    61\n",
       "17-2199.05    66\n",
       "11-3051.03    66\n",
       "15-1199.10    66\n",
       "              ..\n",
       "11-9013.03    66\n",
       "13-2071.00    66\n",
       "29-1171.00    66\n",
       "15-1122.00    66\n",
       "19-3011.01    66\n",
       "Name: onetsoc_code, Length: 967, dtype: int64"
      ]
     },
     "execution_count": 8,
     "metadata": {},
     "output_type": "execute_result"
    }
   ],
   "source": [
    "knowledge[\"onetsoc_code\"].value_counts().sort_values()"
   ]
  },
  {
   "cell_type": "code",
   "execution_count": 9,
   "metadata": {},
   "outputs": [
    {
     "data": {
      "text/plain": [
       "33"
      ]
     },
     "execution_count": 9,
     "metadata": {},
     "output_type": "execute_result"
    }
   ],
   "source": [
    "len(knowledge.groupby([\"element_id\"]).size())"
   ]
  },
  {
   "cell_type": "markdown",
   "metadata": {},
   "source": [
    "### Required skills"
   ]
  },
  {
   "cell_type": "code",
   "execution_count": 23,
   "metadata": {},
   "outputs": [
    {
     "data": {
      "text/plain": [
       "951"
      ]
     },
     "execution_count": 23,
     "metadata": {},
     "output_type": "execute_result"
    }
   ],
   "source": [
    "len(skills[\"onetsoc_code\"].value_counts())"
   ]
  },
  {
   "cell_type": "code",
   "execution_count": 24,
   "metadata": {
    "scrolled": true
   },
   "outputs": [
    {
     "data": {
      "text/plain": [
       "19-4051.01    70\n",
       "11-3051.03    70\n",
       "15-1199.10    70\n",
       "41-3099.01    70\n",
       "43-3021.02    70\n",
       "              ..\n",
       "11-3051.06    70\n",
       "11-9013.03    70\n",
       "13-2071.00    70\n",
       "47-5012.00    70\n",
       "47-2061.00    70\n",
       "Name: onetsoc_code, Length: 951, dtype: int64"
      ]
     },
     "execution_count": 24,
     "metadata": {},
     "output_type": "execute_result"
    }
   ],
   "source": [
    "skills[\"onetsoc_code\"].value_counts().sort_values()"
   ]
  },
  {
   "cell_type": "code",
   "execution_count": 12,
   "metadata": {},
   "outputs": [
    {
     "data": {
      "text/plain": [
       "35"
      ]
     },
     "execution_count": 12,
     "metadata": {},
     "output_type": "execute_result"
    }
   ],
   "source": [
    "len(skills.groupby([\"element_id\"]).size())"
   ]
  },
  {
   "cell_type": "markdown",
   "metadata": {},
   "source": [
    "### Work activities"
   ]
  },
  {
   "cell_type": "code",
   "execution_count": 25,
   "metadata": {},
   "outputs": [
    {
     "data": {
      "text/plain": [
       "965"
      ]
     },
     "execution_count": 25,
     "metadata": {},
     "output_type": "execute_result"
    }
   ],
   "source": [
    "len(work_activities[\"onetsoc_code\"].value_counts())"
   ]
  },
  {
   "cell_type": "code",
   "execution_count": 26,
   "metadata": {
    "scrolled": true
   },
   "outputs": [
    {
     "data": {
      "text/plain": [
       "19-4051.01    82\n",
       "15-1199.09    82\n",
       "11-3051.03    82\n",
       "15-1199.10    82\n",
       "41-3099.01    82\n",
       "              ..\n",
       "11-3051.06    82\n",
       "11-9013.03    82\n",
       "13-2071.00    82\n",
       "51-6063.00    82\n",
       "47-2061.00    82\n",
       "Name: onetsoc_code, Length: 965, dtype: int64"
      ]
     },
     "execution_count": 26,
     "metadata": {},
     "output_type": "execute_result"
    }
   ],
   "source": [
    "work_activities[\"onetsoc_code\"].value_counts().sort_values()"
   ]
  },
  {
   "cell_type": "code",
   "execution_count": 27,
   "metadata": {},
   "outputs": [
    {
     "data": {
      "text/plain": [
       "41"
      ]
     },
     "execution_count": 27,
     "metadata": {},
     "output_type": "execute_result"
    }
   ],
   "source": [
    "len(work_activities.groupby([\"element_id\"]).size())"
   ]
  },
  {
   "cell_type": "markdown",
   "metadata": {},
   "source": [
    "## Reducing number of jobs"
   ]
  },
  {
   "cell_type": "code",
   "execution_count": 28,
   "metadata": {},
   "outputs": [
    {
     "name": "stdout",
     "output_type": "stream",
     "text": [
      "There is 951 matches between jobs described in skills and knowledge dataset\n"
     ]
    }
   ],
   "source": [
    "c = 0\n",
    "\n",
    "for job in skills[\"onetsoc_code\"].unique():\n",
    "    if job in list(knowledge[\"onetsoc_code\"]) :\n",
    "        c+=1  \n",
    "    else:\n",
    "        print(\"In knowledge dataset there is no any data about: \" + str(job) + \" job\")\n",
    "print(\"There is \" + str(c) + \" matches between jobs described in skills and knowledge dataset\")"
   ]
  },
  {
   "cell_type": "code",
   "execution_count": 29,
   "metadata": {},
   "outputs": [
    {
     "name": "stdout",
     "output_type": "stream",
     "text": [
      "There is 951 matches between jobs described in skills and work_activities dataset\n"
     ]
    }
   ],
   "source": [
    "c = 0\n",
    "\n",
    "for job in skills[\"onetsoc_code\"].unique():\n",
    "    if job in list(work_activities[\"onetsoc_code\"]) :\n",
    "        c+=1  \n",
    "    else:\n",
    "        print(\"In knowledge dataset there is no any data about: \" + str(job) + \" job\")\n",
    "print(\"There is \" + str(c) + \" matches between jobs described in skills and work_activities dataset\")"
   ]
  },
  {
   "cell_type": "markdown",
   "metadata": {},
   "source": [
    "## From the analysis above we can conclude that:\n",
    "\n",
    "- All of three datasets should have 958 job titles (We need to drop \"43-4121.00\" because knowledge dataset does not contain any data for it)\n",
    "- <b>Skills dataset</b> does not contain 70 skills for: <b>49-2093.00, 33-9021.00, 49-3021.00, 33-3051.01</b> as others. It means that they would be dropped.\n",
    "- The same thing is happening for job titles: <b>43-4111.00, 43-4131.00 in knowledge dataset</b>.\n",
    "- <b>47-1011.00 would be dropped from work_activities because of that reason</b>\n",
    "\n",
    "# Let's start with cleaning\n"
   ]
  },
  {
   "cell_type": "markdown",
   "metadata": {},
   "source": [
    "### Step 1:"
   ]
  },
  {
   "cell_type": "code",
   "execution_count": 18,
   "metadata": {},
   "outputs": [],
   "source": [
    "knowledge.drop(knowledge.loc[knowledge['onetsoc_code']==\"43-4121.00\"].index, inplace=True)"
   ]
  },
  {
   "cell_type": "code",
   "execution_count": 19,
   "metadata": {},
   "outputs": [],
   "source": [
    "skills.drop(skills.loc[skills['onetsoc_code']==\"43-4121.00\"].index, inplace=True)"
   ]
  },
  {
   "cell_type": "markdown",
   "metadata": {},
   "source": [
    "### Step 2:"
   ]
  },
  {
   "cell_type": "code",
   "execution_count": 20,
   "metadata": {},
   "outputs": [],
   "source": [
    "skills.drop(skills.loc[skills['onetsoc_code']==\"49-2093.00\"].index, inplace=True)\n",
    "skills.drop(skills.loc[skills['onetsoc_code']==\"33-9021.00\"].index, inplace=True)\n",
    "skills.drop(skills.loc[skills['onetsoc_code']==\"49-3021.00\"].index, inplace=True)\n",
    "skills.drop(skills.loc[skills['onetsoc_code']==\"33-3051.01\"].index, inplace=True)"
   ]
  },
  {
   "cell_type": "markdown",
   "metadata": {},
   "source": [
    "### Step 3:"
   ]
  },
  {
   "cell_type": "code",
   "execution_count": 21,
   "metadata": {},
   "outputs": [],
   "source": [
    "knowledge.drop(knowledge.loc[knowledge['onetsoc_code']==\"43-4111.00\"].index, inplace=True)\n",
    "knowledge.drop(knowledge.loc[knowledge['onetsoc_code']==\"43-4131.00\"].index, inplace=True)\n",
    "\n",
    "skills.drop(skills.loc[skills['onetsoc_code']==\"43-4111.00\"].index, inplace=True)\n",
    "skills.drop(skills.loc[skills['onetsoc_code']==\"43-4131.00\"].index, inplace=True)\n",
    "\n",
    "work_activities.drop(work_activities.loc[work_activities['onetsoc_code']==\"43-4111.00\"].index, inplace=True)\n",
    "work_activities.drop(work_activities.loc[work_activities['onetsoc_code']==\"43-4131.00\"].index, inplace=True)"
   ]
  },
  {
   "cell_type": "code",
   "execution_count": 22,
   "metadata": {},
   "outputs": [],
   "source": [
    "work_activities.drop(work_activities.loc[work_activities['onetsoc_code']==\"47-1011.00\"].index, inplace=True)\n",
    "\n",
    "knowledge.drop(knowledge.loc[knowledge['onetsoc_code']==\"47-1011.00\"].index, inplace=True)\n",
    "\n",
    "skills.drop(skills.loc[skills['onetsoc_code']==\"47-1011.00\"].index, inplace=True)\n"
   ]
  },
  {
   "cell_type": "code",
   "execution_count": null,
   "metadata": {},
   "outputs": [],
   "source": []
  }
 ],
 "metadata": {
  "kernelspec": {
   "display_name": "Python 3",
   "language": "python",
   "name": "python3"
  },
  "language_info": {
   "codemirror_mode": {
    "name": "ipython",
    "version": 3
   },
   "file_extension": ".py",
   "mimetype": "text/x-python",
   "name": "python",
   "nbconvert_exporter": "python",
   "pygments_lexer": "ipython3",
   "version": "3.6.9"
  }
 },
 "nbformat": 4,
 "nbformat_minor": 4
}

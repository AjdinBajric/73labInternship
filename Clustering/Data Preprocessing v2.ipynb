{
 "cells": [
  {
   "cell_type": "code",
   "execution_count": 1,
   "metadata": {},
   "outputs": [],
   "source": [
    "import numpy as np\n",
    "import pandas as pd\n",
    "import json\n",
    "import matplotlib.pyplot as plt"
   ]
  },
  {
   "cell_type": "code",
   "execution_count": 2,
   "metadata": {},
   "outputs": [],
   "source": [
    "def read_json(file):\n",
    "    reader = pd.read_json(f\"Data/{file}.json\")\n",
    "    return reader[['onetsoc_code','element_id', 'scale_id', 'data_value']]"
   ]
  },
  {
   "cell_type": "code",
   "execution_count": 3,
   "metadata": {},
   "outputs": [],
   "source": [
    "knowledge = read_json(\"knowledge\")\n",
    "abilities = read_json(\"abilities\")\n",
    "skills = read_json(\"skills\")\n",
    "work_activities = read_json(\"work_activities\")"
   ]
  },
  {
   "cell_type": "markdown",
   "metadata": {},
   "source": [
    "## Check for null values"
   ]
  },
  {
   "cell_type": "code",
   "execution_count": 30,
   "metadata": {},
   "outputs": [],
   "source": [
    "t = knowledge[\"onetsoc_code\"]\n",
    "for i in skills:\n",
    "    if i == \"17-2111.01\":\n",
    "        print(\"tu\")"
   ]
  },
  {
   "cell_type": "code",
   "execution_count": 5,
   "metadata": {},
   "outputs": [
    {
     "ename": "NameError",
     "evalue": "name 'asasas' is not defined",
     "output_type": "error",
     "traceback": [
      "\u001b[0;31m---------------------------------------------------------------------------\u001b[0m",
      "\u001b[0;31mNameError\u001b[0m                                 Traceback (most recent call last)",
      "\u001b[0;32m<ipython-input-5-b628be4ad7d9>\u001b[0m in \u001b[0;36m<module>\u001b[0;34m\u001b[0m\n\u001b[0;32m----> 1\u001b[0;31m \u001b[0masasas\u001b[0m\u001b[0;34m\u001b[0m\u001b[0;34m\u001b[0m\u001b[0m\n\u001b[0m",
      "\u001b[0;31mNameError\u001b[0m: name 'asasas' is not defined"
     ]
    }
   ],
   "source": [
    "asasas"
   ]
  },
  {
   "cell_type": "code",
   "execution_count": null,
   "metadata": {},
   "outputs": [],
   "source": []
  },
  {
   "cell_type": "code",
   "execution_count": null,
   "metadata": {},
   "outputs": [],
   "source": [
    "knowledge.drop(knowledge.loc[knowledge['onetsoc_code']==\"43-4121.00\"].index, inplace=True)"
   ]
  },
  {
   "cell_type": "code",
   "execution_count": null,
   "metadata": {},
   "outputs": [],
   "source": [
    "skills.drop(skills.loc[skills['onetsoc_code']==\"43-4121.00\"].index, inplace=True)"
   ]
  },
  {
   "cell_type": "code",
   "execution_count": null,
   "metadata": {},
   "outputs": [],
   "source": [
    "skills.drop(skills.loc[skills['onetsoc_code']==\"49-2093.00\"].index, inplace=True)\n",
    "skills.drop(skills.loc[skills['onetsoc_code']==\"33-9021.00\"].index, inplace=True)\n",
    "skills.drop(skills.loc[skills['onetsoc_code']==\"49-3021.00\"].index, inplace=True)\n",
    "skills.drop(skills.loc[skills['onetsoc_code']==\"33-3051.01\"].index, inplace=True)\n",
    "\n",
    "#because of abilities\n",
    "skills.drop(skills.loc[skills['onetsoc_code']==\"17-2111.02\"].index, inplace=True)\n",
    "skills.drop(skills.loc[skills['onetsoc_code']==\"17-2111.03\"].index, inplace=True)\n",
    "skills.drop(skills.loc[skills['onetsoc_code']==\"17-2112.00\"].index, inplace=True)\n",
    "skills.drop(skills.loc[skills['onetsoc_code']==\"17-2112.01\"].index, inplace=True)\n",
    "skills.drop(skills.loc[skills['onetsoc_code']==\"17-2121.01\"].index, inplace=True)\n",
    "skills.drop(skills.loc[skills['onetsoc_code']==\"17-2121.02\"].index, inplace=True)\n",
    "skills.drop(skills.loc[skills['onetsoc_code']==\"33-1021.02\"].index, inplace=True)\n",
    "skills.drop(skills.loc[skills['onetsoc_code']==\"17-2131.00\"].index, inplace=True)\n",
    "skills.drop(skills.loc[skills['onetsoc_code']==\"17-2111.010\"].index, inplace=True)"
   ]
  },
  {
   "cell_type": "code",
   "execution_count": null,
   "metadata": {},
   "outputs": [],
   "source": [
    "knowledge.drop(knowledge.loc[knowledge['onetsoc_code']==\"43-4111.00\"].index, inplace=True)\n",
    "knowledge.drop(knowledge.loc[knowledge['onetsoc_code']==\"43-4131.00\"].index, inplace=True)\n",
    "\n",
    "skills.drop(skills.loc[skills['onetsoc_code']==\"43-4111.00\"].index, inplace=True)\n",
    "skills.drop(skills.loc[skills['onetsoc_code']==\"43-4131.00\"].index, inplace=True)\n",
    "\n",
    "work_activities.drop(work_activities.loc[work_activities['onetsoc_code']==\"43-4111.00\"].index, inplace=True)\n",
    "work_activities.drop(work_activities.loc[work_activities['onetsoc_code']==\"43-4131.00\"].index, inplace=True)"
   ]
  },
  {
   "cell_type": "code",
   "execution_count": null,
   "metadata": {},
   "outputs": [],
   "source": [
    "work_activities.drop(work_activities.loc[work_activities['onetsoc_code']==\"47-1011.00\"].index, inplace=True)\n",
    "\n",
    "knowledge.drop(knowledge.loc[knowledge['onetsoc_code']==\"47-1011.00\"].index, inplace=True)\n",
    "\n",
    "skills.drop(skills.loc[skills['onetsoc_code']==\"47-1011.00\"].index, inplace=True)"
   ]
  },
  {
   "cell_type": "code",
   "execution_count": null,
   "metadata": {},
   "outputs": [],
   "source": [
    "abilities.drop(abilities.loc[abilities['onetsoc_code']==\"17-2111.010\"].index, inplace=True)\n",
    "abilities.drop(abilities.loc[abilities['onetsoc_code']==\"17-2131.00\"].index, inplace=True)\n",
    "abilities.drop(abilities.loc[abilities['onetsoc_code']==\"33-1021.02\"].index, inplace=True)"
   ]
  },
  {
   "cell_type": "code",
   "execution_count": null,
   "metadata": {},
   "outputs": [],
   "source": [
    "knowledge = knowledge[knowledge[\"onetsoc_code\"].isin(skills[\"onetsoc_code\"])]"
   ]
  },
  {
   "cell_type": "code",
   "execution_count": null,
   "metadata": {},
   "outputs": [],
   "source": [
    "work_activities = work_activities[work_activities[\"onetsoc_code\"].isin(skills[\"onetsoc_code\"])]"
   ]
  },
  {
   "cell_type": "code",
   "execution_count": null,
   "metadata": {},
   "outputs": [],
   "source": [
    "abilities = abilities[abilities[\"onetsoc_code\"].isin(skills[\"onetsoc_code\"])]"
   ]
  },
  {
   "cell_type": "code",
   "execution_count": null,
   "metadata": {},
   "outputs": [],
   "source": [
    "print(\"Work activities shape: \" + str(work_activities.shape) + \"\\n\" + \"Skills shape: \" + str(skills.shape) + \"\\n\" + \"Knowledge shape: \" + str(knowledge.shape) + \"\\n\" + \"Abilities shape: \" + str(abilities.shape))"
   ]
  },
  {
   "cell_type": "code",
   "execution_count": null,
   "metadata": {},
   "outputs": [],
   "source": [
    "skills = skills.reset_index(drop = True)\n",
    "knowledge = knowledge.reset_index(drop = True)\n",
    "work_activities = work_activities.reset_index(drop = True)\n",
    "abilities = abilities.reset_index(drop = True)"
   ]
  },
  {
   "cell_type": "code",
   "execution_count": null,
   "metadata": {},
   "outputs": [],
   "source": [
    "def modify_dataset(dataset):\n",
    "    for i in range(len(dataset)):\n",
    "        dataset[\"element_id\"][i] += (\"_\" + str(dataset[\"scale_id\"][i]))"
   ]
  },
  {
   "cell_type": "code",
   "execution_count": null,
   "metadata": {},
   "outputs": [],
   "source": [
    "modify_dataset(skills)\n",
    "modify_dataset(knowledge)\n",
    "modify_dataset(work_activities)\n",
    "modify_dataset(abilities)"
   ]
  },
  {
   "cell_type": "code",
   "execution_count": null,
   "metadata": {},
   "outputs": [],
   "source": [
    "skills = skills.pivot(index='onetsoc_code', columns='element_id', values='data_value')\n",
    "knowledge = knowledge.pivot(index='onetsoc_code', columns='element_id', values='data_value')\n",
    "work_activities = work_activities.pivot(index='onetsoc_code', columns='element_id', values='data_value')\n",
    "abilities = abilities.pivot(index='onetsoc_code', columns='element_id', values='data_value')"
   ]
  },
  {
   "cell_type": "code",
   "execution_count": null,
   "metadata": {},
   "outputs": [],
   "source": [
    "final_dataset = pd.concat([skills, knowledge, work_activities, abilities], axis = 1)"
   ]
  },
  {
   "cell_type": "code",
   "execution_count": null,
   "metadata": {},
   "outputs": [],
   "source": [
    "final_dataset.to_csv(\"big_dataset.csv\")"
   ]
  },
  {
   "cell_type": "code",
   "execution_count": null,
   "metadata": {},
   "outputs": [],
   "source": []
  }
 ],
 "metadata": {
  "kernelspec": {
   "display_name": "Python 3",
   "language": "python",
   "name": "python3"
  },
  "language_info": {
   "codemirror_mode": {
    "name": "ipython",
    "version": 3
   },
   "file_extension": ".py",
   "mimetype": "text/x-python",
   "name": "python",
   "nbconvert_exporter": "python",
   "pygments_lexer": "ipython3",
   "version": "3.6.9"
  }
 },
 "nbformat": 4,
 "nbformat_minor": 4
}

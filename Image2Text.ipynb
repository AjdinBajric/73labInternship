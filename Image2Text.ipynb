{
 "cells": [
  {
   "cell_type": "code",
   "execution_count": 11,
   "metadata": {},
   "outputs": [],
   "source": [
    "import cv2\n",
    "import pytesseract\n",
    "pytesseract.pytesseract.tesseract_cmd = r'C:\\Program Files\\Tesseract-OCR\\tesseract.exe'"
   ]
  },
  {
   "cell_type": "markdown",
   "metadata": {},
   "source": [
    "## First approach\n",
    "Idea: Convert image to string with tesseract library."
   ]
  },
  {
   "cell_type": "code",
   "execution_count": 55,
   "metadata": {},
   "outputs": [
    {
     "data": {
      "text/plain": [
       "'feneled\\n\\nDee\\n\\neee\\n\\nTenens)\\noe\\nSerbian (Full Prof\\n\\nPeres\\n\\net ied\\n\\nrr See\\n\\n(tio)\\n\\ni Ce eat\\nSer eo)\\n\\n \\n\\nAmir Hadzié\\nYouTuber With 390.000+ Followers. Professional Web Developer.\\nInfluencer of The Year 2017\\n\\nSummary\\n\\nFirst Bosnian YouTube Creator with 280.000+ subscribers on my\\nchannel, and 50+ million views.\\n\\nProfessional Web Developer since 2009. | work with modern web\\ntechnologies to achieve simple but powerful solutions. Microsoft\\nCertified IT Professional and Solutions Developer (MCITP & MCSD).\\n\\nExperience\\n\\nYouTube\\nEntertainer\\nMarch 2010 - Present\\n\\nEntertainment\\n\\nAmilma Digital\\nFounder & CEO\\nMay 2009 - October 2016 (7 years 6 months)\\n\\nDASTO semtel\\nNetwork Administrator\\nMay 2011 - September 2011 (5 months)\\n\\nIntemet provider support and management. Brand development, web site\\ntraffic growth, web site Ul and advertising revenue. Developed brand strategy\\nand statistics systems.\\n\\nEducation\\n\\nMicrosoft\\nMicrosoft Certified IT Professional & Solutions Developer, Information'"
      ]
     },
     "execution_count": 55,
     "metadata": {},
     "output_type": "execute_result"
    }
   ],
   "source": [
    "img = cv2.imread('Resumes/AmirH.png')\n",
    "text = pytesseract.image_to_string(img)\n",
    "text"
   ]
  },
  {
   "cell_type": "markdown",
   "metadata": {},
   "source": [
    "## Second approach\n",
    "\n",
    "Idea:\n",
    "Convert image to pdf, and then try to extract text from that pdf file. I thought that converting an image to pdf may have more accuracy."
   ]
  },
  {
   "cell_type": "code",
   "execution_count": 58,
   "metadata": {},
   "outputs": [],
   "source": [
    "img = cv2.imread('Resumes/AmirH.png')\n",
    "text = pytesseract.image_to_pdf_or_hocr(img)"
   ]
  },
  {
   "cell_type": "code",
   "execution_count": 42,
   "metadata": {},
   "outputs": [
    {
     "data": {
      "text/plain": [
       "117553"
      ]
     },
     "execution_count": 42,
     "metadata": {},
     "output_type": "execute_result"
    }
   ],
   "source": [
    "file = open(\"testfile.txt\",\"wb\") \n",
    "file.write(text) "
   ]
  },
  {
   "cell_type": "code",
   "execution_count": 59,
   "metadata": {},
   "outputs": [],
   "source": [
    "import slate3k as slate"
   ]
  },
  {
   "cell_type": "code",
   "execution_count": 60,
   "metadata": {},
   "outputs": [],
   "source": [
    "with open(\"testfile.txt\", 'rb') as f:     \n",
    "    extracted_text = slate.PDF(f)\n",
    "    f.close()"
   ]
  },
  {
   "cell_type": "code",
   "execution_count": 61,
   "metadata": {},
   "outputs": [
    {
     "data": {
      "text/plain": [
       "['YouTuber With 390.000+ Followers. \\nInfluencer of The Year 2017 \\n\\nProfessional Web Developer. \\n\\nFirst Bosnian YouTube Creator with 280.000+ subscribers on my \\nchannel, \\nand 50+ million \\nviews. \\nProfessional Web Developer since 2009. \\n| work with modern web \\ntechnologies to achieve simple but powerful solutions. \\nMicrosoft \\nCertified \\nIT Professional and Solutions Developer (MCITP & MCSD). \\n\\nfeneled \\n\\nDee \\n\\neee \\n\\nTenens) \\noe \\nSerbian \\n\\n(Full \\n\\nPeres \\n\\nSer eo)   Amir Hadzié \\nSummary \\nExperience \\n\\net ied \\nrr \\nSee \\n(tio) \\ni \\n\\nYouTube \\nEntertainer \\nMarch 2010 - Present \\n\\nAmilma Digital \\nFounder \\n& CEO \\nMay 2009 - October \\n\\nMicrosoft \\nMicrosoft Certified \\n\\nEducation \\n\\nCe eat \\n\\nEntertainment \\n\\nProf \\n\\n2016 \\n\\n(7 years 6 months) \\n\\nDASTO semtel \\nNetwork Administrator \\nMay 2011 \\n- September \\n2011 \\n(5 months) \\nIntemet provider support \\nand management. \\nBrand development, \\nweb site \\ntraffic \\ngrowth, web site \\nUl and \\nadvertising revenue. \\nDeveloped brand strategy \\nand statistics systems. \\n\\nIT Professional \\n\\n& \\n\\nSolutions Developer, \\n\\nInformation \\n\\n \\n\\x0c']"
      ]
     },
     "execution_count": 61,
     "metadata": {},
     "output_type": "execute_result"
    }
   ],
   "source": [
    "extracted_text"
   ]
  },
  {
   "cell_type": "code",
   "execution_count": null,
   "metadata": {},
   "outputs": [],
   "source": []
  }
 ],
 "metadata": {
  "kernelspec": {
   "display_name": "Python 3",
   "language": "python",
   "name": "python3"
  },
  "language_info": {
   "codemirror_mode": {
    "name": "ipython",
    "version": 3
   },
   "file_extension": ".py",
   "mimetype": "text/x-python",
   "name": "python",
   "nbconvert_exporter": "python",
   "pygments_lexer": "ipython3",
   "version": "3.8.1"
  }
 },
 "nbformat": 4,
 "nbformat_minor": 4
}

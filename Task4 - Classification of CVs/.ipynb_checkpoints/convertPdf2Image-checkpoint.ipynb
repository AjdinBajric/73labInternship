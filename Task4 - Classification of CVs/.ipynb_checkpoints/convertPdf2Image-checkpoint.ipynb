{
 "cells": [
  {
   "cell_type": "code",
   "execution_count": 35,
   "metadata": {},
   "outputs": [],
   "source": [
    "from os.path import isfile, join\n",
    "import tempfile\n",
    "from pdf2image import convert_from_path, convert_from_bytes\n",
    "import time\n",
    "from PIL import Image\n"
   ]
  },
  {
   "cell_type": "markdown",
   "metadata": {},
   "source": [
    "## Convert pdf files to images"
   ]
  },
  {
   "cell_type": "code",
   "execution_count": 41,
   "metadata": {},
   "outputs": [],
   "source": [
    "def concatenateImages(images, destination):\n",
    "    \n",
    "    new_im = Image.new('RGB', (444,95))\n",
    "    \n",
    "    widths, heights = zip(*(i.size for i in images))\n",
    "\n",
    "    total_width = sum(widths)\n",
    "    max_height = max(heights)\n",
    "\n",
    "    new_im = Image.new('RGB', (total_width, max_height))\n",
    "\n",
    "    x_offset = 0\n",
    "    \n",
    "    for im in images:\n",
    "        \n",
    "        new_im.paste(im, (x_offset,0))\n",
    "        x_offset += im.size[0]\n",
    "\n",
    "    new_im.save(destination, 'JPEG')"
   ]
  },
  {
   "cell_type": "code",
   "execution_count": 42,
   "metadata": {},
   "outputs": [],
   "source": [
    "def convertPDF2Img(source, destination):\n",
    "    \n",
    "    onlyfiles = [f for f in listdir(source) if isfile(join(source, f))]\n",
    "\n",
    "    for file in onlyfiles:\n",
    "        images = convert_from_bytes(open(f'{source}/{file}', 'rb').read())\n",
    "            \n",
    "        concatenateImages(images, f'{destination}/{file[:-4]}.jpg')\n"
   ]
  },
  {
   "cell_type": "code",
   "execution_count": 43,
   "metadata": {},
   "outputs": [
    {
     "name": "stdout",
     "output_type": "stream",
     "text": [
      "98.44232368469238\n"
     ]
    }
   ],
   "source": [
    "start_time = time.time()\n",
    "\n",
    "convertPDF2Img('Bad', 'badImages') \n",
    "convertPDF2Img('Good', 'goodImages') \n",
    "\n",
    "print(time.time() - start_time)"
   ]
  },
  {
   "cell_type": "markdown",
   "metadata": {},
   "source": [
    "# Train CNN"
   ]
  },
  {
   "cell_type": "code",
   "execution_count": null,
   "metadata": {},
   "outputs": [],
   "source": []
  },
  {
   "cell_type": "code",
   "execution_count": null,
   "metadata": {},
   "outputs": [],
   "source": []
  }
 ],
 "metadata": {
  "kernelspec": {
   "display_name": "Python 3",
   "language": "python",
   "name": "python3"
  },
  "language_info": {
   "codemirror_mode": {
    "name": "ipython",
    "version": 3
   },
   "file_extension": ".py",
   "mimetype": "text/x-python",
   "name": "python",
   "nbconvert_exporter": "python",
   "pygments_lexer": "ipython3",
   "version": "3.6.9"
  }
 },
 "nbformat": 4,
 "nbformat_minor": 4
}

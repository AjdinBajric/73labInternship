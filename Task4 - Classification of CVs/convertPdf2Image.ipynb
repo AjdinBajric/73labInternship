{
 "cells": [
  {
   "cell_type": "code",
   "execution_count": 48,
   "metadata": {},
   "outputs": [],
   "source": [
    "from os.path import isfile, join\n",
    "from os import listdir\n",
    "import tempfile\n",
    "from pdf2image import convert_from_path, convert_from_bytes\n",
    "import time\n",
    "from PIL import Image\n",
    "import pandas as pd\n",
    "import numpy as np\n",
    "from sklearn.model_selection import train_test_split"
   ]
  },
  {
   "cell_type": "markdown",
   "metadata": {},
   "source": [
    "## Convert pdf files to images"
   ]
  },
  {
   "cell_type": "code",
   "execution_count": 41,
   "metadata": {},
   "outputs": [],
   "source": [
    "def concatenateImages(images, destination):\n",
    "    \n",
    "    new_im = Image.new('RGB', (444,95))\n",
    "    \n",
    "    widths, heights = zip(*(i.size for i in images))\n",
    "\n",
    "    total_width = sum(widths)\n",
    "    max_height = max(heights)\n",
    "\n",
    "    new_im = Image.new('RGB', (total_width, max_height))\n",
    "\n",
    "    x_offset = 0\n",
    "    \n",
    "    for im in images:\n",
    "        \n",
    "        new_im.paste(im, (x_offset,0))\n",
    "        x_offset += im.size[0]\n",
    "\n",
    "    new_im.save(destination, 'JPEG')"
   ]
  },
  {
   "cell_type": "code",
   "execution_count": 42,
   "metadata": {},
   "outputs": [],
   "source": [
    "def convertPDF2Img(source, destination):\n",
    "    \n",
    "    onlyfiles = [f for f in listdir(source) if isfile(join(source, f))]\n",
    "\n",
    "    for file in onlyfiles:\n",
    "        images = convert_from_bytes(open(f'{source}/{file}', 'rb').read())\n",
    "            \n",
    "        concatenateImages(images, f'{destination}/{file[:-4]}.jpg')\n"
   ]
  },
  {
   "cell_type": "code",
   "execution_count": 43,
   "metadata": {},
   "outputs": [
    {
     "name": "stdout",
     "output_type": "stream",
     "text": [
      "98.44232368469238\n"
     ]
    }
   ],
   "source": [
    "start_time = time.time()\n",
    "\n",
    "convertPDF2Img('Bad', 'badImages') \n",
    "convertPDF2Img('Good', 'goodImages') \n",
    "\n",
    "print(time.time() - start_time)"
   ]
  },
  {
   "cell_type": "markdown",
   "metadata": {},
   "source": [
    "\n",
    "# Prepare Data For CNN"
   ]
  },
  {
   "cell_type": "code",
   "execution_count": 22,
   "metadata": {},
   "outputs": [],
   "source": [
    "badImages = [f for f in listdir('Bad')] #array with names of a bad images\n",
    "goodImages = [f for f in listdir('Good')] #array with names of a good images"
   ]
  },
  {
   "cell_type": "code",
   "execution_count": 54,
   "metadata": {},
   "outputs": [],
   "source": [
    "badImagesDataset = pd.DataFrame({\n",
    "    'Name of a file': badImages ,\n",
    "    'GoodOrBad': [0] * len(badImages)\n",
    "})"
   ]
  },
  {
   "cell_type": "code",
   "execution_count": 55,
   "metadata": {},
   "outputs": [],
   "source": [
    "goodImagesDataset = pd.DataFrame({\n",
    "    'Name of a file': goodImages ,\n",
    "    'GoodOrBad': [1] * len(goodImages),\n",
    "})"
   ]
  },
  {
   "cell_type": "code",
   "execution_count": 56,
   "metadata": {},
   "outputs": [],
   "source": [
    "dataset = badImagesDataset.append(goodImagesDataset) #Creating final dataset with all images"
   ]
  },
  {
   "cell_type": "code",
   "execution_count": 57,
   "metadata": {},
   "outputs": [
    {
     "data": {
      "text/html": [
       "<div>\n",
       "<style scoped>\n",
       "    .dataframe tbody tr th:only-of-type {\n",
       "        vertical-align: middle;\n",
       "    }\n",
       "\n",
       "    .dataframe tbody tr th {\n",
       "        vertical-align: top;\n",
       "    }\n",
       "\n",
       "    .dataframe thead th {\n",
       "        text-align: right;\n",
       "    }\n",
       "</style>\n",
       "<table border=\"1\" class=\"dataframe\">\n",
       "  <thead>\n",
       "    <tr style=\"text-align: right;\">\n",
       "      <th></th>\n",
       "      <th>Name of a file</th>\n",
       "      <th>GoodOrBad</th>\n",
       "    </tr>\n",
       "  </thead>\n",
       "  <tbody>\n",
       "    <tr>\n",
       "      <th>0</th>\n",
       "      <td>KPMG_Thomas Yap_AM.pdf</td>\n",
       "      <td>1</td>\n",
       "    </tr>\n",
       "    <tr>\n",
       "      <th>1</th>\n",
       "      <td>Rodyk_Nelson Lee_Sr Cosec.pdf</td>\n",
       "      <td>0</td>\n",
       "    </tr>\n",
       "    <tr>\n",
       "      <th>2</th>\n",
       "      <td>Pos Logistics_Norashra Omar_Finance VP.pdf</td>\n",
       "      <td>0</td>\n",
       "    </tr>\n",
       "    <tr>\n",
       "      <th>3</th>\n",
       "      <td>Zhenghe Capital_Rainbow Chen_Office Manager.pdf</td>\n",
       "      <td>0</td>\n",
       "    </tr>\n",
       "    <tr>\n",
       "      <th>4</th>\n",
       "      <td>Vertex Venture_Ocvia Freriana_Compliance Lead.pdf</td>\n",
       "      <td>0</td>\n",
       "    </tr>\n",
       "    <tr>\n",
       "      <th>...</th>\n",
       "      <td>...</td>\n",
       "      <td>...</td>\n",
       "    </tr>\n",
       "    <tr>\n",
       "      <th>95</th>\n",
       "      <td>Harneys_Serene Lai_Cosec Officer.pdf</td>\n",
       "      <td>1</td>\n",
       "    </tr>\n",
       "    <tr>\n",
       "      <th>96</th>\n",
       "      <td>Manulife_Kenneth Lin_Manager.pdf</td>\n",
       "      <td>1</td>\n",
       "    </tr>\n",
       "    <tr>\n",
       "      <th>97</th>\n",
       "      <td>Evalueserve_SHRIMALI Shipra_Sr Equity Research...</td>\n",
       "      <td>1</td>\n",
       "    </tr>\n",
       "    <tr>\n",
       "      <th>98</th>\n",
       "      <td>Guard Capital_Godiva Tse_Office Manager.pdf</td>\n",
       "      <td>1</td>\n",
       "    </tr>\n",
       "    <tr>\n",
       "      <th>99</th>\n",
       "      <td>FCL Mgmt_Stacia Heng_Sr Accounts.pdf</td>\n",
       "      <td>0</td>\n",
       "    </tr>\n",
       "  </tbody>\n",
       "</table>\n",
       "<p>100 rows × 2 columns</p>\n",
       "</div>"
      ],
      "text/plain": [
       "                                       Name of a file  GoodOrBad\n",
       "0                              KPMG_Thomas Yap_AM.pdf          1\n",
       "1                       Rodyk_Nelson Lee_Sr Cosec.pdf          0\n",
       "2          Pos Logistics_Norashra Omar_Finance VP.pdf          0\n",
       "3     Zhenghe Capital_Rainbow Chen_Office Manager.pdf          0\n",
       "4   Vertex Venture_Ocvia Freriana_Compliance Lead.pdf          0\n",
       "..                                                ...        ...\n",
       "95               Harneys_Serene Lai_Cosec Officer.pdf          1\n",
       "96                   Manulife_Kenneth Lin_Manager.pdf          1\n",
       "97  Evalueserve_SHRIMALI Shipra_Sr Equity Research...          1\n",
       "98        Guard Capital_Godiva Tse_Office Manager.pdf          1\n",
       "99               FCL Mgmt_Stacia Heng_Sr Accounts.pdf          0\n",
       "\n",
       "[100 rows x 2 columns]"
      ]
     },
     "execution_count": 57,
     "metadata": {},
     "output_type": "execute_result"
    }
   ],
   "source": [
    "dataset.sample(frac = 1).reset_index(drop = True) #Shuffle dataset "
   ]
  },
  {
   "cell_type": "code",
   "execution_count": 58,
   "metadata": {},
   "outputs": [],
   "source": [
    "X = dataset[\"Name of a file\"]\n",
    "y = dataset[\"GoodOrBad\"]\n",
    "\n",
    "X_train, X_test, y_train, y_test = train_test_split(X, y, test_size = 0.33, random_state = 42)"
   ]
  },
  {
   "cell_type": "code",
   "execution_count": 62,
   "metadata": {},
   "outputs": [
    {
     "name": "stdout",
     "output_type": "stream",
     "text": [
      "28                 FCL Mgmt_Stacia Heng_Sr Accounts.pdf\n",
      "43                         Brotzeit_Zara Zhang_FP_A.pdf\n",
      "5               Paulson_Co_Ruby Shiu_Office Manager.pdf\n",
      "16               Alibaba_Chester Chow_Cosec Officer.pdf\n",
      "15                          Chanel_Penny Wong_AP GL.pdf\n",
      "                            ...                        \n",
      "10                      UBS_Shawn Koh_CDD Assurance.pdf\n",
      "21    KPMG_Savita Sharma_Forensic Assistant Manager.pdf\n",
      "14                    Equiom_Cyann So_Trust Officer.pdf\n",
      "42                       Xander_Rohit Khandelwal_VP.pdf\n",
      "1                                KPMG_Thomas Yap_AM.pdf\n",
      "Name: Name of a file, Length: 67, dtype: object\n",
      "28    0\n",
      "43    1\n",
      "5     0\n",
      "16    1\n",
      "15    1\n",
      "     ..\n",
      "10    1\n",
      "21    1\n",
      "14    0\n",
      "42    1\n",
      "1     1\n",
      "Name: GoodOrBad, Length: 67, dtype: int64\n"
     ]
    }
   ],
   "source": [
    "for image, in X_train, y_train:\n",
    "    print(image)"
   ]
  },
  {
   "cell_type": "code",
   "execution_count": null,
   "metadata": {},
   "outputs": [],
   "source": []
  },
  {
   "cell_type": "code",
   "execution_count": null,
   "metadata": {},
   "outputs": [],
   "source": []
  }
 ],
 "metadata": {
  "kernelspec": {
   "display_name": "Python 3",
   "language": "python",
   "name": "python3"
  },
  "language_info": {
   "codemirror_mode": {
    "name": "ipython",
    "version": 3
   },
   "file_extension": ".py",
   "mimetype": "text/x-python",
   "name": "python",
   "nbconvert_exporter": "python",
   "pygments_lexer": "ipython3",
   "version": "3.6.9"
  }
 },
 "nbformat": 4,
 "nbformat_minor": 4
}

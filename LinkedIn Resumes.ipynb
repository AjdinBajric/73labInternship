{
 "cells": [
  {
   "cell_type": "markdown",
   "metadata": {},
   "source": [
    "# Data Wrangling\n"
   ]
  },
  {
   "cell_type": "markdown",
   "metadata": {},
   "source": [
    "## Wrong output cases:\n",
    "- Output is not valid if you worked in one company on different positions (Examples: FaikC, OmarD) **`DONE`**\n",
    "- Output is not valid if info part is divided between two pages (Example: NedimC) **`DONE`**\n",
    "\n",
    "Those are tricky ones, but I am going to figure it out. "
   ]
  },
  {
   "cell_type": "code",
   "execution_count": 34,
   "metadata": {},
   "outputs": [],
   "source": [
    "import spacy\n",
    "import pandas as pd\n",
    "import re\n",
    "import en_core_web_sm\n",
    "import slate3k as slate"
   ]
  },
  {
   "cell_type": "code",
   "execution_count": 35,
   "metadata": {},
   "outputs": [],
   "source": [
    "def pdf_to_text(name):\n",
    "    \"\"\"\n",
    "    Returns extracted text from pdf as list of strings. \n",
    "    Each element of list is one page of pdf document.\n",
    "\n",
    "    \"\"\"   \n",
    "    with open('Resumes/LinkedIn/' + name + '.pdf', 'rb') as f:\n",
    "        extracted_text = slate.PDF(f)\n",
    "        f.close()\n",
    "    \n",
    "    return extracted_text"
   ]
  },
  {
   "cell_type": "markdown",
   "metadata": {},
   "source": [
    "### Read pdf and concatenate pages in one string"
   ]
  },
  {
   "cell_type": "code",
   "execution_count": 36,
   "metadata": {},
   "outputs": [],
   "source": [
    "nlp = en_core_web_sm.load() #load small spacy model"
   ]
  },
  {
   "cell_type": "code",
   "execution_count": 37,
   "metadata": {},
   "outputs": [],
   "source": [
    "def concat_pages(filename):\n",
    "    \"\"\"Concatenate pages in one string, and returns that string\"\"\"\n",
    "    cv = pdf_to_text(filename)\n",
    "    text = \"\"\n",
    "    \n",
    "    for page in cv:\n",
    "        text+=page\n",
    "    \n",
    "    return text"
   ]
  },
  {
   "cell_type": "code",
   "execution_count": 38,
   "metadata": {},
   "outputs": [],
   "source": [
    "import cv2\n",
    "import pytesseract\n",
    "pytesseract.pytesseract.tesseract_cmd = r'C:\\Program Files\\Tesseract-OCR\\tesseract.exe'\n",
    "\n",
    "img = cv2.imread('Resumes/AmirH.png')\n",
    "text = pytesseract.image_to_string(img)\n",
    "doc = nlp(text)"
   ]
  },
  {
   "cell_type": "code",
   "execution_count": 39,
   "metadata": {
    "scrolled": true
   },
   "outputs": [],
   "source": [
    "#doc = nlp(concat_pages(\"ResadZ\"))"
   ]
  },
  {
   "cell_type": "markdown",
   "metadata": {},
   "source": [
    "**Here is the output of a pdf file**"
   ]
  },
  {
   "cell_type": "code",
   "execution_count": 40,
   "metadata": {},
   "outputs": [],
   "source": [
    "text = doc.text"
   ]
  },
  {
   "cell_type": "code",
   "execution_count": 41,
   "metadata": {},
   "outputs": [
    {
     "data": {
      "text/plain": [
       "'feneled\\n\\nDee\\n\\neee\\n\\nTenens)\\noe\\nSerbian (Full Prof\\n\\nPeres\\n\\net ied\\n\\nrr See\\n\\n(tio)\\n\\ni Ce eat\\nSer eo)\\n\\n \\n\\nAmir Hadzié\\nYouTuber With 390.000+ Followers. Professional Web Developer.\\nInfluencer of The Year 2017\\n\\nSummary\\n\\nFirst Bosnian YouTube Creator with 280.000+ subscribers on my\\nchannel, and 50+ million views.\\n\\nProfessional Web Developer since 2009. | work with modern web\\ntechnologies to achieve simple but powerful solutions. Microsoft\\nCertified IT Professional and Solutions Developer (MCITP & MCSD).\\n\\nExperience\\n\\nYouTube\\nEntertainer\\nMarch 2010 - Present\\n\\nEntertainment\\n\\nAmilma Digital\\nFounder & CEO\\nMay 2009 - October 2016 (7 years 6 months)\\n\\nDASTO semtel\\nNetwork Administrator\\nMay 2011 - September 2011 (5 months)\\n\\nIntemet provider support and management. Brand development, web site\\ntraffic growth, web site Ul and advertising revenue. Developed brand strategy\\nand statistics systems.\\n\\nEducation\\n\\nMicrosoft\\nMicrosoft Certified IT Professional & Solutions Developer, Information'"
      ]
     },
     "execution_count": 41,
     "metadata": {},
     "output_type": "execute_result"
    }
   ],
   "source": [
    "text"
   ]
  },
  {
   "cell_type": "code",
   "execution_count": 42,
   "metadata": {},
   "outputs": [],
   "source": [
    "def clean_string(text):\n",
    "\n",
    "    '''\n",
    "    Remove part of text which contains something like this:\n",
    "        Page 2 of 3\\n\\n\\xa0\\n\\xa0\\n\\xa0\\n\\x0c\n",
    "        \n",
    "    This part does not contain any valuable information, and sometimes occures wrong answer in the output.\n",
    "    '''\n",
    "    \n",
    "    pdf = text\n",
    "    end = 0\n",
    "    result = \"\"\n",
    "    \n",
    "    expression = r\"Page \\d of \\d\\n\\n\\xa0\\n\\xa0\\n\\xa0\\n\\x0c\" \n",
    "    \n",
    "    for match in re.findall(expression, text): #method `findall` returns all matched words as an array\n",
    "        word = re.search(match, pdf)  #search returns start and the end of a word\n",
    "        pdf = pdf[word.end():] #    pdf = pdf[word.end():] #search returns result after first match, so on the next iteration text file should be from the end of the word, to the end of a document\n",
    "        result+=text[end:word.start() + end] #read text from the end of a last word to the start of the new word \n",
    "        end += word.end()\n",
    "    \n",
    "    return result"
   ]
  },
  {
   "cell_type": "code",
   "execution_count": 43,
   "metadata": {},
   "outputs": [],
   "source": [
    "text = clean_string(text)"
   ]
  },
  {
   "cell_type": "markdown",
   "metadata": {},
   "source": [
    "**Here I tried to get start and end of keywords**"
   ]
  },
  {
   "cell_type": "code",
   "execution_count": 44,
   "metadata": {
    "scrolled": true
   },
   "outputs": [],
   "source": [
    "def get_companies(text, expression):\n",
    "    \n",
    "    \"\"\"\n",
    "    Function finds start and the end of a pattern, and put those numbers in a list.\n",
    "    List of those integers is being returned.\n",
    "    \"\"\"\n",
    "    keys = []\n",
    "    pdf = text\n",
    "    end = 0\n",
    "    \n",
    "    for match in re.findall(expression, text):\n",
    "        word = re.search(expression, pdf)\n",
    "        pdf = pdf[word.end():]\n",
    "        keys.append([word.start() + end, word.end() + end])\n",
    "        end += word.end() \n",
    "    \n",
    "    return keys"
   ]
  },
  {
   "cell_type": "code",
   "execution_count": 45,
   "metadata": {},
   "outputs": [],
   "source": [
    "present_keywords = get_companies(text, r\"\\n\\n.+\\d{1,4}\\xa0-\\xa0Present\\xa0\\n\")"
   ]
  },
  {
   "cell_type": "markdown",
   "metadata": {},
   "source": [
    "## Get company and title"
   ]
  },
  {
   "cell_type": "code",
   "execution_count": 46,
   "metadata": {},
   "outputs": [],
   "source": [
    "def get_info(start):\n",
    "    \"\"\"\n",
    "    This function returns company and title.\n",
    "    \n",
    "    Parameters:\n",
    "    start (int): Start of a word\n",
    "    \n",
    "    Returns:\n",
    "    list[str, str]: [Name of the company, Title in that company]\n",
    "    \n",
    "    \"\"\"\n",
    "    \n",
    "    string = \"\"\n",
    "    for i in reversed(range(start)):\n",
    "        string+=text[i]\n",
    "        if(\"\\n\\n\" in string[::-1]): #reverse an array and check for `\\n\\n`(end of a word) part in the string. \n",
    "            title = string[::-1].strip() #remove /n\n",
    "            \n",
    "            string = \"\"\n",
    "            for j in reversed(range(i)):\n",
    "                string+=text[j]\n",
    "                if(\"\\n\\n\" in string[::-1]):         \n",
    "                    company = string[::-1].strip()\n",
    "                    return [company, title]\n",
    "                            "
   ]
  },
  {
   "cell_type": "code",
   "execution_count": 47,
   "metadata": {},
   "outputs": [],
   "source": [
    "companies = []\n",
    "\n",
    "for key in present_keywords:\n",
    "    companies.append(get_info(key[0])) #get company and title for every date"
   ]
  },
  {
   "cell_type": "code",
   "execution_count": 48,
   "metadata": {},
   "outputs": [],
   "source": [
    "present_dates = [text[keyword[0]:keyword[1]].strip() for keyword in present_keywords]\n",
    "\n",
    "#This part above is just made for second dataframe. It can be deleted.\n",
    "\n",
    "df = pd.DataFrame({\n",
    "    \"Company\": [row[0] for row in companies],\n",
    "    \"Title\": [row[1] for row in companies],\n",
    "    \"Date\": present_dates\n",
    "    \n",
    "})"
   ]
  },
  {
   "cell_type": "code",
   "execution_count": 49,
   "metadata": {
    "scrolled": true
   },
   "outputs": [
    {
     "data": {
      "text/html": [
       "<div>\n",
       "<style scoped>\n",
       "    .dataframe tbody tr th:only-of-type {\n",
       "        vertical-align: middle;\n",
       "    }\n",
       "\n",
       "    .dataframe tbody tr th {\n",
       "        vertical-align: top;\n",
       "    }\n",
       "\n",
       "    .dataframe thead th {\n",
       "        text-align: right;\n",
       "    }\n",
       "</style>\n",
       "<table border=\"1\" class=\"dataframe\">\n",
       "  <thead>\n",
       "    <tr style=\"text-align: right;\">\n",
       "      <th></th>\n",
       "      <th>Company</th>\n",
       "      <th>Title</th>\n",
       "      <th>Date</th>\n",
       "    </tr>\n",
       "  </thead>\n",
       "  <tbody>\n",
       "  </tbody>\n",
       "</table>\n",
       "</div>"
      ],
      "text/plain": [
       "Empty DataFrame\n",
       "Columns: [Company, Title, Date]\n",
       "Index: []"
      ]
     },
     "execution_count": 49,
     "metadata": {},
     "output_type": "execute_result"
    }
   ],
   "source": [
    "df"
   ]
  },
  {
   "cell_type": "markdown",
   "metadata": {},
   "source": [
    "## Get companies from past"
   ]
  },
  {
   "cell_type": "code",
   "execution_count": 67,
   "metadata": {},
   "outputs": [],
   "source": [
    "past_companies = get_companies(text, r'\\n\\n.+\\d{1,4}\\xa0-\\xa0.+\\d{1,4}\\xa0.+\\n')"
   ]
  },
  {
   "cell_type": "code",
   "execution_count": 68,
   "metadata": {},
   "outputs": [],
   "source": [
    "for word in past_companies:\n",
    "    companies.append(get_info(word[0]))"
   ]
  },
  {
   "cell_type": "code",
   "execution_count": 69,
   "metadata": {},
   "outputs": [],
   "source": [
    "past_dates = [text[keyword[0]:keyword[1]].strip() for keyword in past_companies]\n",
    "present_dates += past_dates\n",
    "\n",
    "#This part above is just made for dataframe below. It can be deleted.\n",
    "\n",
    "df = pd.DataFrame({\n",
    "    \"Company\": [row[0] for row in companies],\n",
    "    \"Title\": [row[1] for row in companies],\n",
    "    \"Date\": present_dates\n",
    "    \n",
    "})"
   ]
  },
  {
   "cell_type": "code",
   "execution_count": 70,
   "metadata": {},
   "outputs": [
    {
     "data": {
      "text/html": [
       "<div>\n",
       "<style scoped>\n",
       "    .dataframe tbody tr th:only-of-type {\n",
       "        vertical-align: middle;\n",
       "    }\n",
       "\n",
       "    .dataframe tbody tr th {\n",
       "        vertical-align: top;\n",
       "    }\n",
       "\n",
       "    .dataframe thead th {\n",
       "        text-align: right;\n",
       "    }\n",
       "</style>\n",
       "<table border=\"1\" class=\"dataframe\">\n",
       "  <thead>\n",
       "    <tr style=\"text-align: right;\">\n",
       "      <th></th>\n",
       "      <th>Company</th>\n",
       "      <th>Title</th>\n",
       "      <th>Date</th>\n",
       "    </tr>\n",
       "  </thead>\n",
       "  <tbody>\n",
       "  </tbody>\n",
       "</table>\n",
       "</div>"
      ],
      "text/plain": [
       "Empty DataFrame\n",
       "Columns: [Company, Title, Date]\n",
       "Index: []"
      ]
     },
     "execution_count": 70,
     "metadata": {},
     "output_type": "execute_result"
    }
   ],
   "source": [
    "df"
   ]
  },
  {
   "cell_type": "markdown",
   "metadata": {},
   "source": [
    "# Solving specific cases"
   ]
  },
  {
   "cell_type": "code",
   "execution_count": 54,
   "metadata": {},
   "outputs": [],
   "source": [
    "titles = [row[1] for row in companies]\n",
    "companies = [row[0] for row in companies]"
   ]
  },
  {
   "cell_type": "code",
   "execution_count": 55,
   "metadata": {},
   "outputs": [],
   "source": [
    "def find_keywords(text):\n",
    "    \"\"\"\n",
    "    This function should find all parts in text that are like this:\n",
    "        \\n\\n2 years 11 months\\n\\n\n",
    "    \n",
    "    If statements fix some inaccuracies of regex.\n",
    "    \n",
    "    Parameters:\n",
    "    text (string): Text of a pdf\n",
    "    \n",
    "    Returns:\n",
    "    matched_words (list): Matched words in list. Those words mustn't be (\"less than a year\", \"2016-2020 (4 years)\") or something like that. \n",
    "    \"\"\"\n",
    "\n",
    "    expression = r'\\n\\n\\d.+\\n\\n'\n",
    "    matched_words = []\n",
    "    \n",
    "    for match in re.findall(expression, text):\n",
    "        doc = nlp(match)\n",
    "        for token in doc:\n",
    "            if(token.lemma_ == \"less\" or token.lemma_ == \"-\"):\n",
    "                break\n",
    "            if(token.lemma_ == \"year\" or token.lemma_ == \"month\"):\n",
    "                matched_words.append(match)\n",
    "                break\n",
    "                \n",
    "    return matched_words"
   ]
  },
  {
   "cell_type": "code",
   "execution_count": 56,
   "metadata": {},
   "outputs": [],
   "source": [
    "matched_words = find_keywords(text)"
   ]
  },
  {
   "cell_type": "code",
   "execution_count": 57,
   "metadata": {},
   "outputs": [
    {
     "data": {
      "text/plain": [
       "[]"
      ]
     },
     "execution_count": 57,
     "metadata": {},
     "output_type": "execute_result"
    }
   ],
   "source": [
    "matched_words"
   ]
  },
  {
   "cell_type": "code",
   "execution_count": 58,
   "metadata": {
    "scrolled": false
   },
   "outputs": [],
   "source": [
    "def get_dates_below(matched_words):\n",
    "    \"\"\"\n",
    "    As you can see in the text, after those keywords there are some dates. If you add first N of those\n",
    "    dates below you should get value which is equal to the keyword. Example:\n",
    "    \n",
    "    Keyword: 2 years 11 months \n",
    "    Dates below: \n",
    "    - August 2013 - April 2014 (9 months)\n",
    "    - June 2011 - August 2013 (2 years 3 months) \n",
    "    - March 2010 - June 2011 (1 year 4 months) \n",
    "    - June 2008 - May 2009 (1 year) \n",
    "    ...\n",
    "    \n",
    "    If you add first two dates, you can realize that the person in that period worked in the same company.\n",
    "    \n",
    "    Parameters:\n",
    "    matched_words (list): keywords which met the rules\n",
    "    \n",
    "    Returns:\n",
    "    array (list): dates below keyword\n",
    "    pom (list): start and the end of dates below keyword\n",
    "    \n",
    "    \"\"\"\n",
    "\n",
    "    keys = []\n",
    "    end = 0\n",
    "    pdf = text\n",
    "    array = []\n",
    "    pom = []\n",
    "    m = []\n",
    "    position_of_keyword = []\n",
    "    \n",
    "    for matched_word in matched_words:\n",
    "        for match in re.findall(matched_word, text):\n",
    "            keys = []\n",
    "            word = re.search(matched_word, pdf)\n",
    "            pdf = pdf[word.end():]\n",
    "            \n",
    "            keys.append([word.start() + end, word.end() + end])\n",
    "            position_of_keyword+=(keys)\n",
    "            end += word.end() \n",
    "            \n",
    "            array.append([text[key[0]:key[1]] for key in past_companies if keys[0][1] < key[1]])\n",
    "            pom.append([[key[0], key[1]] for key in past_companies if keys[0][1] < key[1]])\n",
    "    \n",
    "    return array, pom, position_of_keyword"
   ]
  },
  {
   "cell_type": "code",
   "execution_count": 59,
   "metadata": {},
   "outputs": [],
   "source": [
    "array, pom, position_of_keyword = get_dates_below(matched_words)"
   ]
  },
  {
   "cell_type": "code",
   "execution_count": 60,
   "metadata": {},
   "outputs": [
    {
     "data": {
      "text/plain": [
       "[]"
      ]
     },
     "execution_count": 60,
     "metadata": {},
     "output_type": "execute_result"
    }
   ],
   "source": [
    "array"
   ]
  },
  {
   "cell_type": "code",
   "execution_count": 61,
   "metadata": {},
   "outputs": [],
   "source": [
    "def get_period(array):\n",
    "    \"\"\"\n",
    "    Get part of matched words from brackets. Example:\n",
    "    \n",
    "    Matched word:\n",
    "    '\\n\\nAugust 2013\\xa0-\\xa0April 2014\\xa0(9 months)\\n'\n",
    "    Output should be:\n",
    "    (9 months)\n",
    "    \n",
    "    Parameters:\n",
    "    array (list): list of dates below keyword\n",
    "    \n",
    "    Returns:\n",
    "    array (list): list of elapsed times between dates\n",
    "    \n",
    "    \"\"\"\n",
    "\n",
    "    experience = []\n",
    "    expression = r'\\(.+\\)'\n",
    "\n",
    "    for i in range(len(array)):\n",
    "        for j in range(len(array[i])):\n",
    "            word = array[i][j]\n",
    "            for match in re.findall(expression, word):\n",
    "                array[i][j] = match\n",
    "    \n",
    "    return array"
   ]
  },
  {
   "cell_type": "code",
   "execution_count": 62,
   "metadata": {},
   "outputs": [],
   "source": [
    "array = get_period(array)"
   ]
  },
  {
   "cell_type": "code",
   "execution_count": 63,
   "metadata": {},
   "outputs": [
    {
     "data": {
      "text/plain": [
       "[]"
      ]
     },
     "execution_count": 63,
     "metadata": {},
     "output_type": "execute_result"
    }
   ],
   "source": [
    "array"
   ]
  },
  {
   "cell_type": "code",
   "execution_count": 64,
   "metadata": {},
   "outputs": [],
   "source": [
    "def get_year_and_month(word):\n",
    "    \"\"\"\n",
    "    Get year and month from preprocessed data.\n",
    "    \n",
    "    Parameters:\n",
    "    word (string): elapsed times between dates\n",
    "    \n",
    "    Returns:\n",
    "    (list): Number of years, Number of months\n",
    "    \"\"\"\n",
    "    doc = nlp(word)\n",
    "    month = 0\n",
    "    year = 0\n",
    "    word = 0\n",
    "    \n",
    "    for i in range(len(doc)):\n",
    "        if(doc[i].lemma_ == \"year\"):\n",
    "            year = doc[i-1]\n",
    "        if(doc[i].lemma_ == \"month\"):\n",
    "            month = doc[i-1]\n",
    "    return [int(str(year)), int(str(month))]"
   ]
  },
  {
   "cell_type": "code",
   "execution_count": 65,
   "metadata": {},
   "outputs": [],
   "source": [
    "for p in range(len(matched_words)):\n",
    "    \n",
    "    target_year = get_year_and_month(matched_words[p])[0]\n",
    "    target_month = get_year_and_month(matched_words[p])[1]\n",
    "    \n",
    "    month = 0\n",
    "    year = 0\n",
    "    \n",
    "    string = \"\"\n",
    "    \n",
    "    #Get name of a company. Name of a company is placed above keyword.\n",
    "    for i in reversed(range(position_of_keyword[p][0])):\n",
    "        string+=text[i]\n",
    "        if(\"\\n\\n\" in string[::-1]):\n",
    "            cmp = string[::-1].strip()\n",
    "            break\n",
    " \n",
    "    for j in range(len(array[p])):\n",
    "        \n",
    "        #Add months and years\n",
    "        month += get_year_and_month(array[p][j])[1]\n",
    "        year += get_year_and_month(array[p][j])[0]\n",
    "            \n",
    "        #Check if they are equal to the target_year and target_month\n",
    "        if(year + (month-1)//12 == target_year and (month-1)%12== target_month):\n",
    "            \n",
    "            #Chnage name of a company for all wrong answers\n",
    "            start = companies.index(matched_words[p].strip())\n",
    "            companies[start:start+j+1] = [cmp for i in range(j+1)]\n",
    "            break"
   ]
  },
  {
   "cell_type": "code",
   "execution_count": 66,
   "metadata": {},
   "outputs": [
    {
     "data": {
      "text/html": [
       "<div>\n",
       "<style scoped>\n",
       "    .dataframe tbody tr th:only-of-type {\n",
       "        vertical-align: middle;\n",
       "    }\n",
       "\n",
       "    .dataframe tbody tr th {\n",
       "        vertical-align: top;\n",
       "    }\n",
       "\n",
       "    .dataframe thead th {\n",
       "        text-align: right;\n",
       "    }\n",
       "</style>\n",
       "<table border=\"1\" class=\"dataframe\">\n",
       "  <thead>\n",
       "    <tr style=\"text-align: right;\">\n",
       "      <th></th>\n",
       "      <th>Company</th>\n",
       "      <th>Title</th>\n",
       "      <th>Date</th>\n",
       "    </tr>\n",
       "  </thead>\n",
       "  <tbody>\n",
       "  </tbody>\n",
       "</table>\n",
       "</div>"
      ],
      "text/plain": [
       "Empty DataFrame\n",
       "Columns: [Company, Title, Date]\n",
       "Index: []"
      ]
     },
     "execution_count": 66,
     "metadata": {},
     "output_type": "execute_result"
    }
   ],
   "source": [
    "df = pd.DataFrame({\n",
    "    \"Company\": companies,\n",
    "    \"Title\": titles,\n",
    "    \"Date\": present_dates\n",
    "    \n",
    "})\n",
    "\n",
    "df"
   ]
  },
  {
   "cell_type": "code",
   "execution_count": null,
   "metadata": {},
   "outputs": [],
   "source": []
  }
 ],
 "metadata": {
  "kernelspec": {
   "display_name": "Python 3",
   "language": "python",
   "name": "python3"
  },
  "language_info": {
   "codemirror_mode": {
    "name": "ipython",
    "version": 3
   },
   "file_extension": ".py",
   "mimetype": "text/x-python",
   "name": "python",
   "nbconvert_exporter": "python",
   "pygments_lexer": "ipython3",
   "version": "3.8.1"
  }
 },
 "nbformat": 4,
 "nbformat_minor": 2
}
